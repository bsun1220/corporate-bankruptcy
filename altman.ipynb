{
 "cells": [
  {
   "cell_type": "code",
   "execution_count": 2,
   "id": "d4a383d3-1d08-4df1-95b1-658c8eab9620",
   "metadata": {},
   "outputs": [],
   "source": [
    "import numpy as np\n",
    "import pandas as pd \n",
    "import matplotlib.pyplot as plt\n",
    "import seaborn as sns\n",
    "from yahoocalls import *"
   ]
  },
  {
   "cell_type": "code",
   "execution_count": 3,
   "id": "1b210522-5ba1-4c09-aaf6-5aecd684dbcd",
   "metadata": {},
   "outputs": [
    {
     "data": {
      "text/plain": [
       "-176.00653131305216"
      ]
     },
     "execution_count": 3,
     "metadata": {},
     "output_type": "execute_result"
    }
   ],
   "source": [
    "altman_calc(\"nptx\")"
   ]
  },
  {
   "cell_type": "code",
   "execution_count": 4,
   "id": "66bdcccd-3b42-4d9b-9f3b-528404ee0e49",
   "metadata": {},
   "outputs": [],
   "source": [
    "df = pd.read_csv(\"data.csv\")"
   ]
  },
  {
   "cell_type": "code",
   "execution_count": 5,
   "id": "43a43e16-9718-4852-98a4-6548fe8001f0",
   "metadata": {},
   "outputs": [
    {
     "data": {
      "text/html": [
       "<div>\n",
       "<style scoped>\n",
       "    .dataframe tbody tr th:only-of-type {\n",
       "        vertical-align: middle;\n",
       "    }\n",
       "\n",
       "    .dataframe tbody tr th {\n",
       "        vertical-align: top;\n",
       "    }\n",
       "\n",
       "    .dataframe thead th {\n",
       "        text-align: right;\n",
       "    }\n",
       "</style>\n",
       "<table border=\"1\" class=\"dataframe\">\n",
       "  <thead>\n",
       "    <tr style=\"text-align: right;\">\n",
       "      <th></th>\n",
       "      <th>Bankrupt?</th>\n",
       "      <th>ROA(C) before interest and depreciation before interest</th>\n",
       "      <th>ROA(A) before interest and % after tax</th>\n",
       "      <th>ROA(B) before interest and depreciation after tax</th>\n",
       "      <th>Operating Gross Margin</th>\n",
       "      <th>Realized Sales Gross Margin</th>\n",
       "      <th>Operating Profit Rate</th>\n",
       "      <th>Pre-tax net Interest Rate</th>\n",
       "      <th>After-tax net Interest Rate</th>\n",
       "      <th>Non-industry income and expenditure/revenue</th>\n",
       "      <th>...</th>\n",
       "      <th>Net Income to Total Assets</th>\n",
       "      <th>Total assets to GNP price</th>\n",
       "      <th>No-credit Interval</th>\n",
       "      <th>Gross Profit to Sales</th>\n",
       "      <th>Net Income to Stockholder's Equity</th>\n",
       "      <th>Liability to Equity</th>\n",
       "      <th>Degree of Financial Leverage (DFL)</th>\n",
       "      <th>Interest Coverage Ratio (Interest expense to EBIT)</th>\n",
       "      <th>Net Income Flag</th>\n",
       "      <th>Equity to Liability</th>\n",
       "    </tr>\n",
       "  </thead>\n",
       "  <tbody>\n",
       "    <tr>\n",
       "      <th>0</th>\n",
       "      <td>1</td>\n",
       "      <td>0.370594</td>\n",
       "      <td>0.424389</td>\n",
       "      <td>0.405750</td>\n",
       "      <td>0.601457</td>\n",
       "      <td>0.601457</td>\n",
       "      <td>0.998969</td>\n",
       "      <td>0.796887</td>\n",
       "      <td>0.808809</td>\n",
       "      <td>0.302646</td>\n",
       "      <td>...</td>\n",
       "      <td>0.716845</td>\n",
       "      <td>0.009219</td>\n",
       "      <td>0.622879</td>\n",
       "      <td>0.601453</td>\n",
       "      <td>0.827890</td>\n",
       "      <td>0.290202</td>\n",
       "      <td>0.026601</td>\n",
       "      <td>0.564050</td>\n",
       "      <td>1</td>\n",
       "      <td>0.016469</td>\n",
       "    </tr>\n",
       "    <tr>\n",
       "      <th>1</th>\n",
       "      <td>1</td>\n",
       "      <td>0.464291</td>\n",
       "      <td>0.538214</td>\n",
       "      <td>0.516730</td>\n",
       "      <td>0.610235</td>\n",
       "      <td>0.610235</td>\n",
       "      <td>0.998946</td>\n",
       "      <td>0.797380</td>\n",
       "      <td>0.809301</td>\n",
       "      <td>0.303556</td>\n",
       "      <td>...</td>\n",
       "      <td>0.795297</td>\n",
       "      <td>0.008323</td>\n",
       "      <td>0.623652</td>\n",
       "      <td>0.610237</td>\n",
       "      <td>0.839969</td>\n",
       "      <td>0.283846</td>\n",
       "      <td>0.264577</td>\n",
       "      <td>0.570175</td>\n",
       "      <td>1</td>\n",
       "      <td>0.020794</td>\n",
       "    </tr>\n",
       "    <tr>\n",
       "      <th>2</th>\n",
       "      <td>1</td>\n",
       "      <td>0.426071</td>\n",
       "      <td>0.499019</td>\n",
       "      <td>0.472295</td>\n",
       "      <td>0.601450</td>\n",
       "      <td>0.601364</td>\n",
       "      <td>0.998857</td>\n",
       "      <td>0.796403</td>\n",
       "      <td>0.808388</td>\n",
       "      <td>0.302035</td>\n",
       "      <td>...</td>\n",
       "      <td>0.774670</td>\n",
       "      <td>0.040003</td>\n",
       "      <td>0.623841</td>\n",
       "      <td>0.601449</td>\n",
       "      <td>0.836774</td>\n",
       "      <td>0.290189</td>\n",
       "      <td>0.026555</td>\n",
       "      <td>0.563706</td>\n",
       "      <td>1</td>\n",
       "      <td>0.016474</td>\n",
       "    </tr>\n",
       "    <tr>\n",
       "      <th>3</th>\n",
       "      <td>1</td>\n",
       "      <td>0.399844</td>\n",
       "      <td>0.451265</td>\n",
       "      <td>0.457733</td>\n",
       "      <td>0.583541</td>\n",
       "      <td>0.583541</td>\n",
       "      <td>0.998700</td>\n",
       "      <td>0.796967</td>\n",
       "      <td>0.808966</td>\n",
       "      <td>0.303350</td>\n",
       "      <td>...</td>\n",
       "      <td>0.739555</td>\n",
       "      <td>0.003252</td>\n",
       "      <td>0.622929</td>\n",
       "      <td>0.583538</td>\n",
       "      <td>0.834697</td>\n",
       "      <td>0.281721</td>\n",
       "      <td>0.026697</td>\n",
       "      <td>0.564663</td>\n",
       "      <td>1</td>\n",
       "      <td>0.023982</td>\n",
       "    </tr>\n",
       "    <tr>\n",
       "      <th>4</th>\n",
       "      <td>1</td>\n",
       "      <td>0.465022</td>\n",
       "      <td>0.538432</td>\n",
       "      <td>0.522298</td>\n",
       "      <td>0.598783</td>\n",
       "      <td>0.598783</td>\n",
       "      <td>0.998973</td>\n",
       "      <td>0.797366</td>\n",
       "      <td>0.809304</td>\n",
       "      <td>0.303475</td>\n",
       "      <td>...</td>\n",
       "      <td>0.795016</td>\n",
       "      <td>0.003878</td>\n",
       "      <td>0.623521</td>\n",
       "      <td>0.598782</td>\n",
       "      <td>0.839973</td>\n",
       "      <td>0.278514</td>\n",
       "      <td>0.024752</td>\n",
       "      <td>0.575617</td>\n",
       "      <td>1</td>\n",
       "      <td>0.035490</td>\n",
       "    </tr>\n",
       "    <tr>\n",
       "      <th>...</th>\n",
       "      <td>...</td>\n",
       "      <td>...</td>\n",
       "      <td>...</td>\n",
       "      <td>...</td>\n",
       "      <td>...</td>\n",
       "      <td>...</td>\n",
       "      <td>...</td>\n",
       "      <td>...</td>\n",
       "      <td>...</td>\n",
       "      <td>...</td>\n",
       "      <td>...</td>\n",
       "      <td>...</td>\n",
       "      <td>...</td>\n",
       "      <td>...</td>\n",
       "      <td>...</td>\n",
       "      <td>...</td>\n",
       "      <td>...</td>\n",
       "      <td>...</td>\n",
       "      <td>...</td>\n",
       "      <td>...</td>\n",
       "      <td>...</td>\n",
       "    </tr>\n",
       "    <tr>\n",
       "      <th>6591</th>\n",
       "      <td>1</td>\n",
       "      <td>0.418515</td>\n",
       "      <td>0.433984</td>\n",
       "      <td>0.461427</td>\n",
       "      <td>0.612750</td>\n",
       "      <td>0.612750</td>\n",
       "      <td>0.998864</td>\n",
       "      <td>0.796902</td>\n",
       "      <td>0.808857</td>\n",
       "      <td>0.302892</td>\n",
       "      <td>...</td>\n",
       "      <td>0.725750</td>\n",
       "      <td>0.000487</td>\n",
       "      <td>0.623730</td>\n",
       "      <td>0.612747</td>\n",
       "      <td>0.828067</td>\n",
       "      <td>0.292648</td>\n",
       "      <td>0.026666</td>\n",
       "      <td>0.564481</td>\n",
       "      <td>1</td>\n",
       "      <td>0.015620</td>\n",
       "    </tr>\n",
       "    <tr>\n",
       "      <th>6640</th>\n",
       "      <td>1</td>\n",
       "      <td>0.196802</td>\n",
       "      <td>0.211023</td>\n",
       "      <td>0.221425</td>\n",
       "      <td>0.598056</td>\n",
       "      <td>0.598056</td>\n",
       "      <td>0.998933</td>\n",
       "      <td>0.796144</td>\n",
       "      <td>0.808149</td>\n",
       "      <td>0.301423</td>\n",
       "      <td>...</td>\n",
       "      <td>0.519388</td>\n",
       "      <td>0.017588</td>\n",
       "      <td>0.623465</td>\n",
       "      <td>0.598051</td>\n",
       "      <td>0.856906</td>\n",
       "      <td>0.259280</td>\n",
       "      <td>0.026769</td>\n",
       "      <td>0.565052</td>\n",
       "      <td>1</td>\n",
       "      <td>0.003946</td>\n",
       "    </tr>\n",
       "    <tr>\n",
       "      <th>6641</th>\n",
       "      <td>1</td>\n",
       "      <td>0.337640</td>\n",
       "      <td>0.254307</td>\n",
       "      <td>0.378446</td>\n",
       "      <td>0.590842</td>\n",
       "      <td>0.590842</td>\n",
       "      <td>0.998869</td>\n",
       "      <td>0.796943</td>\n",
       "      <td>0.808897</td>\n",
       "      <td>0.302953</td>\n",
       "      <td>...</td>\n",
       "      <td>0.557733</td>\n",
       "      <td>0.000847</td>\n",
       "      <td>0.623302</td>\n",
       "      <td>0.590838</td>\n",
       "      <td>0.726888</td>\n",
       "      <td>0.336515</td>\n",
       "      <td>0.026777</td>\n",
       "      <td>0.565092</td>\n",
       "      <td>1</td>\n",
       "      <td>0.011797</td>\n",
       "    </tr>\n",
       "    <tr>\n",
       "      <th>6642</th>\n",
       "      <td>1</td>\n",
       "      <td>0.340028</td>\n",
       "      <td>0.344636</td>\n",
       "      <td>0.380213</td>\n",
       "      <td>0.581466</td>\n",
       "      <td>0.581466</td>\n",
       "      <td>0.998372</td>\n",
       "      <td>0.796292</td>\n",
       "      <td>0.808283</td>\n",
       "      <td>0.302857</td>\n",
       "      <td>...</td>\n",
       "      <td>0.641804</td>\n",
       "      <td>0.000376</td>\n",
       "      <td>0.623497</td>\n",
       "      <td>0.581461</td>\n",
       "      <td>0.765967</td>\n",
       "      <td>0.337315</td>\n",
       "      <td>0.026722</td>\n",
       "      <td>0.564807</td>\n",
       "      <td>1</td>\n",
       "      <td>0.011777</td>\n",
       "    </tr>\n",
       "    <tr>\n",
       "      <th>6728</th>\n",
       "      <td>1</td>\n",
       "      <td>0.492176</td>\n",
       "      <td>0.544320</td>\n",
       "      <td>0.533326</td>\n",
       "      <td>0.618105</td>\n",
       "      <td>0.618105</td>\n",
       "      <td>0.999083</td>\n",
       "      <td>0.797456</td>\n",
       "      <td>0.809338</td>\n",
       "      <td>0.303401</td>\n",
       "      <td>...</td>\n",
       "      <td>0.800780</td>\n",
       "      <td>0.000517</td>\n",
       "      <td>0.623737</td>\n",
       "      <td>0.618104</td>\n",
       "      <td>0.840533</td>\n",
       "      <td>0.282763</td>\n",
       "      <td>0.027033</td>\n",
       "      <td>0.566098</td>\n",
       "      <td>1</td>\n",
       "      <td>0.022209</td>\n",
       "    </tr>\n",
       "  </tbody>\n",
       "</table>\n",
       "<p>220 rows × 96 columns</p>\n",
       "</div>"
      ],
      "text/plain": [
       "      Bankrupt?   ROA(C) before interest and depreciation before interest  \\\n",
       "0             1                                           0.370594          \n",
       "1             1                                           0.464291          \n",
       "2             1                                           0.426071          \n",
       "3             1                                           0.399844          \n",
       "4             1                                           0.465022          \n",
       "...         ...                                                ...          \n",
       "6591          1                                           0.418515          \n",
       "6640          1                                           0.196802          \n",
       "6641          1                                           0.337640          \n",
       "6642          1                                           0.340028          \n",
       "6728          1                                           0.492176          \n",
       "\n",
       "       ROA(A) before interest and % after tax  \\\n",
       "0                                    0.424389   \n",
       "1                                    0.538214   \n",
       "2                                    0.499019   \n",
       "3                                    0.451265   \n",
       "4                                    0.538432   \n",
       "...                                       ...   \n",
       "6591                                 0.433984   \n",
       "6640                                 0.211023   \n",
       "6641                                 0.254307   \n",
       "6642                                 0.344636   \n",
       "6728                                 0.544320   \n",
       "\n",
       "       ROA(B) before interest and depreciation after tax  \\\n",
       "0                                              0.405750    \n",
       "1                                              0.516730    \n",
       "2                                              0.472295    \n",
       "3                                              0.457733    \n",
       "4                                              0.522298    \n",
       "...                                                 ...    \n",
       "6591                                           0.461427    \n",
       "6640                                           0.221425    \n",
       "6641                                           0.378446    \n",
       "6642                                           0.380213    \n",
       "6728                                           0.533326    \n",
       "\n",
       "       Operating Gross Margin   Realized Sales Gross Margin  \\\n",
       "0                    0.601457                      0.601457   \n",
       "1                    0.610235                      0.610235   \n",
       "2                    0.601450                      0.601364   \n",
       "3                    0.583541                      0.583541   \n",
       "4                    0.598783                      0.598783   \n",
       "...                       ...                           ...   \n",
       "6591                 0.612750                      0.612750   \n",
       "6640                 0.598056                      0.598056   \n",
       "6641                 0.590842                      0.590842   \n",
       "6642                 0.581466                      0.581466   \n",
       "6728                 0.618105                      0.618105   \n",
       "\n",
       "       Operating Profit Rate   Pre-tax net Interest Rate  \\\n",
       "0                   0.998969                    0.796887   \n",
       "1                   0.998946                    0.797380   \n",
       "2                   0.998857                    0.796403   \n",
       "3                   0.998700                    0.796967   \n",
       "4                   0.998973                    0.797366   \n",
       "...                      ...                         ...   \n",
       "6591                0.998864                    0.796902   \n",
       "6640                0.998933                    0.796144   \n",
       "6641                0.998869                    0.796943   \n",
       "6642                0.998372                    0.796292   \n",
       "6728                0.999083                    0.797456   \n",
       "\n",
       "       After-tax net Interest Rate  \\\n",
       "0                         0.808809   \n",
       "1                         0.809301   \n",
       "2                         0.808388   \n",
       "3                         0.808966   \n",
       "4                         0.809304   \n",
       "...                            ...   \n",
       "6591                      0.808857   \n",
       "6640                      0.808149   \n",
       "6641                      0.808897   \n",
       "6642                      0.808283   \n",
       "6728                      0.809338   \n",
       "\n",
       "       Non-industry income and expenditure/revenue  ...  \\\n",
       "0                                         0.302646  ...   \n",
       "1                                         0.303556  ...   \n",
       "2                                         0.302035  ...   \n",
       "3                                         0.303350  ...   \n",
       "4                                         0.303475  ...   \n",
       "...                                            ...  ...   \n",
       "6591                                      0.302892  ...   \n",
       "6640                                      0.301423  ...   \n",
       "6641                                      0.302953  ...   \n",
       "6642                                      0.302857  ...   \n",
       "6728                                      0.303401  ...   \n",
       "\n",
       "       Net Income to Total Assets   Total assets to GNP price  \\\n",
       "0                        0.716845                    0.009219   \n",
       "1                        0.795297                    0.008323   \n",
       "2                        0.774670                    0.040003   \n",
       "3                        0.739555                    0.003252   \n",
       "4                        0.795016                    0.003878   \n",
       "...                           ...                         ...   \n",
       "6591                     0.725750                    0.000487   \n",
       "6640                     0.519388                    0.017588   \n",
       "6641                     0.557733                    0.000847   \n",
       "6642                     0.641804                    0.000376   \n",
       "6728                     0.800780                    0.000517   \n",
       "\n",
       "       No-credit Interval   Gross Profit to Sales  \\\n",
       "0                0.622879                0.601453   \n",
       "1                0.623652                0.610237   \n",
       "2                0.623841                0.601449   \n",
       "3                0.622929                0.583538   \n",
       "4                0.623521                0.598782   \n",
       "...                   ...                     ...   \n",
       "6591             0.623730                0.612747   \n",
       "6640             0.623465                0.598051   \n",
       "6641             0.623302                0.590838   \n",
       "6642             0.623497                0.581461   \n",
       "6728             0.623737                0.618104   \n",
       "\n",
       "       Net Income to Stockholder's Equity   Liability to Equity  \\\n",
       "0                                0.827890              0.290202   \n",
       "1                                0.839969              0.283846   \n",
       "2                                0.836774              0.290189   \n",
       "3                                0.834697              0.281721   \n",
       "4                                0.839973              0.278514   \n",
       "...                                   ...                   ...   \n",
       "6591                             0.828067              0.292648   \n",
       "6640                             0.856906              0.259280   \n",
       "6641                             0.726888              0.336515   \n",
       "6642                             0.765967              0.337315   \n",
       "6728                             0.840533              0.282763   \n",
       "\n",
       "       Degree of Financial Leverage (DFL)  \\\n",
       "0                                0.026601   \n",
       "1                                0.264577   \n",
       "2                                0.026555   \n",
       "3                                0.026697   \n",
       "4                                0.024752   \n",
       "...                                   ...   \n",
       "6591                             0.026666   \n",
       "6640                             0.026769   \n",
       "6641                             0.026777   \n",
       "6642                             0.026722   \n",
       "6728                             0.027033   \n",
       "\n",
       "       Interest Coverage Ratio (Interest expense to EBIT)   Net Income Flag  \\\n",
       "0                                              0.564050                   1   \n",
       "1                                              0.570175                   1   \n",
       "2                                              0.563706                   1   \n",
       "3                                              0.564663                   1   \n",
       "4                                              0.575617                   1   \n",
       "...                                                 ...                 ...   \n",
       "6591                                           0.564481                   1   \n",
       "6640                                           0.565052                   1   \n",
       "6641                                           0.565092                   1   \n",
       "6642                                           0.564807                   1   \n",
       "6728                                           0.566098                   1   \n",
       "\n",
       "       Equity to Liability  \n",
       "0                 0.016469  \n",
       "1                 0.020794  \n",
       "2                 0.016474  \n",
       "3                 0.023982  \n",
       "4                 0.035490  \n",
       "...                    ...  \n",
       "6591              0.015620  \n",
       "6640              0.003946  \n",
       "6641              0.011797  \n",
       "6642              0.011777  \n",
       "6728              0.022209  \n",
       "\n",
       "[220 rows x 96 columns]"
      ]
     },
     "execution_count": 5,
     "metadata": {},
     "output_type": "execute_result"
    }
   ],
   "source": [
    "df[df[\"Bankrupt?\"] == 1]"
   ]
  },
  {
   "cell_type": "code",
   "execution_count": 68,
   "id": "1dbd42af-b290-4744-b2e8-74f1733267c2",
   "metadata": {},
   "outputs": [
    {
     "data": {
      "text/html": [
       "<div>\n",
       "<style scoped>\n",
       "    .dataframe tbody tr th:only-of-type {\n",
       "        vertical-align: middle;\n",
       "    }\n",
       "\n",
       "    .dataframe tbody tr th {\n",
       "        vertical-align: top;\n",
       "    }\n",
       "\n",
       "    .dataframe thead th {\n",
       "        text-align: right;\n",
       "    }\n",
       "</style>\n",
       "<table border=\"1\" class=\"dataframe\">\n",
       "  <thead>\n",
       "    <tr style=\"text-align: right;\">\n",
       "      <th></th>\n",
       "      <th>Bankrupt?</th>\n",
       "      <th>ROA(C) before interest and depreciation before interest</th>\n",
       "      <th>ROA(A) before interest and % after tax</th>\n",
       "      <th>ROA(B) before interest and depreciation after tax</th>\n",
       "      <th>Operating Gross Margin</th>\n",
       "      <th>Realized Sales Gross Margin</th>\n",
       "      <th>Operating Profit Rate</th>\n",
       "      <th>Pre-tax net Interest Rate</th>\n",
       "      <th>After-tax net Interest Rate</th>\n",
       "      <th>Non-industry income and expenditure/revenue</th>\n",
       "      <th>...</th>\n",
       "      <th>Net Income to Total Assets</th>\n",
       "      <th>Total assets to GNP price</th>\n",
       "      <th>No-credit Interval</th>\n",
       "      <th>Gross Profit to Sales</th>\n",
       "      <th>Net Income to Stockholder's Equity</th>\n",
       "      <th>Liability to Equity</th>\n",
       "      <th>Degree of Financial Leverage (DFL)</th>\n",
       "      <th>Interest Coverage Ratio (Interest expense to EBIT)</th>\n",
       "      <th>Net Income Flag</th>\n",
       "      <th>Equity to Liability</th>\n",
       "    </tr>\n",
       "  </thead>\n",
       "  <tbody>\n",
       "    <tr>\n",
       "      <th>count</th>\n",
       "      <td>6819.000000</td>\n",
       "      <td>6819.000000</td>\n",
       "      <td>6819.000000</td>\n",
       "      <td>6819.000000</td>\n",
       "      <td>6819.000000</td>\n",
       "      <td>6819.000000</td>\n",
       "      <td>6819.000000</td>\n",
       "      <td>6819.000000</td>\n",
       "      <td>6819.000000</td>\n",
       "      <td>6819.000000</td>\n",
       "      <td>...</td>\n",
       "      <td>6819.000000</td>\n",
       "      <td>6.819000e+03</td>\n",
       "      <td>6819.000000</td>\n",
       "      <td>6819.000000</td>\n",
       "      <td>6819.000000</td>\n",
       "      <td>6819.000000</td>\n",
       "      <td>6819.000000</td>\n",
       "      <td>6819.000000</td>\n",
       "      <td>6819.0</td>\n",
       "      <td>6819.000000</td>\n",
       "    </tr>\n",
       "    <tr>\n",
       "      <th>mean</th>\n",
       "      <td>0.032263</td>\n",
       "      <td>0.505180</td>\n",
       "      <td>0.558625</td>\n",
       "      <td>0.553589</td>\n",
       "      <td>0.607948</td>\n",
       "      <td>0.607929</td>\n",
       "      <td>0.998755</td>\n",
       "      <td>0.797190</td>\n",
       "      <td>0.809084</td>\n",
       "      <td>0.303623</td>\n",
       "      <td>...</td>\n",
       "      <td>0.807760</td>\n",
       "      <td>1.862942e+07</td>\n",
       "      <td>0.623915</td>\n",
       "      <td>0.607946</td>\n",
       "      <td>0.840402</td>\n",
       "      <td>0.280365</td>\n",
       "      <td>0.027541</td>\n",
       "      <td>0.565358</td>\n",
       "      <td>1.0</td>\n",
       "      <td>0.047578</td>\n",
       "    </tr>\n",
       "    <tr>\n",
       "      <th>std</th>\n",
       "      <td>0.176710</td>\n",
       "      <td>0.060686</td>\n",
       "      <td>0.065620</td>\n",
       "      <td>0.061595</td>\n",
       "      <td>0.016934</td>\n",
       "      <td>0.016916</td>\n",
       "      <td>0.013010</td>\n",
       "      <td>0.012869</td>\n",
       "      <td>0.013601</td>\n",
       "      <td>0.011163</td>\n",
       "      <td>...</td>\n",
       "      <td>0.040332</td>\n",
       "      <td>3.764501e+08</td>\n",
       "      <td>0.012290</td>\n",
       "      <td>0.016934</td>\n",
       "      <td>0.014523</td>\n",
       "      <td>0.014463</td>\n",
       "      <td>0.015668</td>\n",
       "      <td>0.013214</td>\n",
       "      <td>0.0</td>\n",
       "      <td>0.050014</td>\n",
       "    </tr>\n",
       "    <tr>\n",
       "      <th>min</th>\n",
       "      <td>0.000000</td>\n",
       "      <td>0.000000</td>\n",
       "      <td>0.000000</td>\n",
       "      <td>0.000000</td>\n",
       "      <td>0.000000</td>\n",
       "      <td>0.000000</td>\n",
       "      <td>0.000000</td>\n",
       "      <td>0.000000</td>\n",
       "      <td>0.000000</td>\n",
       "      <td>0.000000</td>\n",
       "      <td>...</td>\n",
       "      <td>0.000000</td>\n",
       "      <td>0.000000e+00</td>\n",
       "      <td>0.000000</td>\n",
       "      <td>0.000000</td>\n",
       "      <td>0.000000</td>\n",
       "      <td>0.000000</td>\n",
       "      <td>0.000000</td>\n",
       "      <td>0.000000</td>\n",
       "      <td>1.0</td>\n",
       "      <td>0.000000</td>\n",
       "    </tr>\n",
       "    <tr>\n",
       "      <th>25%</th>\n",
       "      <td>0.000000</td>\n",
       "      <td>0.476527</td>\n",
       "      <td>0.535543</td>\n",
       "      <td>0.527277</td>\n",
       "      <td>0.600445</td>\n",
       "      <td>0.600434</td>\n",
       "      <td>0.998969</td>\n",
       "      <td>0.797386</td>\n",
       "      <td>0.809312</td>\n",
       "      <td>0.303466</td>\n",
       "      <td>...</td>\n",
       "      <td>0.796750</td>\n",
       "      <td>9.036205e-04</td>\n",
       "      <td>0.623636</td>\n",
       "      <td>0.600443</td>\n",
       "      <td>0.840115</td>\n",
       "      <td>0.276944</td>\n",
       "      <td>0.026791</td>\n",
       "      <td>0.565158</td>\n",
       "      <td>1.0</td>\n",
       "      <td>0.024477</td>\n",
       "    </tr>\n",
       "    <tr>\n",
       "      <th>50%</th>\n",
       "      <td>0.000000</td>\n",
       "      <td>0.502706</td>\n",
       "      <td>0.559802</td>\n",
       "      <td>0.552278</td>\n",
       "      <td>0.605997</td>\n",
       "      <td>0.605976</td>\n",
       "      <td>0.999022</td>\n",
       "      <td>0.797464</td>\n",
       "      <td>0.809375</td>\n",
       "      <td>0.303525</td>\n",
       "      <td>...</td>\n",
       "      <td>0.810619</td>\n",
       "      <td>2.085213e-03</td>\n",
       "      <td>0.623879</td>\n",
       "      <td>0.605998</td>\n",
       "      <td>0.841179</td>\n",
       "      <td>0.278778</td>\n",
       "      <td>0.026808</td>\n",
       "      <td>0.565252</td>\n",
       "      <td>1.0</td>\n",
       "      <td>0.033798</td>\n",
       "    </tr>\n",
       "    <tr>\n",
       "      <th>75%</th>\n",
       "      <td>0.000000</td>\n",
       "      <td>0.535563</td>\n",
       "      <td>0.589157</td>\n",
       "      <td>0.584105</td>\n",
       "      <td>0.613914</td>\n",
       "      <td>0.613842</td>\n",
       "      <td>0.999095</td>\n",
       "      <td>0.797579</td>\n",
       "      <td>0.809469</td>\n",
       "      <td>0.303585</td>\n",
       "      <td>...</td>\n",
       "      <td>0.826455</td>\n",
       "      <td>5.269777e-03</td>\n",
       "      <td>0.624168</td>\n",
       "      <td>0.613913</td>\n",
       "      <td>0.842357</td>\n",
       "      <td>0.281449</td>\n",
       "      <td>0.026913</td>\n",
       "      <td>0.565725</td>\n",
       "      <td>1.0</td>\n",
       "      <td>0.052838</td>\n",
       "    </tr>\n",
       "    <tr>\n",
       "      <th>max</th>\n",
       "      <td>1.000000</td>\n",
       "      <td>1.000000</td>\n",
       "      <td>1.000000</td>\n",
       "      <td>1.000000</td>\n",
       "      <td>1.000000</td>\n",
       "      <td>1.000000</td>\n",
       "      <td>1.000000</td>\n",
       "      <td>1.000000</td>\n",
       "      <td>1.000000</td>\n",
       "      <td>1.000000</td>\n",
       "      <td>...</td>\n",
       "      <td>1.000000</td>\n",
       "      <td>9.820000e+09</td>\n",
       "      <td>1.000000</td>\n",
       "      <td>1.000000</td>\n",
       "      <td>1.000000</td>\n",
       "      <td>1.000000</td>\n",
       "      <td>1.000000</td>\n",
       "      <td>1.000000</td>\n",
       "      <td>1.0</td>\n",
       "      <td>1.000000</td>\n",
       "    </tr>\n",
       "  </tbody>\n",
       "</table>\n",
       "<p>8 rows × 96 columns</p>\n",
       "</div>"
      ],
      "text/plain": [
       "         Bankrupt?   ROA(C) before interest and depreciation before interest  \\\n",
       "count  6819.000000                                        6819.000000          \n",
       "mean      0.032263                                           0.505180          \n",
       "std       0.176710                                           0.060686          \n",
       "min       0.000000                                           0.000000          \n",
       "25%       0.000000                                           0.476527          \n",
       "50%       0.000000                                           0.502706          \n",
       "75%       0.000000                                           0.535563          \n",
       "max       1.000000                                           1.000000          \n",
       "\n",
       "        ROA(A) before interest and % after tax  \\\n",
       "count                              6819.000000   \n",
       "mean                                  0.558625   \n",
       "std                                   0.065620   \n",
       "min                                   0.000000   \n",
       "25%                                   0.535543   \n",
       "50%                                   0.559802   \n",
       "75%                                   0.589157   \n",
       "max                                   1.000000   \n",
       "\n",
       "        ROA(B) before interest and depreciation after tax  \\\n",
       "count                                        6819.000000    \n",
       "mean                                            0.553589    \n",
       "std                                             0.061595    \n",
       "min                                             0.000000    \n",
       "25%                                             0.527277    \n",
       "50%                                             0.552278    \n",
       "75%                                             0.584105    \n",
       "max                                             1.000000    \n",
       "\n",
       "        Operating Gross Margin   Realized Sales Gross Margin  \\\n",
       "count              6819.000000                   6819.000000   \n",
       "mean                  0.607948                      0.607929   \n",
       "std                   0.016934                      0.016916   \n",
       "min                   0.000000                      0.000000   \n",
       "25%                   0.600445                      0.600434   \n",
       "50%                   0.605997                      0.605976   \n",
       "75%                   0.613914                      0.613842   \n",
       "max                   1.000000                      1.000000   \n",
       "\n",
       "        Operating Profit Rate   Pre-tax net Interest Rate  \\\n",
       "count             6819.000000                 6819.000000   \n",
       "mean                 0.998755                    0.797190   \n",
       "std                  0.013010                    0.012869   \n",
       "min                  0.000000                    0.000000   \n",
       "25%                  0.998969                    0.797386   \n",
       "50%                  0.999022                    0.797464   \n",
       "75%                  0.999095                    0.797579   \n",
       "max                  1.000000                    1.000000   \n",
       "\n",
       "        After-tax net Interest Rate  \\\n",
       "count                   6819.000000   \n",
       "mean                       0.809084   \n",
       "std                        0.013601   \n",
       "min                        0.000000   \n",
       "25%                        0.809312   \n",
       "50%                        0.809375   \n",
       "75%                        0.809469   \n",
       "max                        1.000000   \n",
       "\n",
       "        Non-industry income and expenditure/revenue  ...  \\\n",
       "count                                   6819.000000  ...   \n",
       "mean                                       0.303623  ...   \n",
       "std                                        0.011163  ...   \n",
       "min                                        0.000000  ...   \n",
       "25%                                        0.303466  ...   \n",
       "50%                                        0.303525  ...   \n",
       "75%                                        0.303585  ...   \n",
       "max                                        1.000000  ...   \n",
       "\n",
       "        Net Income to Total Assets   Total assets to GNP price  \\\n",
       "count                  6819.000000                6.819000e+03   \n",
       "mean                      0.807760                1.862942e+07   \n",
       "std                       0.040332                3.764501e+08   \n",
       "min                       0.000000                0.000000e+00   \n",
       "25%                       0.796750                9.036205e-04   \n",
       "50%                       0.810619                2.085213e-03   \n",
       "75%                       0.826455                5.269777e-03   \n",
       "max                       1.000000                9.820000e+09   \n",
       "\n",
       "        No-credit Interval   Gross Profit to Sales  \\\n",
       "count          6819.000000             6819.000000   \n",
       "mean              0.623915                0.607946   \n",
       "std               0.012290                0.016934   \n",
       "min               0.000000                0.000000   \n",
       "25%               0.623636                0.600443   \n",
       "50%               0.623879                0.605998   \n",
       "75%               0.624168                0.613913   \n",
       "max               1.000000                1.000000   \n",
       "\n",
       "        Net Income to Stockholder's Equity   Liability to Equity  \\\n",
       "count                          6819.000000           6819.000000   \n",
       "mean                              0.840402              0.280365   \n",
       "std                               0.014523              0.014463   \n",
       "min                               0.000000              0.000000   \n",
       "25%                               0.840115              0.276944   \n",
       "50%                               0.841179              0.278778   \n",
       "75%                               0.842357              0.281449   \n",
       "max                               1.000000              1.000000   \n",
       "\n",
       "        Degree of Financial Leverage (DFL)  \\\n",
       "count                          6819.000000   \n",
       "mean                              0.027541   \n",
       "std                               0.015668   \n",
       "min                               0.000000   \n",
       "25%                               0.026791   \n",
       "50%                               0.026808   \n",
       "75%                               0.026913   \n",
       "max                               1.000000   \n",
       "\n",
       "        Interest Coverage Ratio (Interest expense to EBIT)   Net Income Flag  \\\n",
       "count                                        6819.000000              6819.0   \n",
       "mean                                            0.565358                 1.0   \n",
       "std                                             0.013214                 0.0   \n",
       "min                                             0.000000                 1.0   \n",
       "25%                                             0.565158                 1.0   \n",
       "50%                                             0.565252                 1.0   \n",
       "75%                                             0.565725                 1.0   \n",
       "max                                             1.000000                 1.0   \n",
       "\n",
       "        Equity to Liability  \n",
       "count           6819.000000  \n",
       "mean               0.047578  \n",
       "std                0.050014  \n",
       "min                0.000000  \n",
       "25%                0.024477  \n",
       "50%                0.033798  \n",
       "75%                0.052838  \n",
       "max                1.000000  \n",
       "\n",
       "[8 rows x 96 columns]"
      ]
     },
     "execution_count": 68,
     "metadata": {},
     "output_type": "execute_result"
    }
   ],
   "source": [
    "df.describe()"
   ]
  },
  {
   "cell_type": "code",
   "execution_count": 70,
   "id": "1cb42947-b73f-4b7e-823c-2a4cae796591",
   "metadata": {},
   "outputs": [
    {
     "data": {
      "text/plain": [
       "0"
      ]
     },
     "execution_count": 70,
     "metadata": {},
     "output_type": "execute_result"
    }
   ],
   "source": [
    "df.isnull().sum().sum()"
   ]
  },
  {
   "cell_type": "code",
   "execution_count": 36,
   "id": "cc4dec0d-a5c2-40bd-b338-f15619c92cc0",
   "metadata": {},
   "outputs": [
    {
     "data": {
      "text/plain": [
       "Index(['Bankrupt?', ' ROA(C) before interest and depreciation before interest',\n",
       "       ' ROA(A) before interest and % after tax',\n",
       "       ' ROA(B) before interest and depreciation after tax',\n",
       "       ' Operating Gross Margin', ' Realized Sales Gross Margin',\n",
       "       ' Operating Profit Rate', ' Pre-tax net Interest Rate',\n",
       "       ' After-tax net Interest Rate',\n",
       "       ' Non-industry income and expenditure/revenue',\n",
       "       ' Continuous interest rate (after tax)', ' Operating Expense Rate',\n",
       "       ' Research and development expense rate', ' Cash flow rate',\n",
       "       ' Interest-bearing debt interest rate', ' Tax rate (A)',\n",
       "       ' Net Value Per Share (B)', ' Net Value Per Share (A)',\n",
       "       ' Net Value Per Share (C)', ' Persistent EPS in the Last Four Seasons',\n",
       "       ' Cash Flow Per Share', ' Revenue Per Share (Yuan ¥)',\n",
       "       ' Operating Profit Per Share (Yuan ¥)',\n",
       "       ' Per Share Net profit before tax (Yuan ¥)',\n",
       "       ' Realized Sales Gross Profit Growth Rate',\n",
       "       ' Operating Profit Growth Rate', ' After-tax Net Profit Growth Rate',\n",
       "       ' Regular Net Profit Growth Rate', ' Continuous Net Profit Growth Rate',\n",
       "       ' Total Asset Growth Rate', ' Net Value Growth Rate',\n",
       "       ' Total Asset Return Growth Rate Ratio', ' Cash Reinvestment %',\n",
       "       ' Current Ratio', ' Quick Ratio', ' Interest Expense Ratio',\n",
       "       ' Total debt/Total net worth', ' Debt ratio %', ' Net worth/Assets',\n",
       "       ' Long-term fund suitability ratio (A)', ' Borrowing dependency',\n",
       "       ' Contingent liabilities/Net worth',\n",
       "       ' Operating profit/Paid-in capital',\n",
       "       ' Net profit before tax/Paid-in capital',\n",
       "       ' Inventory and accounts receivable/Net value', ' Total Asset Turnover',\n",
       "       ' Accounts Receivable Turnover', ' Average Collection Days',\n",
       "       ' Inventory Turnover Rate (times)', ' Fixed Assets Turnover Frequency',\n",
       "       ' Net Worth Turnover Rate (times)', ' Revenue per person',\n",
       "       ' Operating profit per person', ' Allocation rate per person',\n",
       "       ' Working Capital to Total Assets', ' Quick Assets/Total Assets',\n",
       "       ' Current Assets/Total Assets', ' Cash/Total Assets',\n",
       "       ' Quick Assets/Current Liability', ' Cash/Current Liability',\n",
       "       ' Current Liability to Assets', ' Operating Funds to Liability',\n",
       "       ' Inventory/Working Capital', ' Inventory/Current Liability',\n",
       "       ' Current Liabilities/Liability', ' Working Capital/Equity',\n",
       "       ' Current Liabilities/Equity', ' Long-term Liability to Current Assets',\n",
       "       ' Retained Earnings to Total Assets', ' Total income/Total expense',\n",
       "       ' Total expense/Assets', ' Current Asset Turnover Rate',\n",
       "       ' Quick Asset Turnover Rate', ' Working capitcal Turnover Rate',\n",
       "       ' Cash Turnover Rate', ' Cash Flow to Sales', ' Fixed Assets to Assets',\n",
       "       ' Current Liability to Liability', ' Current Liability to Equity',\n",
       "       ' Equity to Long-term Liability', ' Cash Flow to Total Assets',\n",
       "       ' Cash Flow to Liability', ' CFO to Assets', ' Cash Flow to Equity',\n",
       "       ' Current Liability to Current Assets', ' Liability-Assets Flag',\n",
       "       ' Net Income to Total Assets', ' Total assets to GNP price',\n",
       "       ' No-credit Interval', ' Gross Profit to Sales',\n",
       "       ' Net Income to Stockholder's Equity', ' Liability to Equity',\n",
       "       ' Degree of Financial Leverage (DFL)',\n",
       "       ' Interest Coverage Ratio (Interest expense to EBIT)',\n",
       "       ' Net Income Flag', ' Equity to Liability'],\n",
       "      dtype='object')"
      ]
     },
     "execution_count": 36,
     "metadata": {},
     "output_type": "execute_result"
    }
   ],
   "source": [
    "df.columns"
   ]
  },
  {
   "cell_type": "raw",
   "id": "3e239b84-a246-4351-bf0a-5a0568f6929a",
   "metadata": {},
   "source": []
  },
  {
   "cell_type": "code",
   "execution_count": 6,
   "id": "6cc5465f-5548-4174-bbcc-3d77acadc8a7",
   "metadata": {},
   "outputs": [],
   "source": [
    "columns = [\"Bankrupt?\", \" Working Capital to Total Assets\",\n",
    "\" Retained Earnings to Total Assets\",\n",
    "\" Net worth/Assets\", \" Current Liability to Assets\", \" Current Liabilities/Liability\",\n",
    "\" Net Income to Total Assets\",\n",
    "\" Cash Flow to Sales\", \" Cash Flow to Total Assets\"]"
   ]
  },
  {
   "cell_type": "code",
   "execution_count": 7,
   "id": "ed6c027a-dd00-4bc1-b156-7eba44a4a046",
   "metadata": {},
   "outputs": [
    {
     "data": {
      "text/html": [
       "<div>\n",
       "<style scoped>\n",
       "    .dataframe tbody tr th:only-of-type {\n",
       "        vertical-align: middle;\n",
       "    }\n",
       "\n",
       "    .dataframe tbody tr th {\n",
       "        vertical-align: top;\n",
       "    }\n",
       "\n",
       "    .dataframe thead th {\n",
       "        text-align: right;\n",
       "    }\n",
       "</style>\n",
       "<table border=\"1\" class=\"dataframe\">\n",
       "  <thead>\n",
       "    <tr style=\"text-align: right;\">\n",
       "      <th></th>\n",
       "      <th>Bankrupt?</th>\n",
       "      <th>Working Capital to Total Assets</th>\n",
       "      <th>Retained Earnings to Total Assets</th>\n",
       "      <th>Net worth/Assets</th>\n",
       "      <th>Current Liability to Assets</th>\n",
       "      <th>Current Liabilities/Liability</th>\n",
       "      <th>Net Income to Total Assets</th>\n",
       "      <th>Cash Flow to Sales</th>\n",
       "      <th>Cash Flow to Total Assets</th>\n",
       "    </tr>\n",
       "  </thead>\n",
       "  <tbody>\n",
       "    <tr>\n",
       "      <th>0</th>\n",
       "      <td>1</td>\n",
       "      <td>0.672775</td>\n",
       "      <td>0.903225</td>\n",
       "      <td>0.792424</td>\n",
       "      <td>0.147308</td>\n",
       "      <td>0.676269</td>\n",
       "      <td>0.716845</td>\n",
       "      <td>0.671568</td>\n",
       "      <td>0.637555</td>\n",
       "    </tr>\n",
       "    <tr>\n",
       "      <th>1</th>\n",
       "      <td>1</td>\n",
       "      <td>0.751111</td>\n",
       "      <td>0.931065</td>\n",
       "      <td>0.828824</td>\n",
       "      <td>0.056963</td>\n",
       "      <td>0.308589</td>\n",
       "      <td>0.795297</td>\n",
       "      <td>0.671570</td>\n",
       "      <td>0.641100</td>\n",
       "    </tr>\n",
       "    <tr>\n",
       "      <th>2</th>\n",
       "      <td>1</td>\n",
       "      <td>0.829502</td>\n",
       "      <td>0.909903</td>\n",
       "      <td>0.792484</td>\n",
       "      <td>0.098162</td>\n",
       "      <td>0.446027</td>\n",
       "      <td>0.774670</td>\n",
       "      <td>0.671571</td>\n",
       "      <td>0.642765</td>\n",
       "    </tr>\n",
       "    <tr>\n",
       "      <th>3</th>\n",
       "      <td>1</td>\n",
       "      <td>0.725754</td>\n",
       "      <td>0.906902</td>\n",
       "      <td>0.848535</td>\n",
       "      <td>0.098715</td>\n",
       "      <td>0.615848</td>\n",
       "      <td>0.739555</td>\n",
       "      <td>0.671519</td>\n",
       "      <td>0.579039</td>\n",
       "    </tr>\n",
       "    <tr>\n",
       "      <th>4</th>\n",
       "      <td>1</td>\n",
       "      <td>0.751822</td>\n",
       "      <td>0.913850</td>\n",
       "      <td>0.893491</td>\n",
       "      <td>0.110195</td>\n",
       "      <td>0.975007</td>\n",
       "      <td>0.795016</td>\n",
       "      <td>0.671563</td>\n",
       "      <td>0.622374</td>\n",
       "    </tr>\n",
       "    <tr>\n",
       "      <th>...</th>\n",
       "      <td>...</td>\n",
       "      <td>...</td>\n",
       "      <td>...</td>\n",
       "      <td>...</td>\n",
       "      <td>...</td>\n",
       "      <td>...</td>\n",
       "      <td>...</td>\n",
       "      <td>...</td>\n",
       "      <td>...</td>\n",
       "    </tr>\n",
       "    <tr>\n",
       "      <th>6814</th>\n",
       "      <td>0</td>\n",
       "      <td>0.817769</td>\n",
       "      <td>0.925611</td>\n",
       "      <td>0.875382</td>\n",
       "      <td>0.103838</td>\n",
       "      <td>0.786888</td>\n",
       "      <td>0.799927</td>\n",
       "      <td>0.671570</td>\n",
       "      <td>0.639806</td>\n",
       "    </tr>\n",
       "    <tr>\n",
       "      <th>6815</th>\n",
       "      <td>0</td>\n",
       "      <td>0.793387</td>\n",
       "      <td>0.932629</td>\n",
       "      <td>0.900747</td>\n",
       "      <td>0.089901</td>\n",
       "      <td>0.849898</td>\n",
       "      <td>0.799748</td>\n",
       "      <td>0.671572</td>\n",
       "      <td>0.642072</td>\n",
       "    </tr>\n",
       "    <tr>\n",
       "      <th>6816</th>\n",
       "      <td>0</td>\n",
       "      <td>0.866047</td>\n",
       "      <td>0.932000</td>\n",
       "      <td>0.961061</td>\n",
       "      <td>0.024414</td>\n",
       "      <td>0.553964</td>\n",
       "      <td>0.797778</td>\n",
       "      <td>0.671564</td>\n",
       "      <td>0.631678</td>\n",
       "    </tr>\n",
       "    <tr>\n",
       "      <th>6817</th>\n",
       "      <td>0</td>\n",
       "      <td>0.832340</td>\n",
       "      <td>0.939613</td>\n",
       "      <td>0.913021</td>\n",
       "      <td>0.083199</td>\n",
       "      <td>0.893241</td>\n",
       "      <td>0.811808</td>\n",
       "      <td>0.671606</td>\n",
       "      <td>0.684857</td>\n",
       "    </tr>\n",
       "    <tr>\n",
       "      <th>6818</th>\n",
       "      <td>0</td>\n",
       "      <td>0.873759</td>\n",
       "      <td>0.938005</td>\n",
       "      <td>0.985851</td>\n",
       "      <td>0.018517</td>\n",
       "      <td>1.000000</td>\n",
       "      <td>0.815956</td>\n",
       "      <td>0.672096</td>\n",
       "      <td>0.659917</td>\n",
       "    </tr>\n",
       "  </tbody>\n",
       "</table>\n",
       "<p>6819 rows × 9 columns</p>\n",
       "</div>"
      ],
      "text/plain": [
       "      Bankrupt?   Working Capital to Total Assets  \\\n",
       "0             1                          0.672775   \n",
       "1             1                          0.751111   \n",
       "2             1                          0.829502   \n",
       "3             1                          0.725754   \n",
       "4             1                          0.751822   \n",
       "...         ...                               ...   \n",
       "6814          0                          0.817769   \n",
       "6815          0                          0.793387   \n",
       "6816          0                          0.866047   \n",
       "6817          0                          0.832340   \n",
       "6818          0                          0.873759   \n",
       "\n",
       "       Retained Earnings to Total Assets   Net worth/Assets  \\\n",
       "0                               0.903225           0.792424   \n",
       "1                               0.931065           0.828824   \n",
       "2                               0.909903           0.792484   \n",
       "3                               0.906902           0.848535   \n",
       "4                               0.913850           0.893491   \n",
       "...                                  ...                ...   \n",
       "6814                            0.925611           0.875382   \n",
       "6815                            0.932629           0.900747   \n",
       "6816                            0.932000           0.961061   \n",
       "6817                            0.939613           0.913021   \n",
       "6818                            0.938005           0.985851   \n",
       "\n",
       "       Current Liability to Assets   Current Liabilities/Liability  \\\n",
       "0                         0.147308                        0.676269   \n",
       "1                         0.056963                        0.308589   \n",
       "2                         0.098162                        0.446027   \n",
       "3                         0.098715                        0.615848   \n",
       "4                         0.110195                        0.975007   \n",
       "...                            ...                             ...   \n",
       "6814                      0.103838                        0.786888   \n",
       "6815                      0.089901                        0.849898   \n",
       "6816                      0.024414                        0.553964   \n",
       "6817                      0.083199                        0.893241   \n",
       "6818                      0.018517                        1.000000   \n",
       "\n",
       "       Net Income to Total Assets   Cash Flow to Sales  \\\n",
       "0                        0.716845             0.671568   \n",
       "1                        0.795297             0.671570   \n",
       "2                        0.774670             0.671571   \n",
       "3                        0.739555             0.671519   \n",
       "4                        0.795016             0.671563   \n",
       "...                           ...                  ...   \n",
       "6814                     0.799927             0.671570   \n",
       "6815                     0.799748             0.671572   \n",
       "6816                     0.797778             0.671564   \n",
       "6817                     0.811808             0.671606   \n",
       "6818                     0.815956             0.672096   \n",
       "\n",
       "       Cash Flow to Total Assets  \n",
       "0                       0.637555  \n",
       "1                       0.641100  \n",
       "2                       0.642765  \n",
       "3                       0.579039  \n",
       "4                       0.622374  \n",
       "...                          ...  \n",
       "6814                    0.639806  \n",
       "6815                    0.642072  \n",
       "6816                    0.631678  \n",
       "6817                    0.684857  \n",
       "6818                    0.659917  \n",
       "\n",
       "[6819 rows x 9 columns]"
      ]
     },
     "execution_count": 7,
     "metadata": {},
     "output_type": "execute_result"
    }
   ],
   "source": [
    "subset = df.loc[:,columns].copy()\n",
    "subset"
   ]
  },
  {
   "cell_type": "code",
   "execution_count": 8,
   "id": "32441073-9184-4427-a57e-0784c2f42e24",
   "metadata": {},
   "outputs": [],
   "source": [
    "subset[\"WC/TA\"] = subset[\" Working Capital to Total Assets\"]\n",
    "subset[\"RE/TA\"] = subset[\" Retained Earnings to Total Assets\"]\n",
    "subset[\"NI/TA\"] = subset[\" Net Income to Total Assets\"]\n",
    "subset[\"EV/TL\"] = subset[\" Net worth/Assets\"] * 1/subset[\" Current Liability to Assets\"] * subset[\" Current Liabilities/Liability\"]\n",
    "subset[\"S/TA\"] = 1/subset[\" Cash Flow to Sales\"] * subset[\" Cash Flow to Total Assets\"]"
   ]
  },
  {
   "cell_type": "code",
   "execution_count": 9,
   "id": "fb9bf9fc-52a5-4128-9af1-a18d1d3167f7",
   "metadata": {},
   "outputs": [],
   "source": [
    "fe = subset.loc[:,[\"Bankrupt?\",\"WC/TA\",\"RE/TA\", \"NI/TA\",\"EV/TL\",\"S/TA\"]].copy()"
   ]
  },
  {
   "cell_type": "code",
   "execution_count": 10,
   "id": "41058746-0e70-4040-908f-12d340df6540",
   "metadata": {},
   "outputs": [],
   "source": [
    "fe = fe.replace(np.inf, np.nan)"
   ]
  },
  {
   "cell_type": "code",
   "execution_count": 11,
   "id": "deb3275d-b284-4a29-bd84-e8ef2a9e8720",
   "metadata": {},
   "outputs": [],
   "source": [
    "fe = fe.dropna()"
   ]
  },
  {
   "cell_type": "code",
   "execution_count": null,
   "id": "772ecf5e-c5bd-434e-b239-fa4dce17eebf",
   "metadata": {},
   "outputs": [],
   "source": []
  },
  {
   "cell_type": "code",
   "execution_count": 27,
   "id": "b54e06d8-bddc-4ea3-95ee-c28cde5a120c",
   "metadata": {},
   "outputs": [],
   "source": [
    "from sklearn.model_selection import train_test_split\n",
    "from sklearn.feature_selection import mutual_info_classif\n",
    "from sklearn.feature_selection import SelectKBest"
   ]
  },
  {
   "cell_type": "code",
   "execution_count": 104,
   "id": "bd308493-d7d2-4555-b960-d9633942927b",
   "metadata": {},
   "outputs": [
    {
     "data": {
      "text/plain": [
       "((5453, 5), (1364, 5))"
      ]
     },
     "execution_count": 104,
     "metadata": {},
     "output_type": "execute_result"
    }
   ],
   "source": [
    "X_train, X_test, y_train, y_test = train_test_split(\n",
    "    fe.drop(labels=['Bankrupt?'], axis=1),\n",
    "    fe['Bankrupt?'],\n",
    "    test_size=0.2,\n",
    "    random_state=0)\n",
    "\n",
    "X_train.shape, X_test.shape"
   ]
  },
  {
   "cell_type": "code",
   "execution_count": 105,
   "id": "04c79215-d681-43db-8a91-5d0af15f8860",
   "metadata": {},
   "outputs": [
    {
     "data": {
      "text/plain": [
       "array([0.0263916 , 0.03740183, 0.04055677, 0.0321556 , 0.00537492])"
      ]
     },
     "execution_count": 105,
     "metadata": {},
     "output_type": "execute_result"
    }
   ],
   "source": [
    "mi = mutual_info_classif(X_train, y_train)\n",
    "mi"
   ]
  },
  {
   "cell_type": "code",
   "execution_count": 108,
   "id": "7e077fe1-7c2f-4388-8aef-cb403bb8a440",
   "metadata": {},
   "outputs": [
    {
     "data": {
      "image/png": "[encoded data removed]",
      "text/plain": [
       "<Figure size 1440x432 with 1 Axes>"
      ]
     },
     "metadata": {
      "needs_background": "light"
     },
     "output_type": "display_data"
    }
   ],
   "source": [
    "mi = pd.Series(mi)\n",
    "mi.index = X_train.columns\n",
    "mi.sort_values(ascending=False).plot.bar(figsize=(20, 6))\n",
    "plt.ylabel('Mutual Information')\n",
    "plt.show()"
   ]
  },
  {
   "cell_type": "code",
   "execution_count": 109,
   "id": "094a2efd-3262-4686-ba81-d4c896fa5a2e",
   "metadata": {},
   "outputs": [],
   "source": [
    "from sklearn.preprocessing import StandardScaler"
   ]
  },
  {
   "cell_type": "code",
   "execution_count": 110,
   "id": "d7db5f89-f20b-4f49-bfa8-10ffa4b6f5fc",
   "metadata": {},
   "outputs": [],
   "source": [
    "sc = StandardScaler()\n",
    "X_train = sc.fit_transform(X_train)\n",
    "X_test = sc.transform(X_test)"
   ]
  },
  {
   "cell_type": "markdown",
   "id": "2cf560bd-b8ce-4e1e-bcc8-e4068ef83385",
   "metadata": {
    "tags": []
   },
   "source": [
    "#Logistic Regression"
   ]
  },
  {
   "cell_type": "code",
   "execution_count": 111,
   "id": "5c97baed-1a4c-48d1-a0ee-5882ffd877a1",
   "metadata": {},
   "outputs": [
    {
     "data": {
      "text/plain": [
       "LogisticRegression(random_state=0)"
      ]
     },
     "execution_count": 111,
     "metadata": {},
     "output_type": "execute_result"
    }
   ],
   "source": [
    "from sklearn.linear_model import LogisticRegression\n",
    "classifier = LogisticRegression(random_state = 0)\n",
    "classifier.fit(X_train, y_train)"
   ]
  },
  {
   "cell_type": "code",
   "execution_count": 112,
   "id": "e299e27a-3d55-4238-b87f-baf06dca6df4",
   "metadata": {},
   "outputs": [],
   "source": [
    "y_pred = classifier.predict(X_test)"
   ]
  },
  {
   "cell_type": "code",
   "execution_count": 113,
   "id": "a347e31a-d064-41f0-a908-e55cd7278cb8",
   "metadata": {},
   "outputs": [
    {
     "name": "stdout",
     "output_type": "stream",
     "text": [
      "Accuracy score: 0.969208211143695\n"
     ]
    }
   ],
   "source": [
    "from sklearn.metrics import accuracy_score\n",
    "acc1 = accuracy_score(y_test, y_pred)\n",
    "print(f\"Accuracy score: {acc1}\")"
   ]
  },
  {
   "cell_type": "code",
   "execution_count": null,
   "id": "3ad0ae86-d666-4143-9e86-a237584d4deb",
   "metadata": {},
   "outputs": [],
   "source": [
    "#Support Vector Classifier"
   ]
  },
  {
   "cell_type": "code",
   "execution_count": null,
   "id": "28b76ab7-efa2-4337-bb13-8499d867942e",
   "metadata": {},
   "outputs": [],
   "source": [
    "from sklearn.svm import SVC\n",
    "classifier = SVC(kernel = 'linear', random_state = 0)\n",
    "classifier.fit(X_train, y_train)"
   ]
  },
  {
   "cell_type": "code",
   "execution_count": 114,
   "id": "3670a940-3afe-47a0-8a5c-2bad3f43c0fa",
   "metadata": {},
   "outputs": [
    {
     "name": "stdout",
     "output_type": "stream",
     "text": [
      "[[1317   10]\n",
      " [  32    5]]\n"
     ]
    }
   ],
   "source": [
    "y_pred = classifier.predict(X_test)\n",
    "from sklearn.metrics import confusion_matrix, accuracy_score\n",
    "cm = confusion_matrix(y_test, y_pred)\n",
    "print(cm)"
   ]
  },
  {
   "cell_type": "code",
   "execution_count": 115,
   "id": "b8adff29-9832-4c71-933f-e58f7b3e4279",
   "metadata": {},
   "outputs": [
    {
     "data": {
      "image/png": "[encoded data removed]",
      "text/plain": [
       "<Figure size 432x288 with 2 Axes>"
      ]
     },
     "metadata": {
      "needs_background": "light"
     },
     "output_type": "display_data"
    }
   ],
   "source": [
    "sns.heatmap(cm,annot=True)\n",
    "plt.show()"
   ]
  },
  {
   "cell_type": "code",
   "execution_count": 116,
   "id": "b2891fb4-1edd-422c-b1c5-407b698bf9d2",
   "metadata": {},
   "outputs": [
    {
     "name": "stdout",
     "output_type": "stream",
     "text": [
      "Accuracy score: 0.969208211143695\n"
     ]
    }
   ],
   "source": [
    "acc2 = accuracy_score(y_test, y_pred)\n",
    "print(f\"Accuracy score: {acc2}\")"
   ]
  },
  {
   "cell_type": "code",
   "execution_count": 117,
   "id": "046f5d95-43aa-46ac-a9a6-e61160112288",
   "metadata": {},
   "outputs": [
    {
     "data": {
      "text/plain": [
       "KNeighborsClassifier()"
      ]
     },
     "execution_count": 117,
     "metadata": {},
     "output_type": "execute_result"
    }
   ],
   "source": [
    "from sklearn.neighbors import KNeighborsClassifier\n",
    "classifier = KNeighborsClassifier(n_neighbors = 5, metric = 'minkowski', p = 2)\n",
    "classifier.fit(X_train, y_train)"
   ]
  },
  {
   "cell_type": "code",
   "execution_count": 118,
   "id": "e2ee3f68-3d23-4121-bcd7-9b47c8a641d3",
   "metadata": {},
   "outputs": [],
   "source": [
    "y_pred = classifier.predict(X_test)"
   ]
  },
  {
   "cell_type": "code",
   "execution_count": 119,
   "id": "d17a2d73-b25b-41f7-9088-a189461e41df",
   "metadata": {},
   "outputs": [
    {
     "name": "stdout",
     "output_type": "stream",
     "text": [
      "[[1314   13]\n",
      " [  29    8]]\n"
     ]
    }
   ],
   "source": [
    "cm = confusion_matrix(y_test, y_pred)\n",
    "print(cm)"
   ]
  },
  {
   "cell_type": "code",
   "execution_count": 120,
   "id": "86a21019-c267-49a8-9c2e-c511c6b30ffa",
   "metadata": {},
   "outputs": [
    {
     "data": {
      "image/png": "[encoded data removed]",
      "text/plain": [
       "<Figure size 432x288 with 2 Axes>"
      ]
     },
     "metadata": {
      "needs_background": "light"
     },
     "output_type": "display_data"
    }
   ],
   "source": [
    "sns.heatmap(cm,annot=True)\n",
    "plt.show()"
   ]
  },
  {
   "cell_type": "code",
   "execution_count": 121,
   "id": "66cae493-5369-4722-9da4-e738a8cc5108",
   "metadata": {},
   "outputs": [
    {
     "name": "stdout",
     "output_type": "stream",
     "text": [
      "Accuracy score: 0.969208211143695\n"
     ]
    }
   ],
   "source": [
    "acc3 = accuracy_score(y_test, y_pred)\n",
    "print(f\"Accuracy score: {acc3}\")"
   ]
  },
  {
   "cell_type": "code",
   "execution_count": 122,
   "id": "a034ea40-e559-40fc-91a8-18c7b75760cc",
   "metadata": {},
   "outputs": [
    {
     "data": {
      "text/plain": [
       "GaussianNB()"
      ]
     },
     "execution_count": 122,
     "metadata": {},
     "output_type": "execute_result"
    }
   ],
   "source": [
    "from sklearn.naive_bayes import GaussianNB\n",
    "classifier = GaussianNB()\n",
    "classifier.fit(X_train, y_train)"
   ]
  },
  {
   "cell_type": "code",
   "execution_count": 123,
   "id": "0ff76cd4-9761-4cea-90df-cdd43f2bdca8",
   "metadata": {},
   "outputs": [
    {
     "name": "stdout",
     "output_type": "stream",
     "text": [
      "[[1284   43]\n",
      " [  24   13]]\n"
     ]
    }
   ],
   "source": [
    "y_pred = classifier.predict(X_test)\n",
    "cm = confusion_matrix(y_test, y_pred)\n",
    "print(cm)"
   ]
  },
  {
   "cell_type": "code",
   "execution_count": 124,
   "id": "653772df-2659-4a15-b932-4b830b43f812",
   "metadata": {},
   "outputs": [
    {
     "name": "stdout",
     "output_type": "stream",
     "text": [
      "Accuracy score : 0.9508797653958945\n"
     ]
    }
   ],
   "source": [
    "acc4 = accuracy_score(y_test, y_pred)\n",
    "print(f\"Accuracy score : {acc4}\")"
   ]
  },
  {
   "cell_type": "code",
   "execution_count": 125,
   "id": "2e235d5e-1318-44ad-9683-5fb82b53c2c2",
   "metadata": {},
   "outputs": [
    {
     "data": {
      "text/plain": [
       "DecisionTreeClassifier(criterion='entropy', random_state=0)"
      ]
     },
     "execution_count": 125,
     "metadata": {},
     "output_type": "execute_result"
    }
   ],
   "source": [
    "from sklearn.tree import DecisionTreeClassifier\n",
    "classifier = DecisionTreeClassifier(criterion = 'entropy', random_state = 0)\n",
    "classifier.fit(X_train, y_train)"
   ]
  },
  {
   "cell_type": "code",
   "execution_count": 126,
   "id": "1c6dc941-f0e8-440f-aff7-dd6fb883b9ca",
   "metadata": {},
   "outputs": [
    {
     "name": "stdout",
     "output_type": "stream",
     "text": [
      "Accuracy score: 0.9457478005865103\n"
     ]
    }
   ],
   "source": [
    "y_pred = classifier.predict(X_test)\n",
    "acc5 = accuracy_score(y_test, y_pred)\n",
    "print(f\"Accuracy score: {acc5}\")"
   ]
  },
  {
   "cell_type": "code",
   "execution_count": 127,
   "id": "4ef7bdba-b747-45f9-a862-e1841a8cdc86",
   "metadata": {},
   "outputs": [
    {
     "data": {
      "text/plain": [
       "RandomForestClassifier(criterion='entropy', n_estimators=10, random_state=0)"
      ]
     },
     "execution_count": 127,
     "metadata": {},
     "output_type": "execute_result"
    }
   ],
   "source": [
    "from sklearn.ensemble import RandomForestClassifier\n",
    "classifier = RandomForestClassifier(n_estimators = 10, criterion = 'entropy', random_state = 0)\n",
    "classifier.fit(X_train, y_train)"
   ]
  },
  {
   "cell_type": "code",
   "execution_count": 128,
   "id": "b9c198fc-7457-4757-8a62-9d913f11df8a",
   "metadata": {},
   "outputs": [
    {
     "name": "stdout",
     "output_type": "stream",
     "text": [
      "[[1312   15]\n",
      " [  30    7]]\n"
     ]
    }
   ],
   "source": [
    "y_pred = classifier.predict(X_test)\n",
    "from sklearn.metrics import confusion_matrix, accuracy_score\n",
    "cm = confusion_matrix(y_test, y_pred)\n",
    "print(cm)\n",
    "acc6 = accuracy_score(y_test, y_pred)"
   ]
  },
  {
   "cell_type": "code",
   "execution_count": 129,
   "id": "d75cc667-83c7-489e-aea0-3a8c536aac70",
   "metadata": {},
   "outputs": [
    {
     "name": "stdout",
     "output_type": "stream",
     "text": [
      "Random Forest Classification accuracy: 0.967008797653959\n"
     ]
    }
   ],
   "source": [
    "print(f\"Random Forest Classification accuracy: {acc6}\")"
   ]
  },
  {
   "cell_type": "code",
   "execution_count": 132,
   "id": "b909c8da-5cc8-4099-970a-0f442b06751b",
   "metadata": {},
   "outputs": [
    {
     "name": "stdout",
     "output_type": "stream",
     "text": [
      "Collecting xgboost\n",
      "  Downloading xgboost-1.6.1-py3-none-macosx_10_15_x86_64.macosx_11_0_x86_64.macosx_12_0_x86_64.whl (1.7 MB)\n",
      "\u001b[K     |████████████████████████████████| 1.7 MB 5.3 MB/s eta 0:00:01\n",
      "\u001b[?25hRequirement already satisfied: scipy in /Users/bennysun/opt/anaconda3/lib/python3.9/site-packages (from xgboost) (1.7.1)\n",
      "Requirement already satisfied: numpy in /Users/bennysun/opt/anaconda3/lib/python3.9/site-packages (from xgboost) (1.20.3)\n",
      "Installing collected packages: xgboost\n",
      "Successfully installed xgboost-1.6.1\n",
      "Note: you may need to restart the kernel to use updated packages.\n"
     ]
    }
   ],
   "source": [
    "pip install xgboost"
   ]
  },
  {
   "cell_type": "code",
   "execution_count": 133,
   "id": "1cbc8448-e9fc-4066-935e-6947ee8df458",
   "metadata": {},
   "outputs": [
    {
     "data": {
      "text/plain": [
       "XGBClassifier(base_score=0.5, booster='gbtree', callbacks=None,\n",
       "              colsample_bylevel=1, colsample_bynode=1, colsample_bytree=1,\n",
       "              early_stopping_rounds=None, enable_categorical=False,\n",
       "              eval_metric=None, gamma=0, gpu_id=-1, grow_policy='depthwise',\n",
       "              importance_type=None, interaction_constraints='',\n",
       "              learning_rate=0.300000012, max_bin=256, max_cat_to_onehot=4,\n",
       "              max_delta_step=0, max_depth=6, max_leaves=0, min_child_weight=1,\n",
       "              missing=nan, monotone_constraints='()', n_estimators=100,\n",
       "              n_jobs=0, num_parallel_tree=1, predictor='auto', random_state=0,\n",
       "              reg_alpha=0, reg_lambda=1, ...)"
      ]
     },
     "execution_count": 133,
     "metadata": {},
     "output_type": "execute_result"
    }
   ],
   "source": [
    "from xgboost import XGBClassifier\n",
    "classifier = XGBClassifier()\n",
    "classifier.fit(X_train, y_train)"
   ]
  },
  {
   "cell_type": "code",
   "execution_count": 134,
   "id": "836ac3dc-37ee-4f04-94dc-664109f7d617",
   "metadata": {},
   "outputs": [
    {
     "name": "stdout",
     "output_type": "stream",
     "text": [
      "[[1308   19]\n",
      " [  30    7]]\n"
     ]
    }
   ],
   "source": [
    "y_pred = classifier.predict(X_test)\n",
    "cm = confusion_matrix(y_test, y_pred)\n",
    "print(cm)\n",
    "acc7 = accuracy_score(y_test, y_pred)"
   ]
  },
  {
   "cell_type": "code",
   "execution_count": 135,
   "id": "d61733b4-2207-43f5-b0f3-8c4e2e05dbe1",
   "metadata": {},
   "outputs": [
    {
     "name": "stdout",
     "output_type": "stream",
     "text": [
      "By XG Boost classifier Acc: 0.9640762463343109\n"
     ]
    }
   ],
   "source": [
    "print(f\"By XG Boost classifier Acc: {acc7}\")"
   ]
  },
  {
   "cell_type": "code",
   "execution_count": 138,
   "id": "b93579dd-a9f8-44c9-8fff-b60f293c40e5",
   "metadata": {},
   "outputs": [
    {
     "name": "stdout",
     "output_type": "stream",
     "text": [
      "Learning rate set to 0.021256\n",
      "0:\tlearn: 0.6473517\ttotal: 61.5ms\tremaining: 1m 1s\n",
      "1:\tlearn: 0.6000008\ttotal: 63.1ms\tremaining: 31.5s\n",
      "2:\tlearn: 0.5561607\ttotal: 64.7ms\tremaining: 21.5s\n",
      "3:\tlearn: 0.5175287\ttotal: 66.2ms\tremaining: 16.5s\n",
      "4:\tlearn: 0.4840767\ttotal: 67.6ms\tremaining: 13.5s\n",
      "5:\tlearn: 0.4504773\ttotal: 69.1ms\tremaining: 11.4s\n",
      "6:\tlearn: 0.4220994\ttotal: 70.6ms\tremaining: 10s\n",
      "7:\tlearn: 0.3942392\ttotal: 72ms\tremaining: 8.93s\n",
      "8:\tlearn: 0.3707770\ttotal: 73.5ms\tremaining: 8.09s\n",
      "9:\tlearn: 0.3546408\ttotal: 75.1ms\tremaining: 7.43s\n",
      "10:\tlearn: 0.3361282\ttotal: 76.6ms\tremaining: 6.88s\n",
      "11:\tlearn: 0.3163615\ttotal: 78.4ms\tremaining: 6.46s\n",
      "12:\tlearn: 0.2991785\ttotal: 80.1ms\tremaining: 6.08s\n",
      "13:\tlearn: 0.2830704\ttotal: 82.1ms\tremaining: 5.78s\n",
      "14:\tlearn: 0.2670250\ttotal: 84ms\tremaining: 5.52s\n",
      "15:\tlearn: 0.2539894\ttotal: 86.3ms\tremaining: 5.31s\n",
      "16:\tlearn: 0.2408893\ttotal: 87.8ms\tremaining: 5.08s\n",
      "17:\tlearn: 0.2291700\ttotal: 89.3ms\tremaining: 4.87s\n",
      "18:\tlearn: 0.2195556\ttotal: 91ms\tremaining: 4.7s\n",
      "19:\tlearn: 0.2106011\ttotal: 93.1ms\tremaining: 4.56s\n",
      "20:\tlearn: 0.2017371\ttotal: 94.7ms\tremaining: 4.42s\n",
      "21:\tlearn: 0.1936737\ttotal: 96.4ms\tremaining: 4.29s\n",
      "22:\tlearn: 0.1863069\ttotal: 98ms\tremaining: 4.16s\n",
      "23:\tlearn: 0.1796884\ttotal: 99.4ms\tremaining: 4.04s\n",
      "24:\tlearn: 0.1735502\ttotal: 101ms\tremaining: 3.93s\n",
      "25:\tlearn: 0.1673071\ttotal: 102ms\tremaining: 3.84s\n",
      "26:\tlearn: 0.1615639\ttotal: 104ms\tremaining: 3.75s\n",
      "27:\tlearn: 0.1562929\ttotal: 105ms\tremaining: 3.66s\n",
      "28:\tlearn: 0.1516299\ttotal: 107ms\tremaining: 3.57s\n",
      "29:\tlearn: 0.1473681\ttotal: 108ms\tremaining: 3.49s\n",
      "30:\tlearn: 0.1433737\ttotal: 110ms\tremaining: 3.43s\n",
      "31:\tlearn: 0.1401609\ttotal: 111ms\tremaining: 3.36s\n",
      "32:\tlearn: 0.1367535\ttotal: 113ms\tremaining: 3.3s\n",
      "33:\tlearn: 0.1336815\ttotal: 114ms\tremaining: 3.24s\n",
      "34:\tlearn: 0.1307237\ttotal: 116ms\tremaining: 3.19s\n",
      "35:\tlearn: 0.1277954\ttotal: 121ms\tremaining: 3.25s\n",
      "36:\tlearn: 0.1252840\ttotal: 124ms\tremaining: 3.22s\n",
      "37:\tlearn: 0.1226112\ttotal: 126ms\tremaining: 3.18s\n",
      "38:\tlearn: 0.1204575\ttotal: 127ms\tremaining: 3.13s\n",
      "39:\tlearn: 0.1184359\ttotal: 129ms\tremaining: 3.09s\n",
      "40:\tlearn: 0.1164023\ttotal: 131ms\tremaining: 3.06s\n",
      "41:\tlearn: 0.1145162\ttotal: 133ms\tremaining: 3.02s\n",
      "42:\tlearn: 0.1131168\ttotal: 134ms\tremaining: 2.98s\n",
      "43:\tlearn: 0.1113416\ttotal: 135ms\tremaining: 2.94s\n",
      "44:\tlearn: 0.1100236\ttotal: 137ms\tremaining: 2.9s\n",
      "45:\tlearn: 0.1085123\ttotal: 138ms\tremaining: 2.87s\n",
      "46:\tlearn: 0.1070619\ttotal: 140ms\tremaining: 2.83s\n",
      "47:\tlearn: 0.1058256\ttotal: 141ms\tremaining: 2.8s\n",
      "48:\tlearn: 0.1049973\ttotal: 143ms\tremaining: 2.77s\n",
      "49:\tlearn: 0.1038801\ttotal: 144ms\tremaining: 2.74s\n",
      "50:\tlearn: 0.1027999\ttotal: 146ms\tremaining: 2.71s\n",
      "51:\tlearn: 0.1016945\ttotal: 148ms\tremaining: 2.7s\n",
      "52:\tlearn: 0.1007158\ttotal: 150ms\tremaining: 2.67s\n",
      "53:\tlearn: 0.0997088\ttotal: 151ms\tremaining: 2.64s\n",
      "54:\tlearn: 0.0988449\ttotal: 152ms\tremaining: 2.62s\n",
      "55:\tlearn: 0.0980573\ttotal: 154ms\tremaining: 2.59s\n",
      "56:\tlearn: 0.0972383\ttotal: 155ms\tremaining: 2.57s\n",
      "57:\tlearn: 0.0965141\ttotal: 157ms\tremaining: 2.55s\n",
      "58:\tlearn: 0.0958570\ttotal: 159ms\tremaining: 2.53s\n",
      "59:\tlearn: 0.0951400\ttotal: 160ms\tremaining: 2.5s\n",
      "60:\tlearn: 0.0943070\ttotal: 161ms\tremaining: 2.48s\n",
      "61:\tlearn: 0.0936150\ttotal: 163ms\tremaining: 2.46s\n",
      "62:\tlearn: 0.0930671\ttotal: 164ms\tremaining: 2.44s\n",
      "63:\tlearn: 0.0923732\ttotal: 166ms\tremaining: 2.42s\n",
      "64:\tlearn: 0.0917084\ttotal: 168ms\tremaining: 2.41s\n",
      "65:\tlearn: 0.0911541\ttotal: 169ms\tremaining: 2.4s\n",
      "66:\tlearn: 0.0907263\ttotal: 171ms\tremaining: 2.38s\n",
      "67:\tlearn: 0.0902743\ttotal: 173ms\tremaining: 2.37s\n",
      "68:\tlearn: 0.0898506\ttotal: 175ms\tremaining: 2.35s\n",
      "69:\tlearn: 0.0893945\ttotal: 176ms\tremaining: 2.34s\n",
      "70:\tlearn: 0.0889770\ttotal: 177ms\tremaining: 2.32s\n",
      "71:\tlearn: 0.0885616\ttotal: 179ms\tremaining: 2.31s\n",
      "72:\tlearn: 0.0882055\ttotal: 181ms\tremaining: 2.29s\n",
      "73:\tlearn: 0.0877634\ttotal: 183ms\tremaining: 2.29s\n",
      "74:\tlearn: 0.0874549\ttotal: 185ms\tremaining: 2.27s\n",
      "75:\tlearn: 0.0870643\ttotal: 186ms\tremaining: 2.26s\n",
      "76:\tlearn: 0.0867950\ttotal: 188ms\tremaining: 2.25s\n",
      "77:\tlearn: 0.0864682\ttotal: 190ms\tremaining: 2.24s\n",
      "78:\tlearn: 0.0861400\ttotal: 191ms\tremaining: 2.23s\n",
      "79:\tlearn: 0.0858016\ttotal: 193ms\tremaining: 2.22s\n",
      "80:\tlearn: 0.0854220\ttotal: 195ms\tremaining: 2.21s\n",
      "81:\tlearn: 0.0852649\ttotal: 196ms\tremaining: 2.19s\n",
      "82:\tlearn: 0.0849965\ttotal: 198ms\tremaining: 2.18s\n",
      "83:\tlearn: 0.0845986\ttotal: 200ms\tremaining: 2.18s\n",
      "84:\tlearn: 0.0842827\ttotal: 201ms\tremaining: 2.17s\n",
      "85:\tlearn: 0.0840846\ttotal: 203ms\tremaining: 2.15s\n",
      "86:\tlearn: 0.0838414\ttotal: 204ms\tremaining: 2.14s\n",
      "87:\tlearn: 0.0835041\ttotal: 206ms\tremaining: 2.13s\n",
      "88:\tlearn: 0.0832913\ttotal: 207ms\tremaining: 2.12s\n",
      "89:\tlearn: 0.0831084\ttotal: 209ms\tremaining: 2.12s\n",
      "90:\tlearn: 0.0828937\ttotal: 211ms\tremaining: 2.11s\n",
      "91:\tlearn: 0.0826735\ttotal: 213ms\tremaining: 2.1s\n",
      "92:\tlearn: 0.0824684\ttotal: 215ms\tremaining: 2.1s\n",
      "93:\tlearn: 0.0821822\ttotal: 217ms\tremaining: 2.09s\n",
      "94:\tlearn: 0.0819912\ttotal: 219ms\tremaining: 2.08s\n",
      "95:\tlearn: 0.0817245\ttotal: 220ms\tremaining: 2.07s\n",
      "96:\tlearn: 0.0815564\ttotal: 222ms\tremaining: 2.06s\n",
      "97:\tlearn: 0.0813568\ttotal: 223ms\tremaining: 2.05s\n",
      "98:\tlearn: 0.0811539\ttotal: 225ms\tremaining: 2.04s\n",
      "99:\tlearn: 0.0809740\ttotal: 227ms\tremaining: 2.04s\n",
      "100:\tlearn: 0.0807682\ttotal: 228ms\tremaining: 2.03s\n",
      "101:\tlearn: 0.0805288\ttotal: 229ms\tremaining: 2.02s\n",
      "102:\tlearn: 0.0803036\ttotal: 231ms\tremaining: 2.01s\n",
      "103:\tlearn: 0.0801505\ttotal: 233ms\tremaining: 2.01s\n",
      "104:\tlearn: 0.0799085\ttotal: 235ms\tremaining: 2s\n",
      "105:\tlearn: 0.0797396\ttotal: 236ms\tremaining: 1.99s\n",
      "106:\tlearn: 0.0795989\ttotal: 237ms\tremaining: 1.98s\n",
      "107:\tlearn: 0.0794306\ttotal: 239ms\tremaining: 1.97s\n",
      "108:\tlearn: 0.0792600\ttotal: 240ms\tremaining: 1.96s\n",
      "109:\tlearn: 0.0791028\ttotal: 241ms\tremaining: 1.95s\n",
      "110:\tlearn: 0.0789436\ttotal: 242ms\tremaining: 1.94s\n",
      "111:\tlearn: 0.0786915\ttotal: 243ms\tremaining: 1.93s\n",
      "112:\tlearn: 0.0785052\ttotal: 245ms\tremaining: 1.92s\n",
      "113:\tlearn: 0.0782792\ttotal: 246ms\tremaining: 1.91s\n",
      "114:\tlearn: 0.0781214\ttotal: 247ms\tremaining: 1.9s\n",
      "115:\tlearn: 0.0779451\ttotal: 248ms\tremaining: 1.89s\n",
      "116:\tlearn: 0.0778048\ttotal: 250ms\tremaining: 1.88s\n",
      "117:\tlearn: 0.0776481\ttotal: 252ms\tremaining: 1.88s\n",
      "118:\tlearn: 0.0775494\ttotal: 253ms\tremaining: 1.87s\n",
      "119:\tlearn: 0.0774160\ttotal: 255ms\tremaining: 1.87s\n",
      "120:\tlearn: 0.0772636\ttotal: 256ms\tremaining: 1.86s\n",
      "121:\tlearn: 0.0770841\ttotal: 258ms\tremaining: 1.86s\n",
      "122:\tlearn: 0.0769456\ttotal: 260ms\tremaining: 1.85s\n",
      "123:\tlearn: 0.0767339\ttotal: 261ms\tremaining: 1.84s\n",
      "124:\tlearn: 0.0766310\ttotal: 263ms\tremaining: 1.84s\n",
      "125:\tlearn: 0.0765431\ttotal: 265ms\tremaining: 1.83s\n",
      "126:\tlearn: 0.0763943\ttotal: 266ms\tremaining: 1.83s\n",
      "127:\tlearn: 0.0762970\ttotal: 268ms\tremaining: 1.82s\n",
      "128:\tlearn: 0.0761657\ttotal: 269ms\tremaining: 1.82s\n",
      "129:\tlearn: 0.0759709\ttotal: 271ms\tremaining: 1.81s\n",
      "130:\tlearn: 0.0758027\ttotal: 273ms\tremaining: 1.81s\n",
      "131:\tlearn: 0.0756647\ttotal: 274ms\tremaining: 1.8s\n",
      "132:\tlearn: 0.0755194\ttotal: 276ms\tremaining: 1.8s\n",
      "133:\tlearn: 0.0754070\ttotal: 278ms\tremaining: 1.79s\n",
      "134:\tlearn: 0.0752919\ttotal: 279ms\tremaining: 1.79s\n",
      "135:\tlearn: 0.0752034\ttotal: 281ms\tremaining: 1.79s\n",
      "136:\tlearn: 0.0750993\ttotal: 282ms\tremaining: 1.78s\n",
      "137:\tlearn: 0.0750047\ttotal: 284ms\tremaining: 1.77s\n",
      "138:\tlearn: 0.0748820\ttotal: 286ms\tremaining: 1.77s\n",
      "139:\tlearn: 0.0747128\ttotal: 288ms\tremaining: 1.77s\n",
      "140:\tlearn: 0.0745568\ttotal: 290ms\tremaining: 1.76s\n",
      "141:\tlearn: 0.0744430\ttotal: 291ms\tremaining: 1.76s\n",
      "142:\tlearn: 0.0743094\ttotal: 293ms\tremaining: 1.75s\n",
      "143:\tlearn: 0.0742012\ttotal: 295ms\tremaining: 1.75s\n",
      "144:\tlearn: 0.0741071\ttotal: 296ms\tremaining: 1.75s\n",
      "145:\tlearn: 0.0739538\ttotal: 298ms\tremaining: 1.74s\n",
      "146:\tlearn: 0.0738415\ttotal: 299ms\tremaining: 1.74s\n",
      "147:\tlearn: 0.0736883\ttotal: 301ms\tremaining: 1.73s\n",
      "148:\tlearn: 0.0735608\ttotal: 303ms\tremaining: 1.73s\n",
      "149:\tlearn: 0.0734814\ttotal: 304ms\tremaining: 1.72s\n",
      "150:\tlearn: 0.0733555\ttotal: 306ms\tremaining: 1.72s\n",
      "151:\tlearn: 0.0732308\ttotal: 307ms\tremaining: 1.71s\n",
      "152:\tlearn: 0.0731354\ttotal: 309ms\tremaining: 1.71s\n",
      "153:\tlearn: 0.0730071\ttotal: 311ms\tremaining: 1.71s\n",
      "154:\tlearn: 0.0729236\ttotal: 312ms\tremaining: 1.7s\n",
      "155:\tlearn: 0.0728388\ttotal: 314ms\tremaining: 1.7s\n",
      "156:\tlearn: 0.0726747\ttotal: 316ms\tremaining: 1.7s\n",
      "157:\tlearn: 0.0725255\ttotal: 318ms\tremaining: 1.69s\n",
      "158:\tlearn: 0.0724200\ttotal: 319ms\tremaining: 1.69s\n",
      "159:\tlearn: 0.0723137\ttotal: 321ms\tremaining: 1.68s\n",
      "160:\tlearn: 0.0721994\ttotal: 322ms\tremaining: 1.68s\n",
      "161:\tlearn: 0.0720935\ttotal: 324ms\tremaining: 1.68s\n",
      "162:\tlearn: 0.0720099\ttotal: 326ms\tremaining: 1.67s\n",
      "163:\tlearn: 0.0718588\ttotal: 328ms\tremaining: 1.67s\n",
      "164:\tlearn: 0.0717822\ttotal: 329ms\tremaining: 1.67s\n",
      "165:\tlearn: 0.0717060\ttotal: 332ms\tremaining: 1.67s\n",
      "166:\tlearn: 0.0715980\ttotal: 333ms\tremaining: 1.66s\n",
      "167:\tlearn: 0.0715192\ttotal: 336ms\tremaining: 1.66s\n",
      "168:\tlearn: 0.0714461\ttotal: 337ms\tremaining: 1.66s\n",
      "169:\tlearn: 0.0713245\ttotal: 339ms\tremaining: 1.65s\n",
      "170:\tlearn: 0.0712116\ttotal: 340ms\tremaining: 1.65s\n",
      "171:\tlearn: 0.0711229\ttotal: 342ms\tremaining: 1.65s\n",
      "172:\tlearn: 0.0710101\ttotal: 343ms\tremaining: 1.64s\n",
      "173:\tlearn: 0.0708984\ttotal: 345ms\tremaining: 1.64s\n",
      "174:\tlearn: 0.0707714\ttotal: 346ms\tremaining: 1.63s\n",
      "175:\tlearn: 0.0706549\ttotal: 348ms\tremaining: 1.63s\n",
      "176:\tlearn: 0.0705355\ttotal: 349ms\tremaining: 1.63s\n",
      "177:\tlearn: 0.0704204\ttotal: 355ms\tremaining: 1.64s\n",
      "178:\tlearn: 0.0703061\ttotal: 357ms\tremaining: 1.64s\n",
      "179:\tlearn: 0.0702192\ttotal: 358ms\tremaining: 1.63s\n",
      "180:\tlearn: 0.0700829\ttotal: 360ms\tremaining: 1.63s\n",
      "181:\tlearn: 0.0699741\ttotal: 361ms\tremaining: 1.62s\n",
      "182:\tlearn: 0.0699232\ttotal: 363ms\tremaining: 1.62s\n",
      "183:\tlearn: 0.0698614\ttotal: 364ms\tremaining: 1.61s\n",
      "184:\tlearn: 0.0697704\ttotal: 366ms\tremaining: 1.61s\n",
      "185:\tlearn: 0.0696738\ttotal: 368ms\tremaining: 1.61s\n",
      "186:\tlearn: 0.0695862\ttotal: 370ms\tremaining: 1.61s\n",
      "187:\tlearn: 0.0695553\ttotal: 371ms\tremaining: 1.6s\n",
      "188:\tlearn: 0.0694908\ttotal: 373ms\tremaining: 1.6s\n",
      "189:\tlearn: 0.0694140\ttotal: 375ms\tremaining: 1.6s\n",
      "190:\tlearn: 0.0693385\ttotal: 376ms\tremaining: 1.59s\n",
      "191:\tlearn: 0.0692395\ttotal: 378ms\tremaining: 1.59s\n",
      "192:\tlearn: 0.0691813\ttotal: 379ms\tremaining: 1.59s\n",
      "193:\tlearn: 0.0690862\ttotal: 381ms\tremaining: 1.58s\n",
      "194:\tlearn: 0.0689982\ttotal: 384ms\tremaining: 1.58s\n",
      "195:\tlearn: 0.0689311\ttotal: 385ms\tremaining: 1.58s\n",
      "196:\tlearn: 0.0688554\ttotal: 388ms\tremaining: 1.58s\n",
      "197:\tlearn: 0.0688136\ttotal: 390ms\tremaining: 1.58s\n",
      "198:\tlearn: 0.0687272\ttotal: 392ms\tremaining: 1.58s\n",
      "199:\tlearn: 0.0686129\ttotal: 393ms\tremaining: 1.57s\n",
      "200:\tlearn: 0.0685374\ttotal: 395ms\tremaining: 1.57s\n",
      "201:\tlearn: 0.0684869\ttotal: 396ms\tremaining: 1.57s\n",
      "202:\tlearn: 0.0684460\ttotal: 398ms\tremaining: 1.56s\n",
      "203:\tlearn: 0.0683532\ttotal: 400ms\tremaining: 1.56s\n",
      "204:\tlearn: 0.0682919\ttotal: 401ms\tremaining: 1.56s\n",
      "205:\tlearn: 0.0682104\ttotal: 403ms\tremaining: 1.55s\n",
      "206:\tlearn: 0.0680950\ttotal: 405ms\tremaining: 1.55s\n",
      "207:\tlearn: 0.0680080\ttotal: 406ms\tremaining: 1.55s\n",
      "208:\tlearn: 0.0679709\ttotal: 408ms\tremaining: 1.54s\n",
      "209:\tlearn: 0.0678706\ttotal: 410ms\tremaining: 1.54s\n",
      "210:\tlearn: 0.0678022\ttotal: 412ms\tremaining: 1.54s\n",
      "211:\tlearn: 0.0677261\ttotal: 414ms\tremaining: 1.54s\n",
      "212:\tlearn: 0.0676217\ttotal: 415ms\tremaining: 1.53s\n",
      "213:\tlearn: 0.0675681\ttotal: 417ms\tremaining: 1.53s\n",
      "214:\tlearn: 0.0674857\ttotal: 419ms\tremaining: 1.53s\n",
      "215:\tlearn: 0.0673141\ttotal: 420ms\tremaining: 1.52s\n",
      "216:\tlearn: 0.0672143\ttotal: 422ms\tremaining: 1.52s\n",
      "217:\tlearn: 0.0671475\ttotal: 423ms\tremaining: 1.52s\n",
      "218:\tlearn: 0.0670964\ttotal: 425ms\tremaining: 1.51s\n",
      "219:\tlearn: 0.0670044\ttotal: 427ms\tremaining: 1.51s\n",
      "220:\tlearn: 0.0669010\ttotal: 429ms\tremaining: 1.51s\n",
      "221:\tlearn: 0.0668168\ttotal: 430ms\tremaining: 1.51s\n",
      "222:\tlearn: 0.0667649\ttotal: 432ms\tremaining: 1.5s\n",
      "223:\tlearn: 0.0667147\ttotal: 433ms\tremaining: 1.5s\n",
      "224:\tlearn: 0.0665999\ttotal: 435ms\tremaining: 1.5s\n",
      "225:\tlearn: 0.0665206\ttotal: 436ms\tremaining: 1.49s\n",
      "226:\tlearn: 0.0664374\ttotal: 438ms\tremaining: 1.49s\n",
      "227:\tlearn: 0.0663753\ttotal: 440ms\tremaining: 1.49s\n",
      "228:\tlearn: 0.0663008\ttotal: 441ms\tremaining: 1.49s\n",
      "229:\tlearn: 0.0662303\ttotal: 443ms\tremaining: 1.48s\n",
      "230:\tlearn: 0.0661226\ttotal: 445ms\tremaining: 1.48s\n",
      "231:\tlearn: 0.0660642\ttotal: 447ms\tremaining: 1.48s\n",
      "232:\tlearn: 0.0659663\ttotal: 448ms\tremaining: 1.48s\n",
      "233:\tlearn: 0.0659049\ttotal: 450ms\tremaining: 1.47s\n",
      "234:\tlearn: 0.0658414\ttotal: 452ms\tremaining: 1.47s\n",
      "235:\tlearn: 0.0657887\ttotal: 453ms\tremaining: 1.47s\n",
      "236:\tlearn: 0.0657217\ttotal: 455ms\tremaining: 1.46s\n",
      "237:\tlearn: 0.0656440\ttotal: 457ms\tremaining: 1.46s\n",
      "238:\tlearn: 0.0655527\ttotal: 458ms\tremaining: 1.46s\n",
      "239:\tlearn: 0.0654670\ttotal: 460ms\tremaining: 1.46s\n",
      "240:\tlearn: 0.0653440\ttotal: 462ms\tremaining: 1.45s\n",
      "241:\tlearn: 0.0652565\ttotal: 464ms\tremaining: 1.45s\n",
      "242:\tlearn: 0.0652164\ttotal: 465ms\tremaining: 1.45s\n",
      "243:\tlearn: 0.0651258\ttotal: 466ms\tremaining: 1.44s\n",
      "244:\tlearn: 0.0650355\ttotal: 468ms\tremaining: 1.44s\n",
      "245:\tlearn: 0.0649883\ttotal: 469ms\tremaining: 1.44s\n",
      "246:\tlearn: 0.0649171\ttotal: 472ms\tremaining: 1.44s\n",
      "247:\tlearn: 0.0648212\ttotal: 473ms\tremaining: 1.44s\n",
      "248:\tlearn: 0.0647059\ttotal: 475ms\tremaining: 1.43s\n",
      "249:\tlearn: 0.0646369\ttotal: 476ms\tremaining: 1.43s\n",
      "250:\tlearn: 0.0645696\ttotal: 477ms\tremaining: 1.42s\n",
      "251:\tlearn: 0.0644716\ttotal: 478ms\tremaining: 1.42s\n",
      "252:\tlearn: 0.0644217\ttotal: 480ms\tremaining: 1.42s\n",
      "253:\tlearn: 0.0643472\ttotal: 481ms\tremaining: 1.41s\n",
      "254:\tlearn: 0.0642968\ttotal: 482ms\tremaining: 1.41s\n",
      "255:\tlearn: 0.0641940\ttotal: 484ms\tremaining: 1.41s\n",
      "256:\tlearn: 0.0640985\ttotal: 485ms\tremaining: 1.4s\n",
      "257:\tlearn: 0.0640282\ttotal: 486ms\tremaining: 1.4s\n",
      "258:\tlearn: 0.0639541\ttotal: 488ms\tremaining: 1.4s\n",
      "259:\tlearn: 0.0638792\ttotal: 490ms\tremaining: 1.39s\n",
      "260:\tlearn: 0.0637633\ttotal: 491ms\tremaining: 1.39s\n",
      "261:\tlearn: 0.0636695\ttotal: 493ms\tremaining: 1.39s\n",
      "262:\tlearn: 0.0635782\ttotal: 495ms\tremaining: 1.39s\n",
      "263:\tlearn: 0.0634787\ttotal: 497ms\tremaining: 1.39s\n",
      "264:\tlearn: 0.0634038\ttotal: 499ms\tremaining: 1.38s\n",
      "265:\tlearn: 0.0633852\ttotal: 500ms\tremaining: 1.38s\n",
      "266:\tlearn: 0.0633202\ttotal: 502ms\tremaining: 1.38s\n",
      "267:\tlearn: 0.0632823\ttotal: 503ms\tremaining: 1.37s\n",
      "268:\tlearn: 0.0631762\ttotal: 504ms\tremaining: 1.37s\n",
      "269:\tlearn: 0.0631215\ttotal: 506ms\tremaining: 1.37s\n",
      "270:\tlearn: 0.0630321\ttotal: 507ms\tremaining: 1.36s\n",
      "271:\tlearn: 0.0629620\ttotal: 509ms\tremaining: 1.36s\n",
      "272:\tlearn: 0.0628931\ttotal: 510ms\tremaining: 1.36s\n",
      "273:\tlearn: 0.0628365\ttotal: 512ms\tremaining: 1.36s\n",
      "274:\tlearn: 0.0627721\ttotal: 514ms\tremaining: 1.35s\n",
      "275:\tlearn: 0.0626933\ttotal: 515ms\tremaining: 1.35s\n",
      "276:\tlearn: 0.0626593\ttotal: 517ms\tremaining: 1.35s\n",
      "277:\tlearn: 0.0626095\ttotal: 519ms\tremaining: 1.35s\n",
      "278:\tlearn: 0.0625031\ttotal: 521ms\tremaining: 1.34s\n",
      "279:\tlearn: 0.0624757\ttotal: 522ms\tremaining: 1.34s\n",
      "280:\tlearn: 0.0624068\ttotal: 524ms\tremaining: 1.34s\n",
      "281:\tlearn: 0.0623143\ttotal: 526ms\tremaining: 1.34s\n",
      "282:\tlearn: 0.0622801\ttotal: 528ms\tremaining: 1.34s\n",
      "283:\tlearn: 0.0621694\ttotal: 529ms\tremaining: 1.33s\n",
      "284:\tlearn: 0.0621200\ttotal: 531ms\tremaining: 1.33s\n",
      "285:\tlearn: 0.0620599\ttotal: 533ms\tremaining: 1.33s\n",
      "286:\tlearn: 0.0620023\ttotal: 535ms\tremaining: 1.33s\n",
      "287:\tlearn: 0.0619486\ttotal: 536ms\tremaining: 1.33s\n",
      "288:\tlearn: 0.0619166\ttotal: 538ms\tremaining: 1.32s\n",
      "289:\tlearn: 0.0618153\ttotal: 539ms\tremaining: 1.32s\n",
      "290:\tlearn: 0.0617506\ttotal: 542ms\tremaining: 1.32s\n",
      "291:\tlearn: 0.0616781\ttotal: 543ms\tremaining: 1.32s\n",
      "292:\tlearn: 0.0615888\ttotal: 546ms\tremaining: 1.32s\n",
      "293:\tlearn: 0.0615675\ttotal: 547ms\tremaining: 1.31s\n",
      "294:\tlearn: 0.0615236\ttotal: 549ms\tremaining: 1.31s\n",
      "295:\tlearn: 0.0614392\ttotal: 550ms\tremaining: 1.31s\n",
      "296:\tlearn: 0.0613840\ttotal: 552ms\tremaining: 1.3s\n",
      "297:\tlearn: 0.0613582\ttotal: 553ms\tremaining: 1.3s\n",
      "298:\tlearn: 0.0612929\ttotal: 555ms\tremaining: 1.3s\n",
      "299:\tlearn: 0.0612087\ttotal: 557ms\tremaining: 1.3s\n",
      "300:\tlearn: 0.0611625\ttotal: 559ms\tremaining: 1.3s\n",
      "301:\tlearn: 0.0611228\ttotal: 560ms\tremaining: 1.29s\n",
      "302:\tlearn: 0.0610611\ttotal: 562ms\tremaining: 1.29s\n",
      "303:\tlearn: 0.0609906\ttotal: 563ms\tremaining: 1.29s\n",
      "304:\tlearn: 0.0609103\ttotal: 565ms\tremaining: 1.29s\n",
      "305:\tlearn: 0.0608140\ttotal: 567ms\tremaining: 1.28s\n",
      "306:\tlearn: 0.0607598\ttotal: 568ms\tremaining: 1.28s\n",
      "307:\tlearn: 0.0606872\ttotal: 570ms\tremaining: 1.28s\n",
      "308:\tlearn: 0.0606552\ttotal: 571ms\tremaining: 1.28s\n",
      "309:\tlearn: 0.0605508\ttotal: 573ms\tremaining: 1.27s\n",
      "310:\tlearn: 0.0604569\ttotal: 575ms\tremaining: 1.27s\n",
      "311:\tlearn: 0.0604323\ttotal: 577ms\tremaining: 1.27s\n",
      "312:\tlearn: 0.0603540\ttotal: 578ms\tremaining: 1.27s\n",
      "313:\tlearn: 0.0602822\ttotal: 580ms\tremaining: 1.27s\n",
      "314:\tlearn: 0.0602326\ttotal: 581ms\tremaining: 1.26s\n",
      "315:\tlearn: 0.0601993\ttotal: 583ms\tremaining: 1.26s\n",
      "316:\tlearn: 0.0601359\ttotal: 585ms\tremaining: 1.26s\n",
      "317:\tlearn: 0.0600639\ttotal: 586ms\tremaining: 1.26s\n",
      "318:\tlearn: 0.0599514\ttotal: 588ms\tremaining: 1.25s\n",
      "319:\tlearn: 0.0599138\ttotal: 590ms\tremaining: 1.25s\n",
      "320:\tlearn: 0.0598784\ttotal: 591ms\tremaining: 1.25s\n",
      "321:\tlearn: 0.0598244\ttotal: 592ms\tremaining: 1.25s\n",
      "322:\tlearn: 0.0597482\ttotal: 593ms\tremaining: 1.24s\n",
      "323:\tlearn: 0.0596969\ttotal: 595ms\tremaining: 1.24s\n",
      "324:\tlearn: 0.0595905\ttotal: 597ms\tremaining: 1.24s\n",
      "325:\tlearn: 0.0595183\ttotal: 599ms\tremaining: 1.24s\n",
      "326:\tlearn: 0.0594583\ttotal: 601ms\tremaining: 1.24s\n",
      "327:\tlearn: 0.0594235\ttotal: 602ms\tremaining: 1.23s\n",
      "328:\tlearn: 0.0593684\ttotal: 604ms\tremaining: 1.23s\n",
      "329:\tlearn: 0.0592965\ttotal: 606ms\tremaining: 1.23s\n",
      "330:\tlearn: 0.0592138\ttotal: 608ms\tremaining: 1.23s\n",
      "331:\tlearn: 0.0591307\ttotal: 609ms\tremaining: 1.23s\n",
      "332:\tlearn: 0.0590596\ttotal: 611ms\tremaining: 1.22s\n",
      "333:\tlearn: 0.0590035\ttotal: 612ms\tremaining: 1.22s\n",
      "334:\tlearn: 0.0589674\ttotal: 614ms\tremaining: 1.22s\n",
      "335:\tlearn: 0.0589236\ttotal: 615ms\tremaining: 1.22s\n",
      "336:\tlearn: 0.0588173\ttotal: 617ms\tremaining: 1.21s\n",
      "337:\tlearn: 0.0587353\ttotal: 619ms\tremaining: 1.21s\n",
      "338:\tlearn: 0.0586454\ttotal: 621ms\tremaining: 1.21s\n",
      "339:\tlearn: 0.0585671\ttotal: 622ms\tremaining: 1.21s\n",
      "340:\tlearn: 0.0585116\ttotal: 624ms\tremaining: 1.21s\n",
      "341:\tlearn: 0.0584778\ttotal: 625ms\tremaining: 1.2s\n",
      "342:\tlearn: 0.0584639\ttotal: 627ms\tremaining: 1.2s\n",
      "343:\tlearn: 0.0584348\ttotal: 628ms\tremaining: 1.2s\n",
      "344:\tlearn: 0.0583278\ttotal: 630ms\tremaining: 1.2s\n",
      "345:\tlearn: 0.0582685\ttotal: 631ms\tremaining: 1.19s\n",
      "346:\tlearn: 0.0582145\ttotal: 633ms\tremaining: 1.19s\n",
      "347:\tlearn: 0.0581897\ttotal: 635ms\tremaining: 1.19s\n",
      "348:\tlearn: 0.0581285\ttotal: 636ms\tremaining: 1.19s\n",
      "349:\tlearn: 0.0580492\ttotal: 638ms\tremaining: 1.19s\n",
      "350:\tlearn: 0.0579852\ttotal: 640ms\tremaining: 1.18s\n",
      "351:\tlearn: 0.0579029\ttotal: 642ms\tremaining: 1.18s\n",
      "352:\tlearn: 0.0578290\ttotal: 644ms\tremaining: 1.18s\n",
      "353:\tlearn: 0.0577964\ttotal: 645ms\tremaining: 1.18s\n",
      "354:\tlearn: 0.0576747\ttotal: 647ms\tremaining: 1.17s\n",
      "355:\tlearn: 0.0576039\ttotal: 648ms\tremaining: 1.17s\n",
      "356:\tlearn: 0.0575516\ttotal: 650ms\tremaining: 1.17s\n",
      "357:\tlearn: 0.0575173\ttotal: 652ms\tremaining: 1.17s\n",
      "358:\tlearn: 0.0574306\ttotal: 654ms\tremaining: 1.17s\n",
      "359:\tlearn: 0.0573421\ttotal: 655ms\tremaining: 1.16s\n",
      "360:\tlearn: 0.0573226\ttotal: 656ms\tremaining: 1.16s\n",
      "361:\tlearn: 0.0572348\ttotal: 658ms\tremaining: 1.16s\n",
      "362:\tlearn: 0.0571567\ttotal: 659ms\tremaining: 1.16s\n",
      "363:\tlearn: 0.0570935\ttotal: 661ms\tremaining: 1.16s\n",
      "364:\tlearn: 0.0570349\ttotal: 663ms\tremaining: 1.15s\n",
      "365:\tlearn: 0.0570146\ttotal: 664ms\tremaining: 1.15s\n",
      "366:\tlearn: 0.0570000\ttotal: 666ms\tremaining: 1.15s\n",
      "367:\tlearn: 0.0569479\ttotal: 667ms\tremaining: 1.15s\n",
      "368:\tlearn: 0.0568637\ttotal: 669ms\tremaining: 1.14s\n",
      "369:\tlearn: 0.0567959\ttotal: 671ms\tremaining: 1.14s\n",
      "370:\tlearn: 0.0567339\ttotal: 672ms\tremaining: 1.14s\n",
      "371:\tlearn: 0.0566995\ttotal: 674ms\tremaining: 1.14s\n",
      "372:\tlearn: 0.0565902\ttotal: 675ms\tremaining: 1.14s\n",
      "373:\tlearn: 0.0565010\ttotal: 677ms\tremaining: 1.13s\n",
      "374:\tlearn: 0.0564440\ttotal: 679ms\tremaining: 1.13s\n",
      "375:\tlearn: 0.0564192\ttotal: 680ms\tremaining: 1.13s\n",
      "376:\tlearn: 0.0563766\ttotal: 682ms\tremaining: 1.13s\n",
      "377:\tlearn: 0.0563269\ttotal: 684ms\tremaining: 1.13s\n",
      "378:\tlearn: 0.0562796\ttotal: 685ms\tremaining: 1.12s\n",
      "379:\tlearn: 0.0561901\ttotal: 687ms\tremaining: 1.12s\n",
      "380:\tlearn: 0.0561286\ttotal: 689ms\tremaining: 1.12s\n",
      "381:\tlearn: 0.0560578\ttotal: 690ms\tremaining: 1.12s\n",
      "382:\tlearn: 0.0559527\ttotal: 692ms\tremaining: 1.11s\n",
      "383:\tlearn: 0.0558929\ttotal: 693ms\tremaining: 1.11s\n",
      "384:\tlearn: 0.0558681\ttotal: 695ms\tremaining: 1.11s\n",
      "385:\tlearn: 0.0557984\ttotal: 697ms\tremaining: 1.11s\n",
      "386:\tlearn: 0.0557690\ttotal: 698ms\tremaining: 1.1s\n",
      "387:\tlearn: 0.0557258\ttotal: 700ms\tremaining: 1.1s\n",
      "388:\tlearn: 0.0557073\ttotal: 702ms\tremaining: 1.1s\n",
      "389:\tlearn: 0.0556268\ttotal: 703ms\tremaining: 1.1s\n",
      "390:\tlearn: 0.0555539\ttotal: 705ms\tremaining: 1.1s\n",
      "391:\tlearn: 0.0554923\ttotal: 707ms\tremaining: 1.1s\n",
      "392:\tlearn: 0.0554481\ttotal: 710ms\tremaining: 1.1s\n",
      "393:\tlearn: 0.0553512\ttotal: 712ms\tremaining: 1.09s\n",
      "394:\tlearn: 0.0552805\ttotal: 714ms\tremaining: 1.09s\n",
      "395:\tlearn: 0.0551973\ttotal: 716ms\tremaining: 1.09s\n",
      "396:\tlearn: 0.0551286\ttotal: 717ms\tremaining: 1.09s\n",
      "397:\tlearn: 0.0550678\ttotal: 718ms\tremaining: 1.09s\n",
      "398:\tlearn: 0.0549921\ttotal: 720ms\tremaining: 1.08s\n",
      "399:\tlearn: 0.0549554\ttotal: 722ms\tremaining: 1.08s\n",
      "400:\tlearn: 0.0549038\ttotal: 723ms\tremaining: 1.08s\n",
      "401:\tlearn: 0.0548471\ttotal: 725ms\tremaining: 1.08s\n",
      "402:\tlearn: 0.0547309\ttotal: 727ms\tremaining: 1.08s\n",
      "403:\tlearn: 0.0547044\ttotal: 728ms\tremaining: 1.07s\n",
      "404:\tlearn: 0.0546457\ttotal: 730ms\tremaining: 1.07s\n",
      "405:\tlearn: 0.0546120\ttotal: 732ms\tremaining: 1.07s\n",
      "406:\tlearn: 0.0545345\ttotal: 733ms\tremaining: 1.07s\n",
      "407:\tlearn: 0.0544553\ttotal: 735ms\tremaining: 1.07s\n",
      "408:\tlearn: 0.0543844\ttotal: 737ms\tremaining: 1.06s\n",
      "409:\tlearn: 0.0543455\ttotal: 738ms\tremaining: 1.06s\n",
      "410:\tlearn: 0.0542964\ttotal: 740ms\tremaining: 1.06s\n",
      "411:\tlearn: 0.0542671\ttotal: 742ms\tremaining: 1.06s\n",
      "412:\tlearn: 0.0542169\ttotal: 743ms\tremaining: 1.06s\n",
      "413:\tlearn: 0.0541535\ttotal: 744ms\tremaining: 1.05s\n",
      "414:\tlearn: 0.0540812\ttotal: 746ms\tremaining: 1.05s\n",
      "415:\tlearn: 0.0540211\ttotal: 748ms\tremaining: 1.05s\n",
      "416:\tlearn: 0.0539593\ttotal: 749ms\tremaining: 1.05s\n",
      "417:\tlearn: 0.0539286\ttotal: 751ms\tremaining: 1.04s\n",
      "418:\tlearn: 0.0538886\ttotal: 752ms\tremaining: 1.04s\n",
      "419:\tlearn: 0.0538408\ttotal: 754ms\tremaining: 1.04s\n",
      "420:\tlearn: 0.0537689\ttotal: 755ms\tremaining: 1.04s\n",
      "421:\tlearn: 0.0537280\ttotal: 757ms\tremaining: 1.04s\n",
      "422:\tlearn: 0.0536373\ttotal: 758ms\tremaining: 1.03s\n",
      "423:\tlearn: 0.0535639\ttotal: 760ms\tremaining: 1.03s\n",
      "424:\tlearn: 0.0535263\ttotal: 762ms\tremaining: 1.03s\n",
      "425:\tlearn: 0.0534697\ttotal: 763ms\tremaining: 1.03s\n",
      "426:\tlearn: 0.0534324\ttotal: 765ms\tremaining: 1.03s\n",
      "427:\tlearn: 0.0533538\ttotal: 767ms\tremaining: 1.02s\n",
      "428:\tlearn: 0.0532847\ttotal: 768ms\tremaining: 1.02s\n",
      "429:\tlearn: 0.0532247\ttotal: 770ms\tremaining: 1.02s\n",
      "430:\tlearn: 0.0531341\ttotal: 772ms\tremaining: 1.02s\n",
      "431:\tlearn: 0.0530731\ttotal: 773ms\tremaining: 1.02s\n",
      "432:\tlearn: 0.0530005\ttotal: 775ms\tremaining: 1.01s\n",
      "433:\tlearn: 0.0529229\ttotal: 777ms\tremaining: 1.01s\n",
      "434:\tlearn: 0.0528708\ttotal: 778ms\tremaining: 1.01s\n",
      "435:\tlearn: 0.0528161\ttotal: 780ms\tremaining: 1.01s\n",
      "436:\tlearn: 0.0527445\ttotal: 782ms\tremaining: 1.01s\n",
      "437:\tlearn: 0.0527166\ttotal: 783ms\tremaining: 1s\n",
      "438:\tlearn: 0.0526622\ttotal: 785ms\tremaining: 1s\n",
      "439:\tlearn: 0.0526147\ttotal: 787ms\tremaining: 1s\n",
      "440:\tlearn: 0.0525627\ttotal: 788ms\tremaining: 999ms\n",
      "441:\tlearn: 0.0524845\ttotal: 790ms\tremaining: 998ms\n",
      "442:\tlearn: 0.0524114\ttotal: 792ms\tremaining: 996ms\n",
      "443:\tlearn: 0.0523734\ttotal: 794ms\tremaining: 994ms\n",
      "444:\tlearn: 0.0523457\ttotal: 795ms\tremaining: 992ms\n",
      "445:\tlearn: 0.0522727\ttotal: 797ms\tremaining: 990ms\n",
      "446:\tlearn: 0.0521903\ttotal: 799ms\tremaining: 988ms\n",
      "447:\tlearn: 0.0521450\ttotal: 801ms\tremaining: 987ms\n",
      "448:\tlearn: 0.0520885\ttotal: 803ms\tremaining: 985ms\n",
      "449:\tlearn: 0.0520167\ttotal: 805ms\tremaining: 983ms\n",
      "450:\tlearn: 0.0519703\ttotal: 806ms\tremaining: 981ms\n",
      "451:\tlearn: 0.0518953\ttotal: 808ms\tremaining: 979ms\n",
      "452:\tlearn: 0.0518392\ttotal: 809ms\tremaining: 977ms\n",
      "453:\tlearn: 0.0517837\ttotal: 811ms\tremaining: 976ms\n",
      "454:\tlearn: 0.0517491\ttotal: 813ms\tremaining: 974ms\n",
      "455:\tlearn: 0.0516940\ttotal: 815ms\tremaining: 972ms\n",
      "456:\tlearn: 0.0516533\ttotal: 817ms\tremaining: 970ms\n",
      "457:\tlearn: 0.0515885\ttotal: 818ms\tremaining: 969ms\n",
      "458:\tlearn: 0.0515335\ttotal: 820ms\tremaining: 967ms\n",
      "459:\tlearn: 0.0514599\ttotal: 822ms\tremaining: 965ms\n",
      "460:\tlearn: 0.0514016\ttotal: 823ms\tremaining: 962ms\n",
      "461:\tlearn: 0.0513563\ttotal: 825ms\tremaining: 961ms\n",
      "462:\tlearn: 0.0512606\ttotal: 827ms\tremaining: 959ms\n",
      "463:\tlearn: 0.0512158\ttotal: 828ms\tremaining: 957ms\n",
      "464:\tlearn: 0.0511414\ttotal: 830ms\tremaining: 955ms\n",
      "465:\tlearn: 0.0510450\ttotal: 832ms\tremaining: 953ms\n",
      "466:\tlearn: 0.0509968\ttotal: 833ms\tremaining: 951ms\n",
      "467:\tlearn: 0.0509647\ttotal: 834ms\tremaining: 948ms\n",
      "468:\tlearn: 0.0509312\ttotal: 835ms\tremaining: 946ms\n",
      "469:\tlearn: 0.0508887\ttotal: 837ms\tremaining: 943ms\n",
      "470:\tlearn: 0.0508637\ttotal: 838ms\tremaining: 941ms\n",
      "471:\tlearn: 0.0508348\ttotal: 839ms\tremaining: 938ms\n",
      "472:\tlearn: 0.0507200\ttotal: 840ms\tremaining: 936ms\n",
      "473:\tlearn: 0.0506898\ttotal: 841ms\tremaining: 933ms\n",
      "474:\tlearn: 0.0506540\ttotal: 842ms\tremaining: 931ms\n",
      "475:\tlearn: 0.0506131\ttotal: 844ms\tremaining: 929ms\n",
      "476:\tlearn: 0.0505487\ttotal: 845ms\tremaining: 926ms\n",
      "477:\tlearn: 0.0504972\ttotal: 846ms\tremaining: 924ms\n",
      "478:\tlearn: 0.0504445\ttotal: 847ms\tremaining: 921ms\n",
      "479:\tlearn: 0.0504092\ttotal: 849ms\tremaining: 919ms\n",
      "480:\tlearn: 0.0503517\ttotal: 850ms\tremaining: 917ms\n",
      "481:\tlearn: 0.0502553\ttotal: 852ms\tremaining: 916ms\n",
      "482:\tlearn: 0.0502078\ttotal: 854ms\tremaining: 914ms\n",
      "483:\tlearn: 0.0501606\ttotal: 855ms\tremaining: 911ms\n",
      "484:\tlearn: 0.0501212\ttotal: 857ms\tremaining: 910ms\n",
      "485:\tlearn: 0.0499991\ttotal: 858ms\tremaining: 907ms\n",
      "486:\tlearn: 0.0499675\ttotal: 859ms\tremaining: 905ms\n",
      "487:\tlearn: 0.0499448\ttotal: 862ms\tremaining: 904ms\n",
      "488:\tlearn: 0.0498595\ttotal: 863ms\tremaining: 902ms\n",
      "489:\tlearn: 0.0498092\ttotal: 865ms\tremaining: 900ms\n",
      "490:\tlearn: 0.0497731\ttotal: 866ms\tremaining: 898ms\n",
      "491:\tlearn: 0.0497269\ttotal: 868ms\tremaining: 896ms\n",
      "492:\tlearn: 0.0496475\ttotal: 870ms\tremaining: 894ms\n",
      "493:\tlearn: 0.0496167\ttotal: 871ms\tremaining: 892ms\n",
      "494:\tlearn: 0.0495422\ttotal: 873ms\tremaining: 890ms\n",
      "495:\tlearn: 0.0494843\ttotal: 874ms\tremaining: 889ms\n",
      "496:\tlearn: 0.0494115\ttotal: 876ms\tremaining: 887ms\n",
      "497:\tlearn: 0.0493655\ttotal: 878ms\tremaining: 885ms\n",
      "498:\tlearn: 0.0492326\ttotal: 880ms\tremaining: 883ms\n",
      "499:\tlearn: 0.0491878\ttotal: 881ms\tremaining: 881ms\n",
      "500:\tlearn: 0.0491410\ttotal: 883ms\tremaining: 880ms\n",
      "501:\tlearn: 0.0490525\ttotal: 885ms\tremaining: 878ms\n",
      "502:\tlearn: 0.0489871\ttotal: 887ms\tremaining: 876ms\n",
      "503:\tlearn: 0.0489406\ttotal: 888ms\tremaining: 874ms\n",
      "504:\tlearn: 0.0488890\ttotal: 891ms\tremaining: 873ms\n",
      "505:\tlearn: 0.0488628\ttotal: 892ms\tremaining: 871ms\n",
      "506:\tlearn: 0.0488170\ttotal: 894ms\tremaining: 869ms\n",
      "507:\tlearn: 0.0487667\ttotal: 896ms\tremaining: 867ms\n",
      "508:\tlearn: 0.0487251\ttotal: 897ms\tremaining: 865ms\n",
      "509:\tlearn: 0.0486976\ttotal: 899ms\tremaining: 864ms\n",
      "510:\tlearn: 0.0486211\ttotal: 900ms\tremaining: 862ms\n",
      "511:\tlearn: 0.0485350\ttotal: 902ms\tremaining: 860ms\n",
      "512:\tlearn: 0.0484638\ttotal: 904ms\tremaining: 858ms\n",
      "513:\tlearn: 0.0484225\ttotal: 905ms\tremaining: 856ms\n",
      "514:\tlearn: 0.0483791\ttotal: 907ms\tremaining: 854ms\n",
      "515:\tlearn: 0.0483372\ttotal: 909ms\tremaining: 853ms\n",
      "516:\tlearn: 0.0482894\ttotal: 911ms\tremaining: 851ms\n",
      "517:\tlearn: 0.0482249\ttotal: 912ms\tremaining: 849ms\n",
      "518:\tlearn: 0.0481595\ttotal: 914ms\tremaining: 847ms\n",
      "519:\tlearn: 0.0480927\ttotal: 915ms\tremaining: 845ms\n",
      "520:\tlearn: 0.0480511\ttotal: 917ms\tremaining: 843ms\n",
      "521:\tlearn: 0.0479877\ttotal: 918ms\tremaining: 841ms\n",
      "522:\tlearn: 0.0479398\ttotal: 920ms\tremaining: 839ms\n",
      "523:\tlearn: 0.0478986\ttotal: 922ms\tremaining: 837ms\n",
      "524:\tlearn: 0.0478653\ttotal: 924ms\tremaining: 836ms\n",
      "525:\tlearn: 0.0478447\ttotal: 926ms\tremaining: 834ms\n",
      "526:\tlearn: 0.0477939\ttotal: 927ms\tremaining: 832ms\n",
      "527:\tlearn: 0.0477294\ttotal: 929ms\tremaining: 830ms\n",
      "528:\tlearn: 0.0476795\ttotal: 931ms\tremaining: 828ms\n",
      "529:\tlearn: 0.0476537\ttotal: 932ms\tremaining: 827ms\n",
      "530:\tlearn: 0.0476268\ttotal: 934ms\tremaining: 825ms\n",
      "531:\tlearn: 0.0475846\ttotal: 935ms\tremaining: 822ms\n",
      "532:\tlearn: 0.0475600\ttotal: 937ms\tremaining: 821ms\n",
      "533:\tlearn: 0.0475176\ttotal: 938ms\tremaining: 819ms\n",
      "534:\tlearn: 0.0474356\ttotal: 940ms\tremaining: 817ms\n",
      "535:\tlearn: 0.0474052\ttotal: 941ms\tremaining: 815ms\n",
      "536:\tlearn: 0.0473561\ttotal: 943ms\tremaining: 813ms\n",
      "537:\tlearn: 0.0473092\ttotal: 945ms\tremaining: 812ms\n",
      "538:\tlearn: 0.0472770\ttotal: 947ms\tremaining: 810ms\n",
      "539:\tlearn: 0.0472437\ttotal: 948ms\tremaining: 808ms\n",
      "540:\tlearn: 0.0472174\ttotal: 950ms\tremaining: 806ms\n",
      "541:\tlearn: 0.0471838\ttotal: 952ms\tremaining: 804ms\n",
      "542:\tlearn: 0.0471472\ttotal: 953ms\tremaining: 802ms\n",
      "543:\tlearn: 0.0471210\ttotal: 955ms\tremaining: 800ms\n",
      "544:\tlearn: 0.0470903\ttotal: 956ms\tremaining: 798ms\n",
      "545:\tlearn: 0.0470459\ttotal: 958ms\tremaining: 796ms\n",
      "546:\tlearn: 0.0469867\ttotal: 960ms\tremaining: 795ms\n",
      "547:\tlearn: 0.0469078\ttotal: 961ms\tremaining: 793ms\n",
      "548:\tlearn: 0.0468578\ttotal: 963ms\tremaining: 791ms\n",
      "549:\tlearn: 0.0468358\ttotal: 964ms\tremaining: 789ms\n",
      "550:\tlearn: 0.0467897\ttotal: 965ms\tremaining: 787ms\n",
      "551:\tlearn: 0.0467162\ttotal: 967ms\tremaining: 785ms\n",
      "552:\tlearn: 0.0466815\ttotal: 969ms\tremaining: 783ms\n",
      "553:\tlearn: 0.0466260\ttotal: 970ms\tremaining: 781ms\n",
      "554:\tlearn: 0.0465692\ttotal: 972ms\tremaining: 779ms\n",
      "555:\tlearn: 0.0465139\ttotal: 974ms\tremaining: 778ms\n",
      "556:\tlearn: 0.0464573\ttotal: 976ms\tremaining: 776ms\n",
      "557:\tlearn: 0.0464179\ttotal: 977ms\tremaining: 774ms\n",
      "558:\tlearn: 0.0463887\ttotal: 979ms\tremaining: 772ms\n",
      "559:\tlearn: 0.0463601\ttotal: 981ms\tremaining: 771ms\n",
      "560:\tlearn: 0.0463158\ttotal: 983ms\tremaining: 769ms\n",
      "561:\tlearn: 0.0462496\ttotal: 985ms\tremaining: 767ms\n",
      "562:\tlearn: 0.0461869\ttotal: 986ms\tremaining: 765ms\n",
      "563:\tlearn: 0.0461635\ttotal: 988ms\tremaining: 764ms\n",
      "564:\tlearn: 0.0460991\ttotal: 990ms\tremaining: 762ms\n",
      "565:\tlearn: 0.0460297\ttotal: 992ms\tremaining: 760ms\n",
      "566:\tlearn: 0.0459970\ttotal: 993ms\tremaining: 759ms\n",
      "567:\tlearn: 0.0459714\ttotal: 995ms\tremaining: 757ms\n",
      "568:\tlearn: 0.0459077\ttotal: 997ms\tremaining: 755ms\n",
      "569:\tlearn: 0.0458460\ttotal: 998ms\tremaining: 753ms\n",
      "570:\tlearn: 0.0458154\ttotal: 1s\tremaining: 751ms\n",
      "571:\tlearn: 0.0457828\ttotal: 1s\tremaining: 750ms\n",
      "572:\tlearn: 0.0457130\ttotal: 1s\tremaining: 748ms\n",
      "573:\tlearn: 0.0456646\ttotal: 1.01s\tremaining: 747ms\n",
      "574:\tlearn: 0.0455818\ttotal: 1.01s\tremaining: 745ms\n",
      "575:\tlearn: 0.0455575\ttotal: 1.01s\tremaining: 743ms\n",
      "576:\tlearn: 0.0455076\ttotal: 1.01s\tremaining: 741ms\n",
      "577:\tlearn: 0.0454665\ttotal: 1.01s\tremaining: 739ms\n",
      "578:\tlearn: 0.0454298\ttotal: 1.01s\tremaining: 737ms\n",
      "579:\tlearn: 0.0453851\ttotal: 1.01s\tremaining: 735ms\n",
      "580:\tlearn: 0.0453417\ttotal: 1.02s\tremaining: 733ms\n",
      "581:\tlearn: 0.0452854\ttotal: 1.02s\tremaining: 732ms\n",
      "582:\tlearn: 0.0452268\ttotal: 1.02s\tremaining: 730ms\n",
      "583:\tlearn: 0.0451836\ttotal: 1.02s\tremaining: 728ms\n",
      "584:\tlearn: 0.0451344\ttotal: 1.02s\tremaining: 726ms\n",
      "585:\tlearn: 0.0450729\ttotal: 1.03s\tremaining: 725ms\n",
      "586:\tlearn: 0.0449833\ttotal: 1.03s\tremaining: 723ms\n",
      "587:\tlearn: 0.0449013\ttotal: 1.03s\tremaining: 721ms\n",
      "588:\tlearn: 0.0448454\ttotal: 1.03s\tremaining: 719ms\n",
      "589:\tlearn: 0.0447792\ttotal: 1.03s\tremaining: 717ms\n",
      "590:\tlearn: 0.0447178\ttotal: 1.03s\tremaining: 716ms\n",
      "591:\tlearn: 0.0446441\ttotal: 1.03s\tremaining: 714ms\n",
      "592:\tlearn: 0.0445940\ttotal: 1.04s\tremaining: 712ms\n",
      "593:\tlearn: 0.0445565\ttotal: 1.04s\tremaining: 710ms\n",
      "594:\tlearn: 0.0445135\ttotal: 1.04s\tremaining: 708ms\n",
      "595:\tlearn: 0.0444646\ttotal: 1.04s\tremaining: 706ms\n",
      "596:\tlearn: 0.0444308\ttotal: 1.04s\tremaining: 704ms\n",
      "597:\tlearn: 0.0443932\ttotal: 1.04s\tremaining: 702ms\n",
      "598:\tlearn: 0.0443466\ttotal: 1.04s\tremaining: 700ms\n",
      "599:\tlearn: 0.0442638\ttotal: 1.05s\tremaining: 699ms\n",
      "600:\tlearn: 0.0441860\ttotal: 1.05s\tremaining: 697ms\n",
      "601:\tlearn: 0.0441439\ttotal: 1.05s\tremaining: 695ms\n",
      "602:\tlearn: 0.0441043\ttotal: 1.05s\tremaining: 694ms\n",
      "603:\tlearn: 0.0440487\ttotal: 1.05s\tremaining: 692ms\n",
      "604:\tlearn: 0.0439689\ttotal: 1.06s\tremaining: 690ms\n",
      "605:\tlearn: 0.0438958\ttotal: 1.06s\tremaining: 688ms\n",
      "606:\tlearn: 0.0438203\ttotal: 1.06s\tremaining: 687ms\n",
      "607:\tlearn: 0.0437627\ttotal: 1.06s\tremaining: 685ms\n",
      "608:\tlearn: 0.0437469\ttotal: 1.06s\tremaining: 683ms\n",
      "609:\tlearn: 0.0437250\ttotal: 1.06s\tremaining: 681ms\n",
      "610:\tlearn: 0.0436835\ttotal: 1.07s\tremaining: 679ms\n",
      "611:\tlearn: 0.0436435\ttotal: 1.07s\tremaining: 677ms\n",
      "612:\tlearn: 0.0436188\ttotal: 1.07s\tremaining: 675ms\n",
      "613:\tlearn: 0.0435954\ttotal: 1.07s\tremaining: 674ms\n",
      "614:\tlearn: 0.0435483\ttotal: 1.07s\tremaining: 672ms\n",
      "615:\tlearn: 0.0434944\ttotal: 1.07s\tremaining: 670ms\n",
      "616:\tlearn: 0.0434439\ttotal: 1.08s\tremaining: 669ms\n",
      "617:\tlearn: 0.0433987\ttotal: 1.08s\tremaining: 667ms\n",
      "618:\tlearn: 0.0433809\ttotal: 1.08s\tremaining: 665ms\n",
      "619:\tlearn: 0.0433234\ttotal: 1.08s\tremaining: 663ms\n",
      "620:\tlearn: 0.0433086\ttotal: 1.08s\tremaining: 661ms\n",
      "621:\tlearn: 0.0432575\ttotal: 1.08s\tremaining: 659ms\n",
      "622:\tlearn: 0.0432077\ttotal: 1.09s\tremaining: 657ms\n",
      "623:\tlearn: 0.0431632\ttotal: 1.09s\tremaining: 655ms\n",
      "624:\tlearn: 0.0431099\ttotal: 1.09s\tremaining: 653ms\n",
      "625:\tlearn: 0.0430761\ttotal: 1.09s\tremaining: 652ms\n",
      "626:\tlearn: 0.0430229\ttotal: 1.09s\tremaining: 650ms\n",
      "627:\tlearn: 0.0429744\ttotal: 1.09s\tremaining: 648ms\n",
      "628:\tlearn: 0.0429526\ttotal: 1.09s\tremaining: 646ms\n",
      "629:\tlearn: 0.0429198\ttotal: 1.1s\tremaining: 644ms\n",
      "630:\tlearn: 0.0428450\ttotal: 1.1s\tremaining: 643ms\n",
      "631:\tlearn: 0.0427946\ttotal: 1.1s\tremaining: 641ms\n",
      "632:\tlearn: 0.0427501\ttotal: 1.1s\tremaining: 639ms\n",
      "633:\tlearn: 0.0427333\ttotal: 1.1s\tremaining: 637ms\n",
      "634:\tlearn: 0.0427161\ttotal: 1.1s\tremaining: 635ms\n",
      "635:\tlearn: 0.0426793\ttotal: 1.11s\tremaining: 633ms\n",
      "636:\tlearn: 0.0426397\ttotal: 1.11s\tremaining: 632ms\n",
      "637:\tlearn: 0.0426042\ttotal: 1.11s\tremaining: 630ms\n",
      "638:\tlearn: 0.0425385\ttotal: 1.11s\tremaining: 628ms\n",
      "639:\tlearn: 0.0425167\ttotal: 1.11s\tremaining: 627ms\n",
      "640:\tlearn: 0.0424852\ttotal: 1.11s\tremaining: 625ms\n",
      "641:\tlearn: 0.0424498\ttotal: 1.12s\tremaining: 623ms\n",
      "642:\tlearn: 0.0424310\ttotal: 1.12s\tremaining: 621ms\n",
      "643:\tlearn: 0.0423927\ttotal: 1.12s\tremaining: 619ms\n",
      "644:\tlearn: 0.0423209\ttotal: 1.12s\tremaining: 618ms\n",
      "645:\tlearn: 0.0422851\ttotal: 1.12s\tremaining: 616ms\n",
      "646:\tlearn: 0.0422603\ttotal: 1.13s\tremaining: 614ms\n",
      "647:\tlearn: 0.0422276\ttotal: 1.13s\tremaining: 612ms\n",
      "648:\tlearn: 0.0421741\ttotal: 1.13s\tremaining: 611ms\n",
      "649:\tlearn: 0.0421423\ttotal: 1.13s\tremaining: 609ms\n",
      "650:\tlearn: 0.0421086\ttotal: 1.13s\tremaining: 607ms\n",
      "651:\tlearn: 0.0420788\ttotal: 1.13s\tremaining: 605ms\n",
      "652:\tlearn: 0.0420595\ttotal: 1.14s\tremaining: 604ms\n",
      "653:\tlearn: 0.0420051\ttotal: 1.14s\tremaining: 602ms\n",
      "654:\tlearn: 0.0419596\ttotal: 1.14s\tremaining: 601ms\n",
      "655:\tlearn: 0.0419260\ttotal: 1.14s\tremaining: 599ms\n",
      "656:\tlearn: 0.0418870\ttotal: 1.14s\tremaining: 597ms\n",
      "657:\tlearn: 0.0418653\ttotal: 1.15s\tremaining: 595ms\n",
      "658:\tlearn: 0.0418218\ttotal: 1.15s\tremaining: 593ms\n",
      "659:\tlearn: 0.0417837\ttotal: 1.15s\tremaining: 592ms\n",
      "660:\tlearn: 0.0417473\ttotal: 1.15s\tremaining: 590ms\n",
      "661:\tlearn: 0.0417074\ttotal: 1.15s\tremaining: 589ms\n",
      "662:\tlearn: 0.0416850\ttotal: 1.15s\tremaining: 587ms\n",
      "663:\tlearn: 0.0416565\ttotal: 1.16s\tremaining: 585ms\n",
      "664:\tlearn: 0.0416211\ttotal: 1.16s\tremaining: 583ms\n",
      "665:\tlearn: 0.0416082\ttotal: 1.16s\tremaining: 582ms\n",
      "666:\tlearn: 0.0415921\ttotal: 1.16s\tremaining: 580ms\n",
      "667:\tlearn: 0.0415642\ttotal: 1.16s\tremaining: 578ms\n",
      "668:\tlearn: 0.0415356\ttotal: 1.17s\tremaining: 577ms\n",
      "669:\tlearn: 0.0415149\ttotal: 1.17s\tremaining: 575ms\n",
      "670:\tlearn: 0.0414826\ttotal: 1.17s\tremaining: 573ms\n",
      "671:\tlearn: 0.0414663\ttotal: 1.17s\tremaining: 571ms\n",
      "672:\tlearn: 0.0414445\ttotal: 1.17s\tremaining: 570ms\n",
      "673:\tlearn: 0.0414036\ttotal: 1.17s\tremaining: 568ms\n",
      "674:\tlearn: 0.0413918\ttotal: 1.18s\tremaining: 566ms\n",
      "675:\tlearn: 0.0413249\ttotal: 1.18s\tremaining: 565ms\n",
      "676:\tlearn: 0.0412986\ttotal: 1.18s\tremaining: 563ms\n",
      "677:\tlearn: 0.0412382\ttotal: 1.18s\tremaining: 561ms\n",
      "678:\tlearn: 0.0412182\ttotal: 1.18s\tremaining: 559ms\n",
      "679:\tlearn: 0.0411822\ttotal: 1.19s\tremaining: 558ms\n",
      "680:\tlearn: 0.0411708\ttotal: 1.19s\tremaining: 556ms\n",
      "681:\tlearn: 0.0411448\ttotal: 1.19s\tremaining: 554ms\n",
      "682:\tlearn: 0.0411107\ttotal: 1.19s\tremaining: 553ms\n",
      "683:\tlearn: 0.0410648\ttotal: 1.19s\tremaining: 551ms\n",
      "684:\tlearn: 0.0410279\ttotal: 1.2s\tremaining: 550ms\n",
      "685:\tlearn: 0.0409838\ttotal: 1.2s\tremaining: 548ms\n",
      "686:\tlearn: 0.0409496\ttotal: 1.2s\tremaining: 546ms\n",
      "687:\tlearn: 0.0409226\ttotal: 1.2s\tremaining: 545ms\n",
      "688:\tlearn: 0.0408931\ttotal: 1.2s\tremaining: 543ms\n",
      "689:\tlearn: 0.0408506\ttotal: 1.2s\tremaining: 541ms\n",
      "690:\tlearn: 0.0408397\ttotal: 1.21s\tremaining: 539ms\n",
      "691:\tlearn: 0.0408137\ttotal: 1.21s\tremaining: 537ms\n",
      "692:\tlearn: 0.0407832\ttotal: 1.21s\tremaining: 535ms\n",
      "693:\tlearn: 0.0407512\ttotal: 1.21s\tremaining: 533ms\n",
      "694:\tlearn: 0.0407105\ttotal: 1.21s\tremaining: 531ms\n",
      "695:\tlearn: 0.0406527\ttotal: 1.21s\tremaining: 530ms\n",
      "696:\tlearn: 0.0406417\ttotal: 1.21s\tremaining: 528ms\n",
      "697:\tlearn: 0.0406143\ttotal: 1.22s\tremaining: 526ms\n",
      "698:\tlearn: 0.0405787\ttotal: 1.22s\tremaining: 524ms\n",
      "699:\tlearn: 0.0405439\ttotal: 1.22s\tremaining: 522ms\n",
      "700:\tlearn: 0.0405217\ttotal: 1.22s\tremaining: 521ms\n",
      "701:\tlearn: 0.0404860\ttotal: 1.22s\tremaining: 519ms\n",
      "702:\tlearn: 0.0404759\ttotal: 1.22s\tremaining: 517ms\n",
      "703:\tlearn: 0.0404248\ttotal: 1.23s\tremaining: 516ms\n",
      "704:\tlearn: 0.0403682\ttotal: 1.23s\tremaining: 514ms\n",
      "705:\tlearn: 0.0403329\ttotal: 1.23s\tremaining: 512ms\n",
      "706:\tlearn: 0.0403129\ttotal: 1.23s\tremaining: 510ms\n",
      "707:\tlearn: 0.0402678\ttotal: 1.23s\tremaining: 509ms\n",
      "708:\tlearn: 0.0402298\ttotal: 1.24s\tremaining: 507ms\n",
      "709:\tlearn: 0.0401928\ttotal: 1.24s\tremaining: 505ms\n",
      "710:\tlearn: 0.0401732\ttotal: 1.24s\tremaining: 504ms\n",
      "711:\tlearn: 0.0401541\ttotal: 1.24s\tremaining: 502ms\n",
      "712:\tlearn: 0.0401253\ttotal: 1.24s\tremaining: 500ms\n",
      "713:\tlearn: 0.0401062\ttotal: 1.24s\tremaining: 498ms\n",
      "714:\tlearn: 0.0400675\ttotal: 1.25s\tremaining: 497ms\n",
      "715:\tlearn: 0.0400300\ttotal: 1.25s\tremaining: 495ms\n",
      "716:\tlearn: 0.0400112\ttotal: 1.25s\tremaining: 493ms\n",
      "717:\tlearn: 0.0399796\ttotal: 1.25s\tremaining: 491ms\n",
      "718:\tlearn: 0.0399370\ttotal: 1.25s\tremaining: 490ms\n",
      "719:\tlearn: 0.0399091\ttotal: 1.25s\tremaining: 488ms\n",
      "720:\tlearn: 0.0398395\ttotal: 1.25s\tremaining: 486ms\n",
      "721:\tlearn: 0.0398124\ttotal: 1.26s\tremaining: 484ms\n",
      "722:\tlearn: 0.0397699\ttotal: 1.26s\tremaining: 483ms\n",
      "723:\tlearn: 0.0397310\ttotal: 1.26s\tremaining: 481ms\n",
      "724:\tlearn: 0.0396913\ttotal: 1.26s\tremaining: 479ms\n",
      "725:\tlearn: 0.0396577\ttotal: 1.26s\tremaining: 477ms\n",
      "726:\tlearn: 0.0396229\ttotal: 1.27s\tremaining: 476ms\n",
      "727:\tlearn: 0.0396048\ttotal: 1.27s\tremaining: 474ms\n",
      "728:\tlearn: 0.0395743\ttotal: 1.27s\tremaining: 472ms\n",
      "729:\tlearn: 0.0395244\ttotal: 1.27s\tremaining: 470ms\n",
      "730:\tlearn: 0.0394770\ttotal: 1.27s\tremaining: 469ms\n",
      "731:\tlearn: 0.0394350\ttotal: 1.27s\tremaining: 467ms\n",
      "732:\tlearn: 0.0393923\ttotal: 1.28s\tremaining: 465ms\n",
      "733:\tlearn: 0.0393747\ttotal: 1.28s\tremaining: 463ms\n",
      "734:\tlearn: 0.0393412\ttotal: 1.28s\tremaining: 461ms\n",
      "735:\tlearn: 0.0392633\ttotal: 1.28s\tremaining: 460ms\n",
      "736:\tlearn: 0.0391856\ttotal: 1.28s\tremaining: 458ms\n",
      "737:\tlearn: 0.0391408\ttotal: 1.28s\tremaining: 456ms\n",
      "738:\tlearn: 0.0391070\ttotal: 1.28s\tremaining: 454ms\n",
      "739:\tlearn: 0.0390740\ttotal: 1.29s\tremaining: 452ms\n",
      "740:\tlearn: 0.0390330\ttotal: 1.29s\tremaining: 451ms\n",
      "741:\tlearn: 0.0390019\ttotal: 1.29s\tremaining: 449ms\n",
      "742:\tlearn: 0.0389291\ttotal: 1.29s\tremaining: 447ms\n",
      "743:\tlearn: 0.0389033\ttotal: 1.29s\tremaining: 446ms\n",
      "744:\tlearn: 0.0388398\ttotal: 1.3s\tremaining: 444ms\n",
      "745:\tlearn: 0.0387999\ttotal: 1.3s\tremaining: 442ms\n",
      "746:\tlearn: 0.0387697\ttotal: 1.3s\tremaining: 440ms\n",
      "747:\tlearn: 0.0387305\ttotal: 1.3s\tremaining: 439ms\n",
      "748:\tlearn: 0.0386997\ttotal: 1.3s\tremaining: 437ms\n",
      "749:\tlearn: 0.0386578\ttotal: 1.3s\tremaining: 435ms\n",
      "750:\tlearn: 0.0386270\ttotal: 1.31s\tremaining: 433ms\n",
      "751:\tlearn: 0.0386108\ttotal: 1.31s\tremaining: 432ms\n",
      "752:\tlearn: 0.0385802\ttotal: 1.31s\tremaining: 430ms\n",
      "753:\tlearn: 0.0385375\ttotal: 1.31s\tremaining: 428ms\n",
      "754:\tlearn: 0.0384692\ttotal: 1.31s\tremaining: 426ms\n",
      "755:\tlearn: 0.0383946\ttotal: 1.31s\tremaining: 425ms\n",
      "756:\tlearn: 0.0383221\ttotal: 1.32s\tremaining: 423ms\n",
      "757:\tlearn: 0.0382837\ttotal: 1.32s\tremaining: 421ms\n",
      "758:\tlearn: 0.0382564\ttotal: 1.32s\tremaining: 419ms\n",
      "759:\tlearn: 0.0382098\ttotal: 1.32s\tremaining: 417ms\n",
      "760:\tlearn: 0.0381671\ttotal: 1.32s\tremaining: 415ms\n",
      "761:\tlearn: 0.0381433\ttotal: 1.32s\tremaining: 414ms\n",
      "762:\tlearn: 0.0381257\ttotal: 1.33s\tremaining: 413ms\n",
      "763:\tlearn: 0.0380845\ttotal: 1.33s\tremaining: 412ms\n",
      "764:\tlearn: 0.0380675\ttotal: 1.33s\tremaining: 410ms\n",
      "765:\tlearn: 0.0380108\ttotal: 1.33s\tremaining: 408ms\n",
      "766:\tlearn: 0.0379824\ttotal: 1.34s\tremaining: 406ms\n",
      "767:\tlearn: 0.0379182\ttotal: 1.34s\tremaining: 405ms\n",
      "768:\tlearn: 0.0378628\ttotal: 1.34s\tremaining: 403ms\n",
      "769:\tlearn: 0.0378061\ttotal: 1.34s\tremaining: 401ms\n",
      "770:\tlearn: 0.0377832\ttotal: 1.34s\tremaining: 399ms\n",
      "771:\tlearn: 0.0377428\ttotal: 1.35s\tremaining: 398ms\n",
      "772:\tlearn: 0.0377014\ttotal: 1.35s\tremaining: 396ms\n",
      "773:\tlearn: 0.0376570\ttotal: 1.35s\tremaining: 394ms\n",
      "774:\tlearn: 0.0376454\ttotal: 1.35s\tremaining: 392ms\n",
      "775:\tlearn: 0.0375843\ttotal: 1.35s\tremaining: 391ms\n",
      "776:\tlearn: 0.0375302\ttotal: 1.35s\tremaining: 389ms\n",
      "777:\tlearn: 0.0374875\ttotal: 1.36s\tremaining: 387ms\n",
      "778:\tlearn: 0.0374569\ttotal: 1.36s\tremaining: 386ms\n",
      "779:\tlearn: 0.0374156\ttotal: 1.36s\tremaining: 384ms\n",
      "780:\tlearn: 0.0373757\ttotal: 1.36s\tremaining: 382ms\n",
      "781:\tlearn: 0.0373378\ttotal: 1.36s\tremaining: 381ms\n",
      "782:\tlearn: 0.0372992\ttotal: 1.37s\tremaining: 379ms\n",
      "783:\tlearn: 0.0372455\ttotal: 1.37s\tremaining: 377ms\n",
      "784:\tlearn: 0.0371639\ttotal: 1.37s\tremaining: 375ms\n",
      "785:\tlearn: 0.0371347\ttotal: 1.37s\tremaining: 374ms\n",
      "786:\tlearn: 0.0370950\ttotal: 1.37s\tremaining: 372ms\n",
      "787:\tlearn: 0.0370585\ttotal: 1.38s\tremaining: 370ms\n",
      "788:\tlearn: 0.0370318\ttotal: 1.38s\tremaining: 369ms\n",
      "789:\tlearn: 0.0370149\ttotal: 1.38s\tremaining: 367ms\n",
      "790:\tlearn: 0.0369563\ttotal: 1.38s\tremaining: 365ms\n",
      "791:\tlearn: 0.0369210\ttotal: 1.38s\tremaining: 363ms\n",
      "792:\tlearn: 0.0369091\ttotal: 1.38s\tremaining: 361ms\n",
      "793:\tlearn: 0.0368722\ttotal: 1.39s\tremaining: 360ms\n",
      "794:\tlearn: 0.0368183\ttotal: 1.39s\tremaining: 358ms\n",
      "795:\tlearn: 0.0367607\ttotal: 1.39s\tremaining: 356ms\n",
      "796:\tlearn: 0.0366850\ttotal: 1.39s\tremaining: 354ms\n",
      "797:\tlearn: 0.0366503\ttotal: 1.39s\tremaining: 353ms\n",
      "798:\tlearn: 0.0366180\ttotal: 1.39s\tremaining: 351ms\n",
      "799:\tlearn: 0.0366030\ttotal: 1.4s\tremaining: 349ms\n",
      "800:\tlearn: 0.0365940\ttotal: 1.4s\tremaining: 347ms\n",
      "801:\tlearn: 0.0365578\ttotal: 1.4s\tremaining: 346ms\n",
      "802:\tlearn: 0.0365026\ttotal: 1.4s\tremaining: 344ms\n",
      "803:\tlearn: 0.0364762\ttotal: 1.4s\tremaining: 342ms\n",
      "804:\tlearn: 0.0364087\ttotal: 1.4s\tremaining: 340ms\n",
      "805:\tlearn: 0.0363564\ttotal: 1.41s\tremaining: 338ms\n",
      "806:\tlearn: 0.0363213\ttotal: 1.41s\tremaining: 337ms\n",
      "807:\tlearn: 0.0363081\ttotal: 1.41s\tremaining: 335ms\n",
      "808:\tlearn: 0.0362994\ttotal: 1.41s\tremaining: 333ms\n",
      "809:\tlearn: 0.0362596\ttotal: 1.41s\tremaining: 331ms\n",
      "810:\tlearn: 0.0362000\ttotal: 1.41s\tremaining: 330ms\n",
      "811:\tlearn: 0.0361857\ttotal: 1.42s\tremaining: 328ms\n",
      "812:\tlearn: 0.0361696\ttotal: 1.42s\tremaining: 326ms\n",
      "813:\tlearn: 0.0361204\ttotal: 1.42s\tremaining: 324ms\n",
      "814:\tlearn: 0.0360599\ttotal: 1.42s\tremaining: 323ms\n",
      "815:\tlearn: 0.0360184\ttotal: 1.42s\tremaining: 321ms\n",
      "816:\tlearn: 0.0360027\ttotal: 1.42s\tremaining: 319ms\n",
      "817:\tlearn: 0.0359803\ttotal: 1.43s\tremaining: 319ms\n",
      "818:\tlearn: 0.0359677\ttotal: 1.43s\tremaining: 317ms\n",
      "819:\tlearn: 0.0359073\ttotal: 1.44s\tremaining: 315ms\n",
      "820:\tlearn: 0.0358727\ttotal: 1.44s\tremaining: 313ms\n",
      "821:\tlearn: 0.0358581\ttotal: 1.44s\tremaining: 312ms\n",
      "822:\tlearn: 0.0358372\ttotal: 1.44s\tremaining: 310ms\n",
      "823:\tlearn: 0.0358007\ttotal: 1.44s\tremaining: 308ms\n",
      "824:\tlearn: 0.0357429\ttotal: 1.44s\tremaining: 306ms\n",
      "825:\tlearn: 0.0356985\ttotal: 1.44s\tremaining: 304ms\n",
      "826:\tlearn: 0.0356808\ttotal: 1.45s\tremaining: 303ms\n",
      "827:\tlearn: 0.0356410\ttotal: 1.45s\tremaining: 301ms\n",
      "828:\tlearn: 0.0356260\ttotal: 1.45s\tremaining: 299ms\n",
      "829:\tlearn: 0.0356070\ttotal: 1.45s\tremaining: 297ms\n",
      "830:\tlearn: 0.0355667\ttotal: 1.45s\tremaining: 296ms\n",
      "831:\tlearn: 0.0355282\ttotal: 1.45s\tremaining: 294ms\n",
      "832:\tlearn: 0.0354985\ttotal: 1.46s\tremaining: 292ms\n",
      "833:\tlearn: 0.0354543\ttotal: 1.46s\tremaining: 290ms\n",
      "834:\tlearn: 0.0354210\ttotal: 1.46s\tremaining: 289ms\n",
      "835:\tlearn: 0.0354016\ttotal: 1.46s\tremaining: 287ms\n",
      "836:\tlearn: 0.0353796\ttotal: 1.46s\tremaining: 285ms\n",
      "837:\tlearn: 0.0353659\ttotal: 1.47s\tremaining: 283ms\n",
      "838:\tlearn: 0.0353378\ttotal: 1.47s\tremaining: 281ms\n",
      "839:\tlearn: 0.0352950\ttotal: 1.47s\tremaining: 280ms\n",
      "840:\tlearn: 0.0352680\ttotal: 1.47s\tremaining: 278ms\n",
      "841:\tlearn: 0.0352111\ttotal: 1.47s\tremaining: 276ms\n",
      "842:\tlearn: 0.0351677\ttotal: 1.47s\tremaining: 274ms\n",
      "843:\tlearn: 0.0351308\ttotal: 1.48s\tremaining: 273ms\n",
      "844:\tlearn: 0.0350970\ttotal: 1.48s\tremaining: 271ms\n",
      "845:\tlearn: 0.0350610\ttotal: 1.48s\tremaining: 269ms\n",
      "846:\tlearn: 0.0350176\ttotal: 1.48s\tremaining: 267ms\n",
      "847:\tlearn: 0.0350078\ttotal: 1.48s\tremaining: 266ms\n",
      "848:\tlearn: 0.0349587\ttotal: 1.48s\tremaining: 264ms\n",
      "849:\tlearn: 0.0349245\ttotal: 1.48s\tremaining: 262ms\n",
      "850:\tlearn: 0.0349077\ttotal: 1.49s\tremaining: 260ms\n",
      "851:\tlearn: 0.0348880\ttotal: 1.49s\tremaining: 258ms\n",
      "852:\tlearn: 0.0348531\ttotal: 1.49s\tremaining: 257ms\n",
      "853:\tlearn: 0.0348416\ttotal: 1.49s\tremaining: 255ms\n",
      "854:\tlearn: 0.0348113\ttotal: 1.49s\tremaining: 253ms\n",
      "855:\tlearn: 0.0347748\ttotal: 1.5s\tremaining: 252ms\n",
      "856:\tlearn: 0.0347303\ttotal: 1.5s\tremaining: 250ms\n",
      "857:\tlearn: 0.0346974\ttotal: 1.5s\tremaining: 248ms\n",
      "858:\tlearn: 0.0346851\ttotal: 1.5s\tremaining: 247ms\n",
      "859:\tlearn: 0.0346531\ttotal: 1.5s\tremaining: 245ms\n",
      "860:\tlearn: 0.0345991\ttotal: 1.51s\tremaining: 243ms\n",
      "861:\tlearn: 0.0345684\ttotal: 1.51s\tremaining: 242ms\n",
      "862:\tlearn: 0.0345390\ttotal: 1.51s\tremaining: 240ms\n",
      "863:\tlearn: 0.0344998\ttotal: 1.51s\tremaining: 238ms\n",
      "864:\tlearn: 0.0344712\ttotal: 1.52s\tremaining: 237ms\n",
      "865:\tlearn: 0.0344508\ttotal: 1.52s\tremaining: 235ms\n",
      "866:\tlearn: 0.0344201\ttotal: 1.52s\tremaining: 233ms\n",
      "867:\tlearn: 0.0343697\ttotal: 1.52s\tremaining: 232ms\n",
      "868:\tlearn: 0.0343250\ttotal: 1.52s\tremaining: 230ms\n",
      "869:\tlearn: 0.0342930\ttotal: 1.52s\tremaining: 228ms\n",
      "870:\tlearn: 0.0342810\ttotal: 1.53s\tremaining: 226ms\n",
      "871:\tlearn: 0.0342531\ttotal: 1.53s\tremaining: 224ms\n",
      "872:\tlearn: 0.0342190\ttotal: 1.53s\tremaining: 223ms\n",
      "873:\tlearn: 0.0342028\ttotal: 1.53s\tremaining: 221ms\n",
      "874:\tlearn: 0.0341700\ttotal: 1.54s\tremaining: 219ms\n",
      "875:\tlearn: 0.0341370\ttotal: 1.54s\tremaining: 218ms\n",
      "876:\tlearn: 0.0341156\ttotal: 1.54s\tremaining: 216ms\n",
      "877:\tlearn: 0.0340788\ttotal: 1.54s\tremaining: 214ms\n",
      "878:\tlearn: 0.0340419\ttotal: 1.54s\tremaining: 212ms\n",
      "879:\tlearn: 0.0340088\ttotal: 1.54s\tremaining: 210ms\n",
      "880:\tlearn: 0.0339648\ttotal: 1.54s\tremaining: 209ms\n",
      "881:\tlearn: 0.0339572\ttotal: 1.55s\tremaining: 207ms\n",
      "882:\tlearn: 0.0339499\ttotal: 1.55s\tremaining: 206ms\n",
      "883:\tlearn: 0.0339259\ttotal: 1.55s\tremaining: 204ms\n",
      "884:\tlearn: 0.0339060\ttotal: 1.55s\tremaining: 202ms\n",
      "885:\tlearn: 0.0338764\ttotal: 1.55s\tremaining: 200ms\n",
      "886:\tlearn: 0.0338652\ttotal: 1.56s\tremaining: 198ms\n",
      "887:\tlearn: 0.0338385\ttotal: 1.56s\tremaining: 197ms\n",
      "888:\tlearn: 0.0338243\ttotal: 1.56s\tremaining: 195ms\n",
      "889:\tlearn: 0.0338088\ttotal: 1.56s\tremaining: 193ms\n",
      "890:\tlearn: 0.0337735\ttotal: 1.56s\tremaining: 191ms\n",
      "891:\tlearn: 0.0337420\ttotal: 1.56s\tremaining: 189ms\n",
      "892:\tlearn: 0.0337172\ttotal: 1.57s\tremaining: 188ms\n",
      "893:\tlearn: 0.0337102\ttotal: 1.57s\tremaining: 186ms\n",
      "894:\tlearn: 0.0336806\ttotal: 1.57s\tremaining: 184ms\n",
      "895:\tlearn: 0.0336580\ttotal: 1.57s\tremaining: 182ms\n",
      "896:\tlearn: 0.0336276\ttotal: 1.57s\tremaining: 181ms\n",
      "897:\tlearn: 0.0335900\ttotal: 1.57s\tremaining: 179ms\n",
      "898:\tlearn: 0.0335763\ttotal: 1.58s\tremaining: 177ms\n",
      "899:\tlearn: 0.0335469\ttotal: 1.58s\tremaining: 175ms\n",
      "900:\tlearn: 0.0335273\ttotal: 1.58s\tremaining: 174ms\n",
      "901:\tlearn: 0.0334751\ttotal: 1.58s\tremaining: 172ms\n",
      "902:\tlearn: 0.0334338\ttotal: 1.58s\tremaining: 170ms\n",
      "903:\tlearn: 0.0334021\ttotal: 1.58s\tremaining: 168ms\n",
      "904:\tlearn: 0.0333739\ttotal: 1.59s\tremaining: 167ms\n",
      "905:\tlearn: 0.0333580\ttotal: 1.59s\tremaining: 165ms\n",
      "906:\tlearn: 0.0333357\ttotal: 1.59s\tremaining: 163ms\n",
      "907:\tlearn: 0.0332903\ttotal: 1.59s\tremaining: 161ms\n",
      "908:\tlearn: 0.0332820\ttotal: 1.59s\tremaining: 160ms\n",
      "909:\tlearn: 0.0332560\ttotal: 1.59s\tremaining: 158ms\n",
      "910:\tlearn: 0.0332424\ttotal: 1.6s\tremaining: 156ms\n",
      "911:\tlearn: 0.0332291\ttotal: 1.6s\tremaining: 154ms\n",
      "912:\tlearn: 0.0332183\ttotal: 1.6s\tremaining: 153ms\n",
      "913:\tlearn: 0.0331919\ttotal: 1.6s\tremaining: 151ms\n",
      "914:\tlearn: 0.0331790\ttotal: 1.6s\tremaining: 149ms\n",
      "915:\tlearn: 0.0331360\ttotal: 1.61s\tremaining: 147ms\n",
      "916:\tlearn: 0.0331261\ttotal: 1.61s\tremaining: 146ms\n",
      "917:\tlearn: 0.0331153\ttotal: 1.61s\tremaining: 144ms\n",
      "918:\tlearn: 0.0331047\ttotal: 1.61s\tremaining: 142ms\n",
      "919:\tlearn: 0.0330822\ttotal: 1.61s\tremaining: 140ms\n",
      "920:\tlearn: 0.0330329\ttotal: 1.61s\tremaining: 139ms\n",
      "921:\tlearn: 0.0329948\ttotal: 1.62s\tremaining: 137ms\n",
      "922:\tlearn: 0.0329444\ttotal: 1.62s\tremaining: 135ms\n",
      "923:\tlearn: 0.0329303\ttotal: 1.62s\tremaining: 133ms\n",
      "924:\tlearn: 0.0328811\ttotal: 1.62s\tremaining: 131ms\n",
      "925:\tlearn: 0.0328562\ttotal: 1.62s\tremaining: 130ms\n",
      "926:\tlearn: 0.0327868\ttotal: 1.62s\tremaining: 128ms\n",
      "927:\tlearn: 0.0327651\ttotal: 1.63s\tremaining: 126ms\n",
      "928:\tlearn: 0.0327231\ttotal: 1.63s\tremaining: 124ms\n",
      "929:\tlearn: 0.0327041\ttotal: 1.63s\tremaining: 123ms\n",
      "930:\tlearn: 0.0326823\ttotal: 1.63s\tremaining: 121ms\n",
      "931:\tlearn: 0.0326533\ttotal: 1.63s\tremaining: 119ms\n",
      "932:\tlearn: 0.0326136\ttotal: 1.64s\tremaining: 117ms\n",
      "933:\tlearn: 0.0326034\ttotal: 1.64s\tremaining: 116ms\n",
      "934:\tlearn: 0.0325851\ttotal: 1.64s\tremaining: 114ms\n",
      "935:\tlearn: 0.0325751\ttotal: 1.64s\tremaining: 112ms\n",
      "936:\tlearn: 0.0325514\ttotal: 1.64s\tremaining: 110ms\n",
      "937:\tlearn: 0.0325381\ttotal: 1.64s\tremaining: 109ms\n",
      "938:\tlearn: 0.0325154\ttotal: 1.65s\tremaining: 107ms\n",
      "939:\tlearn: 0.0324745\ttotal: 1.65s\tremaining: 105ms\n",
      "940:\tlearn: 0.0324407\ttotal: 1.65s\tremaining: 103ms\n",
      "941:\tlearn: 0.0324252\ttotal: 1.65s\tremaining: 102ms\n",
      "942:\tlearn: 0.0324052\ttotal: 1.65s\tremaining: 99.9ms\n",
      "943:\tlearn: 0.0323954\ttotal: 1.65s\tremaining: 98.1ms\n",
      "944:\tlearn: 0.0323810\ttotal: 1.66s\tremaining: 96.4ms\n",
      "945:\tlearn: 0.0323637\ttotal: 1.66s\tremaining: 94.6ms\n",
      "946:\tlearn: 0.0323215\ttotal: 1.66s\tremaining: 92.8ms\n",
      "947:\tlearn: 0.0323022\ttotal: 1.66s\tremaining: 91ms\n",
      "948:\tlearn: 0.0322833\ttotal: 1.66s\tremaining: 89.3ms\n",
      "949:\tlearn: 0.0322484\ttotal: 1.67s\tremaining: 87.8ms\n",
      "950:\tlearn: 0.0322165\ttotal: 1.67s\tremaining: 86ms\n",
      "951:\tlearn: 0.0322069\ttotal: 1.67s\tremaining: 84.2ms\n",
      "952:\tlearn: 0.0321842\ttotal: 1.67s\tremaining: 82.4ms\n",
      "953:\tlearn: 0.0321649\ttotal: 1.67s\tremaining: 80.7ms\n",
      "954:\tlearn: 0.0321396\ttotal: 1.67s\tremaining: 78.9ms\n",
      "955:\tlearn: 0.0321211\ttotal: 1.68s\tremaining: 77.1ms\n",
      "956:\tlearn: 0.0321028\ttotal: 1.68s\tremaining: 75.4ms\n",
      "957:\tlearn: 0.0320722\ttotal: 1.68s\tremaining: 73.6ms\n",
      "958:\tlearn: 0.0320522\ttotal: 1.68s\tremaining: 71.9ms\n",
      "959:\tlearn: 0.0320396\ttotal: 1.68s\tremaining: 70.1ms\n",
      "960:\tlearn: 0.0320272\ttotal: 1.68s\tremaining: 68.4ms\n",
      "961:\tlearn: 0.0319883\ttotal: 1.69s\tremaining: 66.6ms\n",
      "962:\tlearn: 0.0319548\ttotal: 1.69s\tremaining: 64.8ms\n",
      "963:\tlearn: 0.0319405\ttotal: 1.69s\tremaining: 63.1ms\n",
      "964:\tlearn: 0.0319171\ttotal: 1.69s\tremaining: 61.3ms\n",
      "965:\tlearn: 0.0318924\ttotal: 1.69s\tremaining: 59.6ms\n",
      "966:\tlearn: 0.0318638\ttotal: 1.69s\tremaining: 57.8ms\n",
      "967:\tlearn: 0.0318411\ttotal: 1.7s\tremaining: 56.1ms\n",
      "968:\tlearn: 0.0318104\ttotal: 1.7s\tremaining: 54.3ms\n",
      "969:\tlearn: 0.0317840\ttotal: 1.7s\tremaining: 52.6ms\n",
      "970:\tlearn: 0.0317544\ttotal: 1.7s\tremaining: 50.8ms\n",
      "971:\tlearn: 0.0317370\ttotal: 1.7s\tremaining: 49.1ms\n",
      "972:\tlearn: 0.0317271\ttotal: 1.7s\tremaining: 47.3ms\n",
      "973:\tlearn: 0.0317089\ttotal: 1.71s\tremaining: 45.6ms\n",
      "974:\tlearn: 0.0316713\ttotal: 1.71s\tremaining: 43.8ms\n",
      "975:\tlearn: 0.0316405\ttotal: 1.71s\tremaining: 42ms\n",
      "976:\tlearn: 0.0316271\ttotal: 1.71s\tremaining: 40.3ms\n",
      "977:\tlearn: 0.0315997\ttotal: 1.71s\tremaining: 38.5ms\n",
      "978:\tlearn: 0.0315818\ttotal: 1.71s\tremaining: 36.8ms\n",
      "979:\tlearn: 0.0315698\ttotal: 1.72s\tremaining: 35ms\n",
      "980:\tlearn: 0.0315425\ttotal: 1.72s\tremaining: 33.3ms\n",
      "981:\tlearn: 0.0315127\ttotal: 1.72s\tremaining: 31.5ms\n",
      "982:\tlearn: 0.0314890\ttotal: 1.72s\tremaining: 29.8ms\n",
      "983:\tlearn: 0.0314439\ttotal: 1.72s\tremaining: 28ms\n",
      "984:\tlearn: 0.0314153\ttotal: 1.73s\tremaining: 26.3ms\n",
      "985:\tlearn: 0.0313746\ttotal: 1.73s\tremaining: 24.5ms\n",
      "986:\tlearn: 0.0313678\ttotal: 1.73s\tremaining: 22.8ms\n",
      "987:\tlearn: 0.0313548\ttotal: 1.73s\tremaining: 21ms\n",
      "988:\tlearn: 0.0313156\ttotal: 1.73s\tremaining: 19.3ms\n",
      "989:\tlearn: 0.0312840\ttotal: 1.73s\tremaining: 17.5ms\n",
      "990:\tlearn: 0.0312580\ttotal: 1.74s\tremaining: 15.8ms\n",
      "991:\tlearn: 0.0312406\ttotal: 1.74s\tremaining: 14ms\n",
      "992:\tlearn: 0.0312235\ttotal: 1.74s\tremaining: 12.3ms\n",
      "993:\tlearn: 0.0311930\ttotal: 1.74s\tremaining: 10.5ms\n",
      "994:\tlearn: 0.0311827\ttotal: 1.74s\tremaining: 8.76ms\n",
      "995:\tlearn: 0.0311705\ttotal: 1.75s\tremaining: 7.01ms\n",
      "996:\tlearn: 0.0311588\ttotal: 1.75s\tremaining: 5.25ms\n",
      "997:\tlearn: 0.0311293\ttotal: 1.75s\tremaining: 3.5ms\n",
      "998:\tlearn: 0.0311009\ttotal: 1.75s\tremaining: 1.75ms\n",
      "999:\tlearn: 0.0310734\ttotal: 1.75s\tremaining: 0us\n"
     ]
    },
    {
     "data": {
      "text/plain": [
       "<catboost.core.CatBoostClassifier at 0x7ff7503f04c0>"
      ]
     },
     "execution_count": 138,
     "metadata": {},
     "output_type": "execute_result"
    }
   ],
   "source": [
    "from catboost import CatBoostClassifier\n",
    "classifier = CatBoostClassifier()\n",
    "classifier.fit(X_train, y_train)"
   ]
  },
  {
   "cell_type": "code",
   "execution_count": 140,
   "id": "cc3f5b55-b2f0-4fc3-a55b-70011b80384e",
   "metadata": {},
   "outputs": [
    {
     "name": "stdout",
     "output_type": "stream",
     "text": [
      "[[1308   19]\n",
      " [  30    7]]\n"
     ]
    }
   ],
   "source": [
    "y_pred = classifier.predict(X_test)\n",
    "cm = confusion_matrix(y_test, y_pred)\n",
    "print(cm)\n",
    "acc8 = accuracy_score(y_test, y_pred)"
   ]
  },
  {
   "cell_type": "code",
   "execution_count": 141,
   "id": "1bdb373b-214b-4881-920e-87cef74aca14",
   "metadata": {},
   "outputs": [
    {
     "data": {
      "image/png": "[encoded data removed]",
      "text/plain": [
       "<Figure size 432x288 with 2 Axes>"
      ]
     },
     "metadata": {
      "needs_background": "light"
     },
     "output_type": "display_data"
    }
   ],
   "source": [
    "sns.heatmap(cm,annot=True)\n",
    "plt.show()"
   ]
  },
  {
   "cell_type": "code",
   "execution_count": 142,
   "id": "35a23db3-1903-44e8-82d4-75706c77ef8b",
   "metadata": {},
   "outputs": [
    {
     "name": "stdout",
     "output_type": "stream",
     "text": [
      "0.9640762463343109\n"
     ]
    }
   ],
   "source": [
    "print(acc8)"
   ]
  },
  {
   "cell_type": "code",
   "execution_count": 143,
   "id": "0f9042b9-07e8-4144-8842-882f74f752e4",
   "metadata": {},
   "outputs": [
    {
     "data": {
      "image/png": "[encoded data removed]",
      "text/plain": [
       "<Figure size 1584x720 with 1 Axes>"
      ]
     },
     "metadata": {},
     "output_type": "display_data"
    }
   ],
   "source": [
    "mylist=[]\n",
    "mylist2=[]\n",
    "mylist.append(acc1)\n",
    "mylist2.append(\"Logistic Regression\")\n",
    "mylist.append(acc2)\n",
    "mylist2.append(\"SVM\")\n",
    "mylist.append(acc3)\n",
    "mylist2.append(\"KNN\")\n",
    "mylist.append(acc4)\n",
    "mylist2.append(\"Naive Bayes\")\n",
    "mylist.append(acc5)\n",
    "mylist2.append(\"DTR\")\n",
    "mylist.append(acc6)\n",
    "mylist2.append(\"RFC\")\n",
    "mylist.append(acc7)\n",
    "mylist2.append(\"XG Boost\")\n",
    "mylist.append(acc8)\n",
    "mylist2.append(\"Cat Boost\")\n",
    "plt.rcParams['figure.figsize']=22,10\n",
    "sns.set_style(\"darkgrid\")\n",
    "ax = sns.barplot(x=mylist2, y=mylist, palette = \"coolwarm\", saturation =1.5)\n",
    "plt.xlabel(\"Classification Models\", fontsize = 20 )\n",
    "plt.ylabel(\"Accuracy\", fontsize = 20)\n",
    "plt.title(\"Accuracy of different Classification Models\", fontsize = 20)\n",
    "plt.xticks(fontsize = 11, horizontalalignment = 'center', rotation = 8)\n",
    "plt.yticks(fontsize = 13)\n",
    "for p in ax.patches:\n",
    "    width, height = p.get_width(), p.get_height()\n",
    "    x, y = p.get_xy() \n",
    "    ax.annotate(f'{height:.2%}', (x + width/2, y + height*1.02), ha='center', fontsize = 'x-large')\n",
    "plt.show()"
   ]
  },
  {
   "cell_type": "code",
   "execution_count": 159,
   "id": "ac2f1cf4-043c-4abe-ab64-a82a1877e39a",
   "metadata": {},
   "outputs": [],
   "source": [
    "X = df.drop(['Bankrupt?'],axis=1).values\n",
    "y = df['Bankrupt?'].values"
   ]
  },
  {
   "cell_type": "code",
   "execution_count": 160,
   "id": "d07cc159-0989-49b3-9037-94ff71935774",
   "metadata": {},
   "outputs": [],
   "source": [
    "X_train, X_test, y_train, y_test = train_test_split(X, y, test_size = 0.2, random_state = 0)"
   ]
  },
  {
   "cell_type": "code",
   "execution_count": 161,
   "id": "9755688c-ede7-44d2-afd8-f43c4967d59f",
   "metadata": {},
   "outputs": [
    {
     "data": {
      "text/plain": [
       "((5455, 95), (1364, 95))"
      ]
     },
     "execution_count": 161,
     "metadata": {},
     "output_type": "execute_result"
    }
   ],
   "source": [
    "X_train.shape,X_test.shape"
   ]
  },
  {
   "cell_type": "code",
   "execution_count": 162,
   "id": "103c2fa4-e70e-4b0a-b7b1-b1b784a9b858",
   "metadata": {},
   "outputs": [],
   "source": [
    "sc = StandardScaler()\n",
    "X_train = sc.fit_transform(X_train)\n",
    "X_test = sc.transform(X_test)"
   ]
  },
  {
   "cell_type": "code",
   "execution_count": 163,
   "id": "ee543d7a-e4b1-4f14-819a-adc09979436e",
   "metadata": {},
   "outputs": [],
   "source": [
    "from sklearn.decomposition import PCA\n",
    "pca = PCA(n_components = 5)\n",
    "X_train = pca.fit_transform(X_train)\n",
    "X_test = pca.transform(X_test)"
   ]
  },
  {
   "cell_type": "code",
   "execution_count": 164,
   "id": "298e56dd-443f-4d73-b1cd-8ba98e92be91",
   "metadata": {},
   "outputs": [
    {
     "data": {
      "text/plain": [
       "LogisticRegression(random_state=0)"
      ]
     },
     "execution_count": 164,
     "metadata": {},
     "output_type": "execute_result"
    }
   ],
   "source": [
    "from sklearn.linear_model import LogisticRegression\n",
    "classifier = LogisticRegression(random_state = 0)\n",
    "classifier.fit(X_train, y_train)"
   ]
  },
  {
   "cell_type": "code",
   "execution_count": 165,
   "id": "73845588-fcb0-422c-96f2-defca087057f",
   "metadata": {},
   "outputs": [
    {
     "name": "stdout",
     "output_type": "stream",
     "text": [
      "[[1312    6]\n",
      " [  41    5]]\n"
     ]
    }
   ],
   "source": [
    "from sklearn.metrics import confusion_matrix, accuracy_score\n",
    "y_pred = classifier.predict(X_test)\n",
    "cm = confusion_matrix(y_test, y_pred)\n",
    "print(cm)\n",
    "pca_acc = accuracy_score(y_test, y_pred)"
   ]
  },
  {
   "cell_type": "code",
   "execution_count": 166,
   "id": "6a6ed332-ba66-4cb4-9f43-a956c575ef9a",
   "metadata": {},
   "outputs": [
    {
     "name": "stdout",
     "output_type": "stream",
     "text": [
      "PCA Accuracy is: 0.9655425219941349\n"
     ]
    }
   ],
   "source": [
    "print(f\"PCA Accuracy is: {pca_acc}\")"
   ]
  },
  {
   "cell_type": "code",
   "execution_count": 167,
   "id": "524aca5a-ead5-4b11-8e71-18c1270ab4d4",
   "metadata": {},
   "outputs": [
    {
     "name": "stdout",
     "output_type": "stream",
     "text": [
      "Accuracy: 96.61 %\n",
      "Standard Deviation: 0.28 %\n"
     ]
    }
   ],
   "source": [
    "from sklearn.model_selection import cross_val_score\n",
    "accuracies = cross_val_score(estimator = classifier, X = X_train, y = y_train, cv = 10)\n",
    "print(\"Accuracy: {:.2f} %\".format(accuracies.mean()*100))\n",
    "print(\"Standard Deviation: {:.2f} %\".format(accuracies.std()*100))"
   ]
  },
  {
   "cell_type": "code",
   "execution_count": 177,
   "id": "396f8d73-c1fb-4635-8e6d-9315d33aff17",
   "metadata": {},
   "outputs": [],
   "source": [
    "bankrupt_sample = fe[fe[\"Bankrupt?\"] == 0][0:220]\n",
    "non_bankrupt_sample = fe[fe['Bankrupt?'] == 1]"
   ]
  },
  {
   "cell_type": "code",
   "execution_count": 180,
   "id": "7835ae84-84a6-40b8-ad5a-d2150e176a1e",
   "metadata": {},
   "outputs": [
    {
     "data": {
      "text/html": [
       "<div>\n",
       "<style scoped>\n",
       "    .dataframe tbody tr th:only-of-type {\n",
       "        vertical-align: middle;\n",
       "    }\n",
       "\n",
       "    .dataframe tbody tr th {\n",
       "        vertical-align: top;\n",
       "    }\n",
       "\n",
       "    .dataframe thead th {\n",
       "        text-align: right;\n",
       "    }\n",
       "</style>\n",
       "<table border=\"1\" class=\"dataframe\">\n",
       "  <thead>\n",
       "    <tr style=\"text-align: right;\">\n",
       "      <th></th>\n",
       "      <th>Bankrupt?</th>\n",
       "      <th>WC/TA</th>\n",
       "      <th>RE/TA</th>\n",
       "      <th>NI/TA</th>\n",
       "      <th>EV/TL</th>\n",
       "      <th>S/TA</th>\n",
       "    </tr>\n",
       "  </thead>\n",
       "  <tbody>\n",
       "    <tr>\n",
       "      <th>6</th>\n",
       "      <td>0</td>\n",
       "      <td>0.729416</td>\n",
       "      <td>0.911441</td>\n",
       "      <td>0.736619</td>\n",
       "      <td>3.435891</td>\n",
       "      <td>0.938735</td>\n",
       "    </tr>\n",
       "    <tr>\n",
       "      <th>7</th>\n",
       "      <td>0</td>\n",
       "      <td>0.797005</td>\n",
       "      <td>0.935449</td>\n",
       "      <td>0.815350</td>\n",
       "      <td>7.743335</td>\n",
       "      <td>0.955301</td>\n",
       "    </tr>\n",
       "    <tr>\n",
       "      <th>8</th>\n",
       "      <td>0</td>\n",
       "      <td>0.813738</td>\n",
       "      <td>0.935200</td>\n",
       "      <td>0.803647</td>\n",
       "      <td>14.701802</td>\n",
       "      <td>0.967677</td>\n",
       "    </tr>\n",
       "    <tr>\n",
       "      <th>9</th>\n",
       "      <td>0</td>\n",
       "      <td>0.825696</td>\n",
       "      <td>0.938290</td>\n",
       "      <td>0.804195</td>\n",
       "      <td>6.828879</td>\n",
       "      <td>0.958092</td>\n",
       "    </tr>\n",
       "    <tr>\n",
       "      <th>10</th>\n",
       "      <td>0</td>\n",
       "      <td>0.751204</td>\n",
       "      <td>0.942829</td>\n",
       "      <td>0.814111</td>\n",
       "      <td>7.911721</td>\n",
       "      <td>0.957380</td>\n",
       "    </tr>\n",
       "    <tr>\n",
       "      <th>...</th>\n",
       "      <td>...</td>\n",
       "      <td>...</td>\n",
       "      <td>...</td>\n",
       "      <td>...</td>\n",
       "      <td>...</td>\n",
       "      <td>...</td>\n",
       "    </tr>\n",
       "    <tr>\n",
       "      <th>6591</th>\n",
       "      <td>1</td>\n",
       "      <td>0.764816</td>\n",
       "      <td>0.873937</td>\n",
       "      <td>0.725750</td>\n",
       "      <td>3.470008</td>\n",
       "      <td>0.943768</td>\n",
       "    </tr>\n",
       "    <tr>\n",
       "      <th>6640</th>\n",
       "      <td>1</td>\n",
       "      <td>0.723172</td>\n",
       "      <td>0.777637</td>\n",
       "      <td>0.519388</td>\n",
       "      <td>0.845533</td>\n",
       "      <td>0.955902</td>\n",
       "    </tr>\n",
       "    <tr>\n",
       "      <th>6641</th>\n",
       "      <td>1</td>\n",
       "      <td>0.740426</td>\n",
       "      <td>0.852516</td>\n",
       "      <td>0.557733</td>\n",
       "      <td>2.615831</td>\n",
       "      <td>0.906974</td>\n",
       "    </tr>\n",
       "    <tr>\n",
       "      <th>6642</th>\n",
       "      <td>1</td>\n",
       "      <td>0.720006</td>\n",
       "      <td>0.879445</td>\n",
       "      <td>0.641804</td>\n",
       "      <td>2.592166</td>\n",
       "      <td>0.966321</td>\n",
       "    </tr>\n",
       "    <tr>\n",
       "      <th>6728</th>\n",
       "      <td>1</td>\n",
       "      <td>0.769527</td>\n",
       "      <td>0.933467</td>\n",
       "      <td>0.800780</td>\n",
       "      <td>4.916611</td>\n",
       "      <td>0.947146</td>\n",
       "    </tr>\n",
       "  </tbody>\n",
       "</table>\n",
       "<p>440 rows × 6 columns</p>\n",
       "</div>"
      ],
      "text/plain": [
       "      Bankrupt?     WC/TA     RE/TA     NI/TA      EV/TL      S/TA\n",
       "6             0  0.729416  0.911441  0.736619   3.435891  0.938735\n",
       "7             0  0.797005  0.935449  0.815350   7.743335  0.955301\n",
       "8             0  0.813738  0.935200  0.803647  14.701802  0.967677\n",
       "9             0  0.825696  0.938290  0.804195   6.828879  0.958092\n",
       "10            0  0.751204  0.942829  0.814111   7.911721  0.957380\n",
       "...         ...       ...       ...       ...        ...       ...\n",
       "6591          1  0.764816  0.873937  0.725750   3.470008  0.943768\n",
       "6640          1  0.723172  0.777637  0.519388   0.845533  0.955902\n",
       "6641          1  0.740426  0.852516  0.557733   2.615831  0.906974\n",
       "6642          1  0.720006  0.879445  0.641804   2.592166  0.966321\n",
       "6728          1  0.769527  0.933467  0.800780   4.916611  0.947146\n",
       "\n",
       "[440 rows x 6 columns]"
      ]
     },
     "execution_count": 180,
     "metadata": {},
     "output_type": "execute_result"
    }
   ],
   "source": [
    "new_df = pd.concat([bankrupt_sample,non_bankrupt_sample],axis = 0)\n",
    "new_df"
   ]
  },
  {
   "cell_type": "code",
   "execution_count": 181,
   "id": "c533b0a2-7705-48bc-be07-63e345545487",
   "metadata": {},
   "outputs": [],
   "source": [
    "X = new_df.drop('Bankrupt?', axis = 1)\n",
    "y = new_df['Bankrupt?']"
   ]
  },
  {
   "cell_type": "code",
   "execution_count": 182,
   "id": "a2d49c58-101c-43e6-b657-242c3f648751",
   "metadata": {},
   "outputs": [
    {
     "data": {
      "text/plain": [
       "((352, 5), (88, 5), (352,), (88,))"
      ]
     },
     "execution_count": 182,
     "metadata": {},
     "output_type": "execute_result"
    }
   ],
   "source": [
    "X_train, X_test, y_train, y_test = train_test_split(\n",
    "    X, y, test_size = 0.2, random_state = 777\n",
    ")\n",
    "X_train.shape, X_test.shape, y_train.shape, y_test.shape"
   ]
  },
  {
   "cell_type": "code",
   "execution_count": 183,
   "id": "cee4b6f9-65cd-4638-81a4-eb4c1464a5f0",
   "metadata": {},
   "outputs": [
    {
     "name": "stdout",
     "output_type": "stream",
     "text": [
      "Model Accuracy is:  0.8181818181818182\n"
     ]
    },
    {
     "data": {
      "text/plain": [
       "<AxesSubplot:>"
      ]
     },
     "execution_count": 183,
     "metadata": {},
     "output_type": "execute_result"
    },
    {
     "data": {
      "image/png": "[encoded data removed]",
      "text/plain": [
       "<Figure size 1584x720 with 2 Axes>"
      ]
     },
     "metadata": {},
     "output_type": "display_data"
    }
   ],
   "source": [
    "clf = RandomForestClassifier(n_estimators=100, random_state = 777)\n",
    "# fit the model to the training set\n",
    "clf.fit(X_train, y_train)\n",
    "y_pred = clf.predict(X_test)\n",
    "print('Model Accuracy is: ',accuracy_score(y_pred,y_test))\n",
    "cm = confusion_matrix(y_test,clf.predict(X_test))\n",
    "sns.heatmap(cm,annot=True,fmt=\"\",cmap='Blues')"
   ]
  },
  {
   "cell_type": "code",
   "execution_count": 185,
   "id": "60e49dab-901a-4a53-ab07-c66f3303ec76",
   "metadata": {},
   "outputs": [],
   "source": [
    "from sklearn.metrics import recall_score, confusion_matrix, precision_score, f1_score, accuracy_score, classification_report"
   ]
  },
  {
   "cell_type": "code",
   "execution_count": 187,
   "id": "0c534c7c-51a6-453b-898b-6452f116bfa4",
   "metadata": {},
   "outputs": [
    {
     "name": "stdout",
     "output_type": "stream",
     "text": [
      "Logistic Regression accuracy is : 0.8863636363636364\n",
      "----------------------------------------------------------------------------------------------------\n",
      "              precision    recall  f1-score   support\n",
      "\n",
      "           0       0.93      0.85      0.89        46\n",
      "           1       0.85      0.93      0.89        42\n",
      "\n",
      "    accuracy                           0.89        88\n",
      "   macro avg       0.89      0.89      0.89        88\n",
      "weighted avg       0.89      0.89      0.89        88\n",
      "\n"
     ]
    },
    {
     "data": {
      "text/plain": [
       "<AxesSubplot:>"
      ]
     },
     "execution_count": 187,
     "metadata": {},
     "output_type": "execute_result"
    },
    {
     "data": {
      "image/png": "[encoded data removed]",
      "text/plain": [
       "<Figure size 1584x720 with 2 Axes>"
      ]
     },
     "metadata": {},
     "output_type": "display_data"
    }
   ],
   "source": [
    "lr_model = LogisticRegression()\n",
    "lr_model.fit(X_train,y_train)\n",
    "accuracy_lr = lr_model.score(X_test,y_test)\n",
    "print(\"Logistic Regression accuracy is :\",accuracy_lr)\n",
    "lr_pred= lr_model.predict(X_test)\n",
    "report = classification_report(y_test,lr_pred)\n",
    "print(\"-\"*100)\n",
    "print(report)\n",
    "cm = confusion_matrix(y_test,lr_model.predict(X_test))\n",
    "sns.heatmap(cm,annot=True,fmt=\"d\",cmap = \"Blues\")"
   ]
  },
  {
   "cell_type": "code",
   "execution_count": 188,
   "id": "b6f7ee4f-4f57-4f80-828d-ca2c7d4cbc17",
   "metadata": {},
   "outputs": [
    {
     "name": "stdout",
     "output_type": "stream",
     "text": [
      "Decision Tree accuracy is : 0.8068181818181818\n"
     ]
    },
    {
     "data": {
      "text/plain": [
       "<AxesSubplot:>"
      ]
     },
     "execution_count": 188,
     "metadata": {},
     "output_type": "execute_result"
    },
    {
     "data": {
      "image/png": "[encoded data removed]",
      "text/plain": [
       "<Figure size 1584x720 with 2 Axes>"
      ]
     },
     "metadata": {},
     "output_type": "display_data"
    }
   ],
   "source": [
    "dt = DecisionTreeClassifier()\n",
    "dt.fit(X_train,y_train)\n",
    "y_pred = dt.predict(X_test)\n",
    "accuracy = dt.score(X_test,y_test)\n",
    "print(\"Decision Tree accuracy is :\",accuracy)\n",
    "cm = confusion_matrix(y_test,dt.predict(X_test))\n",
    "sns.heatmap(cm,annot=True,fmt=\"d\", cmap = 'copper')"
   ]
  },
  {
   "cell_type": "code",
   "execution_count": 191,
   "id": "a5ac7959-46cf-4eee-8d66-01196b55e11f",
   "metadata": {},
   "outputs": [
    {
     "name": "stdout",
     "output_type": "stream",
     "text": [
      "Gradient Boosting Classifier 0.8181818181818182\n"
     ]
    },
    {
     "data": {
      "text/plain": [
       "<AxesSubplot:>"
      ]
     },
     "execution_count": 191,
     "metadata": {},
     "output_type": "execute_result"
    },
    {
     "data": {
      "image/png": "[encoded data removed]",
      "text/plain": [
       "<Figure size 1584x720 with 2 Axes>"
      ]
     },
     "metadata": {},
     "output_type": "display_data"
    }
   ],
   "source": [
    "gb = GradientBoostingClassifier()\n",
    "gb.fit(X_train, y_train)\n",
    "gb_pred = gb.predict(X_test)\n",
    "print(\"Gradient Boosting Classifier\", accuracy_score(y_test, gb_pred))\n",
    "cm = confusion_matrix(y_test,gb.predict(X_test))\n",
    "sns.heatmap(cm,annot=True,fmt=\"d\", cmap = 'copper')"
   ]
  },
  {
   "cell_type": "code",
   "execution_count": 190,
   "id": "c475fe2e-d49a-4412-b0ef-820c1ce1c413",
   "metadata": {},
   "outputs": [],
   "source": [
    "from sklearn.ensemble import GradientBoostingClassifier"
   ]
  },
  {
   "cell_type": "code",
   "execution_count": 197,
   "id": "1266cafc-7a6a-40ec-b691-ce9cfb52dbf9",
   "metadata": {},
   "outputs": [
    {
     "name": "stdout",
     "output_type": "stream",
     "text": [
      "Requirement already satisfied: imblearn in /Users/bennysun/opt/anaconda3/lib/python3.9/site-packages (0.0)\n",
      "Requirement already satisfied: imbalanced-learn in /Users/bennysun/opt/anaconda3/lib/python3.9/site-packages (from imblearn) (0.9.1)\n",
      "Requirement already satisfied: joblib>=1.0.0 in /Users/bennysun/opt/anaconda3/lib/python3.9/site-packages (from imbalanced-learn->imblearn) (1.1.0)\n",
      "Requirement already satisfied: scikit-learn>=1.1.0 in /Users/bennysun/opt/anaconda3/lib/python3.9/site-packages (from imbalanced-learn->imblearn) (1.1.1)\n",
      "Requirement already satisfied: scipy>=1.3.2 in /Users/bennysun/opt/anaconda3/lib/python3.9/site-packages (from imbalanced-learn->imblearn) (1.7.1)\n",
      "Requirement already satisfied: threadpoolctl>=2.0.0 in /Users/bennysun/opt/anaconda3/lib/python3.9/site-packages (from imbalanced-learn->imblearn) (2.2.0)\n",
      "Requirement already satisfied: numpy>=1.17.3 in /Users/bennysun/opt/anaconda3/lib/python3.9/site-packages (from imbalanced-learn->imblearn) (1.20.3)\n",
      "Note: you may need to restart the kernel to use updated packages.\n"
     ]
    }
   ],
   "source": [
    "pip install imblearn"
   ]
  },
  {
   "cell_type": "code",
   "execution_count": 1,
   "id": "c1d928c7-28ea-4c02-be8d-35f280621b4d",
   "metadata": {},
   "outputs": [],
   "source": [
    "from imblearn.over_sampling import SMOTE"
   ]
  },
  {
   "cell_type": "code",
   "execution_count": 14,
   "id": "8d1f50b4-23ff-41b6-8e94-6e7da1b762f2",
   "metadata": {},
   "outputs": [],
   "source": [
    "from sklearn.preprocessing import StandardScaler"
   ]
  },
  {
   "cell_type": "code",
   "execution_count": 15,
   "id": "b251471a-50e9-4cdb-8839-7fd4cbfec4c4",
   "metadata": {},
   "outputs": [],
   "source": [
    "X = fe.drop('Bankrupt?', axis = 1)\n",
    "y = fe['Bankrupt?']"
   ]
  },
  {
   "cell_type": "code",
   "execution_count": 16,
   "id": "f5560b61-5a8b-4d11-91fe-8ec784565da3",
   "metadata": {},
   "outputs": [],
   "source": [
    "sc = StandardScaler()"
   ]
  },
  {
   "cell_type": "code",
   "execution_count": 17,
   "id": "a42f43fc-7288-424f-beea-23e183d1f7ed",
   "metadata": {},
   "outputs": [],
   "source": [
    "X = sc.fit_transform(X)"
   ]
  },
  {
   "cell_type": "code",
   "execution_count": 18,
   "id": "74e188e0-e10f-4ba0-b357-5ea3b05373a0",
   "metadata": {},
   "outputs": [],
   "source": [
    "sm = SMOTE(random_state=123)"
   ]
  },
  {
   "cell_type": "code",
   "execution_count": 19,
   "id": "16920f7b-44c9-4bfc-9053-d793870228dd",
   "metadata": {},
   "outputs": [],
   "source": [
    "X_sm , y_sm = sm.fit_resample(X,y)"
   ]
  },
  {
   "cell_type": "code",
   "execution_count": 26,
   "id": "a5db4f5a-5aac-4bbe-8074-9f90a4d35a86",
   "metadata": {},
   "outputs": [
    {
     "data": {
      "text/plain": [
       "6       0\n",
       "7       0\n",
       "8       0\n",
       "9       0\n",
       "10      0\n",
       "       ..\n",
       "6812    0\n",
       "6813    0\n",
       "6814    0\n",
       "6815    0\n",
       "6816    0\n",
       "Name: Bankrupt?, Length: 6597, dtype: int64"
      ]
     },
     "execution_count": 26,
     "metadata": {},
     "output_type": "execute_result"
    }
   ],
   "source": []
  },
  {
   "cell_type": "code",
   "execution_count": 28,
   "id": "6777ffe5-51d3-48be-9a45-8c11654c7db6",
   "metadata": {},
   "outputs": [],
   "source": [
    "X_train, X_test, y_train, y_test = train_test_split(\n",
    "    X_sm,\n",
    "    y_sm,\n",
    "    test_size = .2,\n",
    "    random_state = 777)"
   ]
  },
  {
   "cell_type": "code",
   "execution_count": 32,
   "id": "bb9cdd01-0068-4db8-bccb-5d894b01b363",
   "metadata": {},
   "outputs": [],
   "source": [
    "from sklearn.tree import DecisionTreeClassifier\n",
    "from sklearn.ensemble import RandomForestClassifier\n",
    "from sklearn.ensemble import AdaBoostClassifier\n",
    "from sklearn.ensemble import GradientBoostingClassifier\n",
    "from sklearn.linear_model import LogisticRegression\n",
    "from sklearn.metrics import recall_score, confusion_matrix, precision_score, f1_score, accuracy_score, classification_report"
   ]
  },
  {
   "cell_type": "code",
   "execution_count": 43,
   "id": "b4fedd97-2ae2-44fe-a385-f6ea92d7178f",
   "metadata": {},
   "outputs": [
    {
     "name": "stdout",
     "output_type": "stream",
     "text": [
      "Random Forest Model Accuracy is:  0.9552860932171277\n"
     ]
    },
    {
     "data": {
      "text/plain": [
       "<AxesSubplot:>"
      ]
     },
     "execution_count": 43,
     "metadata": {},
     "output_type": "execute_result"
    },
    {
     "data": {
      "image/png": "[encoded data removed]",
      "text/plain": [
       "<Figure size 432x288 with 2 Axes>"
      ]
     },
     "metadata": {
      "needs_background": "light"
     },
     "output_type": "display_data"
    }
   ],
   "source": [
    "clf = RandomForestClassifier(n_estimators=100, random_state = 777)\n",
    "# fit the model to the training set\n",
    "clf.fit(X_train, y_train)\n",
    "y_pred = clf.predict(X_test)\n",
    "print('Random Forest Model Accuracy is: ',accuracy_score(y_pred,y_test))\n",
    "cm = confusion_matrix(y_test,clf.predict(X_test))\n",
    "sns.heatmap(cm,annot=True,fmt=\"\",cmap='Blues')"
   ]
  },
  {
   "cell_type": "code",
   "execution_count": 34,
   "id": "e3b97fc3-d800-4f68-823b-530a5d1582c8",
   "metadata": {},
   "outputs": [
    {
     "name": "stdout",
     "output_type": "stream",
     "text": [
      "AdaBoost Classifier Model Accuracy: 0.8783630162940508\n"
     ]
    },
    {
     "data": {
      "text/plain": [
       "<AxesSubplot:>"
      ]
     },
     "execution_count": 34,
     "metadata": {},
     "output_type": "execute_result"
    },
    {
     "data": {
      "image/png": "[encoded data removed]",
      "text/plain": [
       "<Figure size 432x288 with 2 Axes>"
      ]
     },
     "metadata": {
      "needs_background": "light"
     },
     "output_type": "display_data"
    }
   ],
   "source": [
    "abc = AdaBoostClassifier(n_estimators = 50,\n",
    "                         learning_rate = 1,\n",
    "                         random_state = 0)\n",
    "abc.fit(X_train, y_train)\n",
    "y_pred_abc = abc.predict(X_test)\n",
    "print(\"AdaBoost Classifier Model Accuracy:\",\n",
    "      accuracy_score(y_test, y_pred_abc))\n",
    "cm = confusion_matrix(y_test,abc.predict(X_test))\n",
    "sns.heatmap(cm,annot=True,fmt=\"d\")"
   ]
  },
  {
   "cell_type": "code",
   "execution_count": 40,
   "id": "7d416d9c-f13a-4ee6-934d-de0822ad0f70",
   "metadata": {},
   "outputs": [
    {
     "name": "stdout",
     "output_type": "stream",
     "text": [
      "Gradient Boosting Classifier Accuracy is:  0.9022356953391436\n"
     ]
    },
    {
     "data": {
      "text/plain": [
       "<AxesSubplot:>"
      ]
     },
     "execution_count": 40,
     "metadata": {},
     "output_type": "execute_result"
    },
    {
     "data": {
      "image/png": "[encoded data removed]",
      "text/plain": [
       "<Figure size 432x288 with 2 Axes>"
      ]
     },
     "metadata": {
      "needs_background": "light"
     },
     "output_type": "display_data"
    }
   ],
   "source": [
    "gb = GradientBoostingClassifier()\n",
    "gb.fit(X_train, y_train)\n",
    "gb_pred = gb.predict(X_test)\n",
    "\n",
    "print(\"Gradient Boosting Classifier Accuracy is: \", accuracy_score(y_test, gb_pred))\n",
    "cm = confusion_matrix(y_test,gb.predict(X_test))\n",
    "sns.heatmap(cm,annot=True,fmt=\"d\", cmap = 'copper')"
   ]
  },
  {
   "cell_type": "code",
   "execution_count": 41,
   "id": "7e8f90bb-b041-4f72-8ee4-b7060a214580",
   "metadata": {},
   "outputs": [
    {
     "name": "stdout",
     "output_type": "stream",
     "text": [
      "Decision Tree Classifier Accuracy is:  0.9022356953391436\n"
     ]
    },
    {
     "data": {
      "text/plain": [
       "<AxesSubplot:>"
      ]
     },
     "execution_count": 41,
     "metadata": {},
     "output_type": "execute_result"
    },
    {
     "data": {
      "image/png": "[encoded data removed]",
      "text/plain": [
       "<Figure size 432x288 with 2 Axes>"
      ]
     },
     "metadata": {
      "needs_background": "light"
     },
     "output_type": "display_data"
    }
   ],
   "source": [
    "tree = DecisionTreeClassifier()\n",
    "tree.fit(X_train, y_train)\n",
    "tree_pred = tree.predict(X_test)\n",
    "print(\"Decision Tree Classifier Accuracy is: \", accuracy_score(y_test, gb_pred))\n",
    "cm = confusion_matrix(y_test,tree_pred)\n",
    "sns.heatmap(cm,annot=True,fmt=\"d\", cmap = 'copper')"
   ]
  },
  {
   "cell_type": "code",
   "execution_count": 37,
   "id": "21aacf56-269d-46ff-adf8-bbfa975e1a99",
   "metadata": {},
   "outputs": [],
   "source": [
    "from sklearn.ensemble import VotingClassifier"
   ]
  },
  {
   "cell_type": "code",
   "execution_count": 45,
   "id": "be827da7-a189-4f2e-951c-c84ca1f09be0",
   "metadata": {},
   "outputs": [
    {
     "name": "stdout",
     "output_type": "stream",
     "text": [
      "Voting Accuracy Score is:\n",
      "0.9344448654793482\n"
     ]
    },
    {
     "data": {
      "text/plain": [
       "<AxesSubplot:>"
      ]
     },
     "execution_count": 45,
     "metadata": {},
     "output_type": "execute_result"
    },
    {
     "data": {
      "image/png": "[encoded data removed]",
      "text/plain": [
       "<Figure size 432x288 with 2 Axes>"
      ]
     },
     "metadata": {
      "needs_background": "light"
     },
     "output_type": "display_data"
    }
   ],
   "source": [
    "clf1 = GradientBoostingClassifier()\n",
    "clf2 = RandomForestClassifier()\n",
    "clf3 = AdaBoostClassifier()\n",
    "eclf2 = VotingClassifier(estimators=[('gbc', clf1), ('rfc', clf2), ('abc', clf3)], voting='soft')\n",
    "eclf2.fit(X_train, y_train)\n",
    "predictions = eclf2.predict(X_test)\n",
    "print(\"Voting Accuracy Score is:\")\n",
    "print(accuracy_score(y_test, predictions))\n",
    "cm = confusion_matrix(y_test,eclf2.predict(X_test))\n",
    "sns.heatmap(cm,annot=True,fmt=\"d\", cmap = 'Blues')"
   ]
  },
  {
   "cell_type": "code",
   "execution_count": 42,
   "id": "4537e206-6f99-43b8-ada9-4039e04341c9",
   "metadata": {},
   "outputs": [],
   "source": [
    "from sklearn.metrics import roc_auc_score"
   ]
  },
  {
   "cell_type": "code",
   "execution_count": 47,
   "id": "1b80ac26-ba5f-49c2-b044-e08fbcf9160a",
   "metadata": {},
   "outputs": [
    {
     "data": {
      "text/plain": [
       "0.9338578470235428"
      ]
     },
     "execution_count": 47,
     "metadata": {},
     "output_type": "execute_result"
    }
   ],
   "source": [
    "roc_auc_score(y_test, predictions)"
   ]
  },
  {
   "cell_type": "code",
   "execution_count": null,
   "id": "e4f98044-84e2-419e-a328-c64945546339",
   "metadata": {},
   "outputs": [],
   "source": []
  }
 ],
 "metadata": {
  "kernelspec": {
   "display_name": "Python 3 (ipykernel)",
   "language": "python",
   "name": "python3"
  },
  "language_info": {
   "codemirror_mode": {
    "name": "ipython",
    "version": 3
   },
   "file_extension": ".py",
   "mimetype": "text/x-python",
   "name": "python",
   "nbconvert_exporter": "python",
   "pygments_lexer": "ipython3",
   "version": "3.9.7"
  }
 },
 "nbformat": 4,
 "nbformat_minor": 5
}
